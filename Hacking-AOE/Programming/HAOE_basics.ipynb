{
  "nbformat": 4,
  "nbformat_minor": 0,
  "metadata": {
    "colab": {
      "provenance": []
    },
    "kernelspec": {
      "name": "python3",
      "display_name": "Python 3"
    },
    "language_info": {
      "name": "python"
    }
  },
  "cells": [
    {
      "cell_type": "code",
      "source": [
        "!sudo apt install gdb"
      ],
      "metadata": {
        "colab": {
          "base_uri": "https://localhost:8080/"
        },
        "id": "-rx-WmaU0q6A",
        "outputId": "b54bede5-1d67-480a-e5f2-39e329e8b40e"
      },
      "execution_count": 1,
      "outputs": [
        {
          "output_type": "stream",
          "name": "stdout",
          "text": [
            "Reading package lists... Done\n",
            "Building dependency tree... Done\n",
            "Reading state information... Done\n",
            "The following additional packages will be installed:\n",
            "  libbabeltrace1 libc6-dbg libdebuginfod-common libdebuginfod1 libipt2\n",
            "  libsource-highlight-common libsource-highlight4v5\n",
            "Suggested packages:\n",
            "  gdb-doc gdbserver\n",
            "The following NEW packages will be installed:\n",
            "  gdb libbabeltrace1 libc6-dbg libdebuginfod-common libdebuginfod1 libipt2\n",
            "  libsource-highlight-common libsource-highlight4v5\n",
            "0 upgraded, 8 newly installed, 0 to remove and 45 not upgraded.\n",
            "Need to get 18.3 MB of archives.\n",
            "After this operation, 32.0 MB of additional disk space will be used.\n",
            "Get:1 http://archive.ubuntu.com/ubuntu jammy/main amd64 libdebuginfod-common all 0.186-1build1 [7,878 B]\n",
            "Get:2 http://archive.ubuntu.com/ubuntu jammy/main amd64 libbabeltrace1 amd64 1.5.8-2build1 [160 kB]\n",
            "Get:3 http://archive.ubuntu.com/ubuntu jammy/main amd64 libdebuginfod1 amd64 0.186-1build1 [12.7 kB]\n",
            "Get:4 http://archive.ubuntu.com/ubuntu jammy/main amd64 libipt2 amd64 2.0.5-1 [46.4 kB]\n",
            "Get:5 http://archive.ubuntu.com/ubuntu jammy/main amd64 libsource-highlight-common all 3.1.9-4.1build2 [64.5 kB]\n",
            "Get:6 http://archive.ubuntu.com/ubuntu jammy/main amd64 libsource-highlight4v5 amd64 3.1.9-4.1build2 [207 kB]\n",
            "Get:7 http://archive.ubuntu.com/ubuntu jammy-updates/main amd64 gdb amd64 12.1-0ubuntu1~22.04 [3,919 kB]\n",
            "Get:8 http://archive.ubuntu.com/ubuntu jammy-updates/main amd64 libc6-dbg amd64 2.35-0ubuntu3.6 [13.8 MB]\n",
            "Fetched 18.3 MB in 2s (7,740 kB/s)\n",
            "debconf: unable to initialize frontend: Dialog\n",
            "debconf: (No usable dialog-like program is installed, so the dialog based frontend cannot be used. at /usr/share/perl5/Debconf/FrontEnd/Dialog.pm line 78, <> line 8.)\n",
            "debconf: falling back to frontend: Readline\n",
            "debconf: unable to initialize frontend: Readline\n",
            "debconf: (This frontend requires a controlling tty.)\n",
            "debconf: falling back to frontend: Teletype\n",
            "dpkg-preconfigure: unable to re-open stdin: \n",
            "Selecting previously unselected package libdebuginfod-common.\n",
            "(Reading database ... 121752 files and directories currently installed.)\n",
            "Preparing to unpack .../0-libdebuginfod-common_0.186-1build1_all.deb ...\n",
            "Unpacking libdebuginfod-common (0.186-1build1) ...\n",
            "Selecting previously unselected package libbabeltrace1:amd64.\n",
            "Preparing to unpack .../1-libbabeltrace1_1.5.8-2build1_amd64.deb ...\n",
            "Unpacking libbabeltrace1:amd64 (1.5.8-2build1) ...\n",
            "Selecting previously unselected package libdebuginfod1:amd64.\n",
            "Preparing to unpack .../2-libdebuginfod1_0.186-1build1_amd64.deb ...\n",
            "Unpacking libdebuginfod1:amd64 (0.186-1build1) ...\n",
            "Selecting previously unselected package libipt2.\n",
            "Preparing to unpack .../3-libipt2_2.0.5-1_amd64.deb ...\n",
            "Unpacking libipt2 (2.0.5-1) ...\n",
            "Selecting previously unselected package libsource-highlight-common.\n",
            "Preparing to unpack .../4-libsource-highlight-common_3.1.9-4.1build2_all.deb ...\n",
            "Unpacking libsource-highlight-common (3.1.9-4.1build2) ...\n",
            "Selecting previously unselected package libsource-highlight4v5.\n",
            "Preparing to unpack .../5-libsource-highlight4v5_3.1.9-4.1build2_amd64.deb ...\n",
            "Unpacking libsource-highlight4v5 (3.1.9-4.1build2) ...\n",
            "Selecting previously unselected package gdb.\n",
            "Preparing to unpack .../6-gdb_12.1-0ubuntu1~22.04_amd64.deb ...\n",
            "Unpacking gdb (12.1-0ubuntu1~22.04) ...\n",
            "Selecting previously unselected package libc6-dbg:amd64.\n",
            "Preparing to unpack .../7-libc6-dbg_2.35-0ubuntu3.6_amd64.deb ...\n",
            "Unpacking libc6-dbg:amd64 (2.35-0ubuntu3.6) ...\n",
            "Setting up libdebuginfod-common (0.186-1build1) ...\n",
            "debconf: unable to initialize frontend: Dialog\n",
            "debconf: (No usable dialog-like program is installed, so the dialog based frontend cannot be used. at /usr/share/perl5/Debconf/FrontEnd/Dialog.pm line 78.)\n",
            "debconf: falling back to frontend: Readline\n",
            "\n",
            "Creating config file /etc/profile.d/debuginfod.sh with new version\n",
            "\n",
            "Creating config file /etc/profile.d/debuginfod.csh with new version\n",
            "Setting up libdebuginfod1:amd64 (0.186-1build1) ...\n",
            "Setting up libsource-highlight-common (3.1.9-4.1build2) ...\n",
            "Setting up libc6-dbg:amd64 (2.35-0ubuntu3.6) ...\n",
            "Setting up libipt2 (2.0.5-1) ...\n",
            "Setting up libbabeltrace1:amd64 (1.5.8-2build1) ...\n",
            "Setting up libsource-highlight4v5 (3.1.9-4.1build2) ...\n",
            "Setting up gdb (12.1-0ubuntu1~22.04) ...\n",
            "Processing triggers for man-db (2.10.2-1) ...\n",
            "Processing triggers for libc-bin (2.35-0ubuntu3.4) ...\n",
            "/sbin/ldconfig.real: /usr/local/lib/libtbbmalloc.so.2 is not a symbolic link\n",
            "\n",
            "/sbin/ldconfig.real: /usr/local/lib/libtbbbind_2_0.so.3 is not a symbolic link\n",
            "\n",
            "/sbin/ldconfig.real: /usr/local/lib/libtbbmalloc_proxy.so.2 is not a symbolic link\n",
            "\n",
            "/sbin/ldconfig.real: /usr/local/lib/libtbb.so.12 is not a symbolic link\n",
            "\n",
            "/sbin/ldconfig.real: /usr/local/lib/libtbbbind_2_5.so.3 is not a symbolic link\n",
            "\n",
            "/sbin/ldconfig.real: /usr/local/lib/libtbbbind.so.3 is not a symbolic link\n",
            "\n"
          ]
        }
      ]
    },
    {
      "cell_type": "code",
      "execution_count": null,
      "metadata": {
        "colab": {
          "base_uri": "https://localhost:8080/"
        },
        "id": "ipvJECiMm_v4",
        "outputId": "f24cca24-dd32-4e01-8152-2e8c5af376cd"
      },
      "outputs": [
        {
          "output_type": "stream",
          "name": "stdout",
          "text": [
            "Writing char_array.c\n"
          ]
        }
      ],
      "source": [
        "%%writefile char_array.c\n",
        "#include <stdio.h>\n",
        "int main()\n",
        "{\n",
        " char str_a[20];\n",
        " str_a[0] = 'H';\n",
        " str_a[1] = 'e';\n",
        " str_a[2] = 'l';\n",
        " str_a[3] = 'l';\n",
        " str_a[4] = 'o';\n",
        " str_a[5] = ',';\n",
        " str_a[6] = ' ';\n",
        " str_a[7] = 'w';\n",
        " str_a[8] = 'o';\n",
        " str_a[9] = 'r';\n",
        " str_a[10] = 'l';\n",
        " str_a[11] = 'd';\n",
        " str_a[12] = '!';\n",
        " str_a[13] = '\\n';\n",
        " str_a[14] = 0;\n",
        " printf(str_a);\n",
        "}"
      ]
    },
    {
      "cell_type": "code",
      "source": [
        "! gcc -o char_array char_array.c"
      ],
      "metadata": {
        "colab": {
          "base_uri": "https://localhost:8080/"
        },
        "id": "dsPEkv6CniO1",
        "outputId": "8457777a-779c-4332-c733-8e72ce6bf7c6"
      },
      "execution_count": null,
      "outputs": [
        {
          "output_type": "stream",
          "name": "stdout",
          "text": [
            "\u001b[01m\u001b[Kchar_array.c:\u001b[m\u001b[K In function ‘\u001b[01m\u001b[Kmain\u001b[m\u001b[K’:\n",
            "\u001b[01m\u001b[Kchar_array.c:20:9:\u001b[m\u001b[K \u001b[01;35m\u001b[Kwarning: \u001b[m\u001b[Kformat not a string literal and no format arguments [\u001b[01;35m\u001b[K\u001b]8;;https://gcc.gnu.org/onlinedocs/gcc/Warning-Options.html#index-Wformat-security\u0007-Wformat-security\u001b]8;;\u0007\u001b[m\u001b[K]\n",
            "   20 |  printf(\u001b[01;35m\u001b[Kstr_a\u001b[m\u001b[K);\n",
            "      |         \u001b[01;35m\u001b[K^~~~~\u001b[m\u001b[K\n"
          ]
        }
      ]
    },
    {
      "cell_type": "code",
      "source": [
        "!./char_array\n"
      ],
      "metadata": {
        "colab": {
          "base_uri": "https://localhost:8080/"
        },
        "id": "JqQaJoGhnmhK",
        "outputId": "6cd9e6e5-f2bb-4ee5-9de8-b29c33ccbc89"
      },
      "execution_count": null,
      "outputs": [
        {
          "output_type": "stream",
          "name": "stdout",
          "text": [
            "Hello, world!\n"
          ]
        }
      ]
    },
    {
      "cell_type": "code",
      "source": [
        "%%writefile char_array2.c\n",
        "#include <stdio.h>\n",
        "#include <string.h>\n",
        "int main() {\n",
        " char str_a[20];\n",
        " strcpy(str_a, \"Hello, world!\\n\");\n",
        " printf(str_a);\n",
        "}"
      ],
      "metadata": {
        "colab": {
          "base_uri": "https://localhost:8080/"
        },
        "id": "rN0wGzS6pPyF",
        "outputId": "97721dee-43eb-454c-e78d-77321983f5a8"
      },
      "execution_count": null,
      "outputs": [
        {
          "output_type": "stream",
          "name": "stdout",
          "text": [
            "Writing char_array2.c\n"
          ]
        }
      ]
    },
    {
      "cell_type": "code",
      "source": [
        "!gcc -g -o char_array2 char_array2.c"
      ],
      "metadata": {
        "colab": {
          "base_uri": "https://localhost:8080/"
        },
        "id": "ky0RYiYxpSy8",
        "outputId": "b4507968-a921-46f3-cc19-3d98ec6712b4"
      },
      "execution_count": null,
      "outputs": [
        {
          "output_type": "stream",
          "name": "stdout",
          "text": [
            "\u001b[01m\u001b[Kchar_array2.c:\u001b[m\u001b[K In function ‘\u001b[01m\u001b[Kmain\u001b[m\u001b[K’:\n",
            "\u001b[01m\u001b[Kchar_array2.c:6:9:\u001b[m\u001b[K \u001b[01;35m\u001b[Kwarning: \u001b[m\u001b[Kformat not a string literal and no format arguments [\u001b[01;35m\u001b[K\u001b]8;;https://gcc.gnu.org/onlinedocs/gcc/Warning-Options.html#index-Wformat-security\u0007-Wformat-security\u001b]8;;\u0007\u001b[m\u001b[K]\n",
            "    6 |  printf(\u001b[01;35m\u001b[Kstr_a\u001b[m\u001b[K);\n",
            "      |         \u001b[01;35m\u001b[K^~~~~\u001b[m\u001b[K\n"
          ]
        }
      ]
    },
    {
      "cell_type": "code",
      "source": [
        "!gdb -q ./char_array2"
      ],
      "metadata": {
        "colab": {
          "base_uri": "https://localhost:8080/"
        },
        "id": "38k0ixwZpeMs",
        "outputId": "e2aecf8d-c561-44ef-def5-fd697ba5542a"
      },
      "execution_count": null,
      "outputs": [
        {
          "output_type": "stream",
          "name": "stdout",
          "text": [
            "/bin/bash: line 1: gdb: command not found\n"
          ]
        }
      ]
    },
    {
      "cell_type": "code",
      "source": [
        "!sudo apt-get install gdb"
      ],
      "metadata": {
        "colab": {
          "base_uri": "https://localhost:8080/"
        },
        "id": "NQU0E05ipnWY",
        "outputId": "93ce27bb-4404-48c0-8a4f-49bccca2eb5e"
      },
      "execution_count": null,
      "outputs": [
        {
          "output_type": "stream",
          "name": "stdout",
          "text": [
            "Reading package lists... Done\n",
            "Building dependency tree... Done\n",
            "Reading state information... Done\n",
            "The following additional packages will be installed:\n",
            "  libbabeltrace1 libc6-dbg libdebuginfod-common libdebuginfod1 libipt2\n",
            "  libsource-highlight-common libsource-highlight4v5\n",
            "Suggested packages:\n",
            "  gdb-doc gdbserver\n",
            "The following NEW packages will be installed:\n",
            "  gdb libbabeltrace1 libc6-dbg libdebuginfod-common libdebuginfod1 libipt2\n",
            "  libsource-highlight-common libsource-highlight4v5\n",
            "0 upgraded, 8 newly installed, 0 to remove and 35 not upgraded.\n",
            "Need to get 18.3 MB of archives.\n",
            "After this operation, 32.0 MB of additional disk space will be used.\n",
            "Get:1 http://archive.ubuntu.com/ubuntu jammy/main amd64 libdebuginfod-common all 0.186-1build1 [7,878 B]\n",
            "Get:2 http://archive.ubuntu.com/ubuntu jammy/main amd64 libbabeltrace1 amd64 1.5.8-2build1 [160 kB]\n",
            "Get:3 http://archive.ubuntu.com/ubuntu jammy/main amd64 libdebuginfod1 amd64 0.186-1build1 [12.7 kB]\n",
            "Get:4 http://archive.ubuntu.com/ubuntu jammy/main amd64 libipt2 amd64 2.0.5-1 [46.4 kB]\n",
            "Get:5 http://archive.ubuntu.com/ubuntu jammy/main amd64 libsource-highlight-common all 3.1.9-4.1build2 [64.5 kB]\n",
            "Get:6 http://archive.ubuntu.com/ubuntu jammy/main amd64 libsource-highlight4v5 amd64 3.1.9-4.1build2 [207 kB]\n",
            "Get:7 http://archive.ubuntu.com/ubuntu jammy-updates/main amd64 gdb amd64 12.1-0ubuntu1~22.04 [3,919 kB]\n",
            "Get:8 http://archive.ubuntu.com/ubuntu jammy-updates/main amd64 libc6-dbg amd64 2.35-0ubuntu3.6 [13.8 MB]\n",
            "Fetched 18.3 MB in 1s (33.5 MB/s)\n",
            "debconf: unable to initialize frontend: Dialog\n",
            "debconf: (No usable dialog-like program is installed, so the dialog based frontend cannot be used. at /usr/share/perl5/Debconf/FrontEnd/Dialog.pm line 78, <> line 8.)\n",
            "debconf: falling back to frontend: Readline\n",
            "debconf: unable to initialize frontend: Readline\n",
            "debconf: (This frontend requires a controlling tty.)\n",
            "debconf: falling back to frontend: Teletype\n",
            "dpkg-preconfigure: unable to re-open stdin: \n",
            "Selecting previously unselected package libdebuginfod-common.\n",
            "(Reading database ... 121749 files and directories currently installed.)\n",
            "Preparing to unpack .../0-libdebuginfod-common_0.186-1build1_all.deb ...\n",
            "Unpacking libdebuginfod-common (0.186-1build1) ...\n",
            "Selecting previously unselected package libbabeltrace1:amd64.\n",
            "Preparing to unpack .../1-libbabeltrace1_1.5.8-2build1_amd64.deb ...\n",
            "Unpacking libbabeltrace1:amd64 (1.5.8-2build1) ...\n",
            "Selecting previously unselected package libdebuginfod1:amd64.\n",
            "Preparing to unpack .../2-libdebuginfod1_0.186-1build1_amd64.deb ...\n",
            "Unpacking libdebuginfod1:amd64 (0.186-1build1) ...\n",
            "Selecting previously unselected package libipt2.\n",
            "Preparing to unpack .../3-libipt2_2.0.5-1_amd64.deb ...\n",
            "Unpacking libipt2 (2.0.5-1) ...\n",
            "Selecting previously unselected package libsource-highlight-common.\n",
            "Preparing to unpack .../4-libsource-highlight-common_3.1.9-4.1build2_all.deb ...\n",
            "Unpacking libsource-highlight-common (3.1.9-4.1build2) ...\n",
            "Selecting previously unselected package libsource-highlight4v5.\n",
            "Preparing to unpack .../5-libsource-highlight4v5_3.1.9-4.1build2_amd64.deb ...\n",
            "Unpacking libsource-highlight4v5 (3.1.9-4.1build2) ...\n",
            "Selecting previously unselected package gdb.\n",
            "Preparing to unpack .../6-gdb_12.1-0ubuntu1~22.04_amd64.deb ...\n",
            "Unpacking gdb (12.1-0ubuntu1~22.04) ...\n",
            "Selecting previously unselected package libc6-dbg:amd64.\n",
            "Preparing to unpack .../7-libc6-dbg_2.35-0ubuntu3.6_amd64.deb ...\n",
            "Unpacking libc6-dbg:amd64 (2.35-0ubuntu3.6) ...\n",
            "Setting up libdebuginfod-common (0.186-1build1) ...\n",
            "debconf: unable to initialize frontend: Dialog\n",
            "debconf: (No usable dialog-like program is installed, so the dialog based frontend cannot be used. at /usr/share/perl5/Debconf/FrontEnd/Dialog.pm line 78.)\n",
            "debconf: falling back to frontend: Readline\n",
            "\n",
            "Creating config file /etc/profile.d/debuginfod.sh with new version\n",
            "\n",
            "Creating config file /etc/profile.d/debuginfod.csh with new version\n",
            "Setting up libdebuginfod1:amd64 (0.186-1build1) ...\n",
            "Setting up libsource-highlight-common (3.1.9-4.1build2) ...\n",
            "Setting up libc6-dbg:amd64 (2.35-0ubuntu3.6) ...\n",
            "Setting up libipt2 (2.0.5-1) ...\n",
            "Setting up libbabeltrace1:amd64 (1.5.8-2build1) ...\n",
            "Setting up libsource-highlight4v5 (3.1.9-4.1build2) ...\n",
            "Setting up gdb (12.1-0ubuntu1~22.04) ...\n",
            "Processing triggers for man-db (2.10.2-1) ...\n",
            "Processing triggers for libc-bin (2.35-0ubuntu3.4) ...\n",
            "/sbin/ldconfig.real: /usr/local/lib/libtbbbind_2_5.so.3 is not a symbolic link\n",
            "\n",
            "/sbin/ldconfig.real: /usr/local/lib/libtbbbind.so.3 is not a symbolic link\n",
            "\n",
            "/sbin/ldconfig.real: /usr/local/lib/libtbbbind_2_0.so.3 is not a symbolic link\n",
            "\n",
            "/sbin/ldconfig.real: /usr/local/lib/libtbbmalloc.so.2 is not a symbolic link\n",
            "\n",
            "/sbin/ldconfig.real: /usr/local/lib/libtbbmalloc_proxy.so.2 is not a symbolic link\n",
            "\n",
            "/sbin/ldconfig.real: /usr/local/lib/libtbb.so.12 is not a symbolic link\n",
            "\n"
          ]
        }
      ]
    },
    {
      "cell_type": "code",
      "source": [
        "!gdb -q ./char_array2"
      ],
      "metadata": {
        "colab": {
          "base_uri": "https://localhost:8080/"
        },
        "id": "HdmUHijBqQV1",
        "outputId": "7080f2b9-faba-4fa2-a8dc-9a5f8474ca1e"
      },
      "execution_count": null,
      "outputs": [
        {
          "output_type": "stream",
          "name": "stdout",
          "text": [
            "Reading symbols from \u001b[32m./char_array2\u001b[m...\n",
            "\u001b[?2004h(gdb) list\n",
            "1\t\u001b[01;34m#include\u001b[m \u001b[31m<stdio.h>\u001b[m\n",
            "2\t\u001b[01;34m#include\u001b[m \u001b[31m<string.h>\u001b[m\n",
            "3\t\u001b[32mint\u001b[m \u001b[01mmain\u001b[m\u001b[31m()\u001b[m \u001b[31m{\u001b[m\n",
            "4\t \u001b[32mchar\u001b[m str_a\u001b[31m[\u001b[m\u001b[35m20\u001b[m\u001b[31m];\u001b[m\n",
            "5\t \u001b[01mstrcpy\u001b[m\u001b[31m(\u001b[mstr_a\u001b[31m,\u001b[m \u001b[31m\"Hello, world!\u001b[m\u001b[35m\\n\u001b[m\u001b[31m\"\u001b[m\u001b[31m);\u001b[m\n",
            "6\t \u001b[01mprintf\u001b[m\u001b[31m(\u001b[mstr_a\u001b[31m);\u001b[m\n",
            "7\t\u001b[31m}\u001b[m\n",
            "\u001b[?2004h(gdb) break 5\n",
            "Breakpoint 1 at \u001b[34m0x1184\u001b[m: file \u001b[32mchar_array2.c\u001b[m, line 5.\n",
            "\u001b[?2004h(gdb) break strpy\n",
            "Function \"strpy\" not defined.\n",
            "\u001b[?2004hMake breakpoint pending on future shared library load? (y or [n]) n\n",
            "\u001b[?2004h(gdb) break strcpy\n",
            "Function \"strcpy\" not defined.\n",
            "\u001b[?2004hMake breakpoint pending on future shared library load? (y or [n]) y\n",
            "Breakpoint 2 (strcpy) pending.\n",
            "\u001b[?2004h(gdb) break 6\n",
            "Breakpoint 3 at \u001b[34m0x11a6\u001b[m: file \u001b[32mchar_array2.c\u001b[m, line 6.\n",
            "\u001b[?2004h(gdb) run\n",
            "Starting program: \u001b[32m/content/char_array2\u001b[m \n",
            "warning: Error disabling address space randomization: Operation not permitted\n",
            "[Thread debugging using libthread_db enabled]\n",
            "Using host libthread_db library \"\u001b[32m/lib/x86_64-linux-gnu/libthread_db.so.1\u001b[m\".\n",
            "\n",
            "Breakpoint 1, \u001b[33mmain\u001b[m () at \u001b[32mchar_array2.c\u001b[m:5\n",
            "5\t \u001b[01mstrcpy\u001b[m\u001b[31m(\u001b[mstr_a\u001b[31m,\u001b[m \u001b[31m\"Hello, world!\u001b[m\u001b[35m\\n\u001b[m\u001b[31m\"\u001b[m\u001b[31m);\u001b[m\n",
            "\u001b[?2004h(gdb) i r rip\n",
            "rip            0x55ac25958184      0x55ac25958184 <main+27>\n",
            "\u001b[?2004h(gdb) disassemble main\n",
            "Dump of assembler code for function \u001b[33mmain\u001b[m:\n",
            "   \u001b[34m0x000055ac25958169\u001b[m <+0>:\t\u001b[32mendbr64\u001b[39;49;00m\u001b[37m \u001b[39;49;00m\n",
            "   \u001b[34m0x000055ac2595816d\u001b[m <+4>:\t\u001b[32mpush\u001b[39;49;00m\u001b[37m   \u001b[39;49;00m\u001b[31m%rbp\u001b[39;49;00m\u001b[37m\u001b[39;49;00m\n",
            "   \u001b[34m0x000055ac2595816e\u001b[m <+5>:\t\u001b[32mmov\u001b[39;49;00m\u001b[37m    \u001b[39;49;00m\u001b[31m%rsp\u001b[39;49;00m,\u001b[31m%rbp\u001b[39;49;00m\u001b[37m\u001b[39;49;00m\n",
            "   \u001b[34m0x000055ac25958171\u001b[m <+8>:\t\u001b[32msub\u001b[39;49;00m\u001b[37m    \u001b[39;49;00m\u001b[31m$0x20\u001b[39;49;00m,\u001b[31m%rsp\u001b[39;49;00m\u001b[37m\u001b[39;49;00m\n",
            "   \u001b[34m0x000055ac25958175\u001b[m <+12>:\t\u001b[32mmov\u001b[39;49;00m\u001b[37m    \u001b[39;49;00m\u001b[31m%fs\u001b[39;49;00m:\u001b[34m0x28\u001b[39;49;00m,\u001b[31m%rax\u001b[39;49;00m\u001b[37m\u001b[39;49;00m\n",
            "   \u001b[34m0x000055ac2595817e\u001b[m <+21>:\t\u001b[32mmov\u001b[39;49;00m\u001b[37m    \u001b[39;49;00m\u001b[31m%rax\u001b[39;49;00m,-\u001b[34m0x8\u001b[39;49;00m(\u001b[31m%rbp\u001b[39;49;00m)\u001b[37m\u001b[39;49;00m\n",
            "   \u001b[34m0x000055ac25958182\u001b[m <+25>:\t\u001b[32mxor\u001b[39;49;00m\u001b[37m    \u001b[39;49;00m\u001b[31m%eax\u001b[39;49;00m,\u001b[31m%eax\u001b[39;49;00m\u001b[37m\u001b[39;49;00m\n",
            "=> \u001b[34m0x000055ac25958184\u001b[m <+27>:\t\u001b[32mlea\u001b[39;49;00m\u001b[37m    \u001b[39;49;00m\u001b[34m-0\u001b[39;49;00m\u001b[31mx20\u001b[39;49;00m(\u001b[31m%rbp\u001b[39;49;00m),\u001b[31m%rax\u001b[39;49;00m\u001b[37m\u001b[39;49;00m\n",
            "   \u001b[34m0x000055ac25958188\u001b[m <+31>:\t\u001b[32mmovabs\u001b[39;49;00m\u001b[37m \u001b[39;49;00m\u001b[31m$0x77202c6f6c6c6548\u001b[39;49;00m,\u001b[31m%rcx\u001b[39;49;00m\u001b[37m\u001b[39;49;00m\n",
            "   \u001b[34m0x000055ac25958192\u001b[m <+41>:\t\u001b[32mmov\u001b[39;49;00m\u001b[37m    \u001b[39;49;00m\u001b[31m%rcx\u001b[39;49;00m,(\u001b[31m%rax\u001b[39;49;00m)\u001b[37m\u001b[39;49;00m\n",
            "   \u001b[34m0x000055ac25958195\u001b[m <+44>:\t\u001b[32mmovl\u001b[39;49;00m\u001b[37m   \u001b[39;49;00m\u001b[31m$0x646c726f\u001b[39;49;00m,\u001b[34m0x8\u001b[39;49;00m(\u001b[31m%rax\u001b[39;49;00m)\u001b[37m\u001b[39;49;00m\n",
            "   \u001b[34m0x000055ac2595819c\u001b[m <+51>:\t\u001b[32mmovw\u001b[39;49;00m\u001b[37m   \u001b[39;49;00m\u001b[31m$0xa21\u001b[39;49;00m,\u001b[34m0xc\u001b[39;49;00m(\u001b[31m%rax\u001b[39;49;00m)\u001b[37m\u001b[39;49;00m\n",
            "   \u001b[34m0x000055ac259581a2\u001b[m <+57>:\t\u001b[32mmovb\u001b[39;49;00m\u001b[37m   \u001b[39;49;00m\u001b[31m$0x0\u001b[39;49;00m,\u001b[34m0xe\u001b[39;49;00m(\u001b[31m%rax\u001b[39;49;00m)\u001b[37m\u001b[39;49;00m\n",
            "   \u001b[34m0x000055ac259581a6\u001b[m <+61>:\t\u001b[32mlea\u001b[39;49;00m\u001b[37m    \u001b[39;49;00m\u001b[34m-0\u001b[39;49;00m\u001b[31mx20\u001b[39;49;00m(\u001b[31m%rbp\u001b[39;49;00m),\u001b[31m%rax\u001b[39;49;00m\u001b[37m\u001b[39;49;00m\n",
            "   \u001b[34m0x000055ac259581aa\u001b[m <+65>:\t\u001b[32mmov\u001b[39;49;00m\u001b[37m    \u001b[39;49;00m\u001b[31m%rax\u001b[39;49;00m,\u001b[31m%rdi\u001b[39;49;00m\u001b[37m\u001b[39;49;00m\n",
            "   \u001b[34m0x000055ac259581ad\u001b[m <+68>:\t\u001b[32mmov\u001b[39;49;00m\u001b[37m    \u001b[39;49;00m\u001b[31m$0x0\u001b[39;49;00m,\u001b[31m%eax\u001b[39;49;00m\u001b[37m\u001b[39;49;00m\n",
            "   \u001b[34m0x000055ac259581b2\u001b[m <+73>:\t\u001b[32mcall\u001b[39;49;00m\u001b[37m   \u001b[39;49;00m\u001b[34m0x55ac25958070\u001b[39;49;00m <\u001b[31mprintf@plt\u001b[39;49;00m>\u001b[37m\u001b[39;49;00m\n",
            "   \u001b[34m0x000055ac259581b7\u001b[m <+78>:\t\u001b[32mmov\u001b[39;49;00m\u001b[37m    \u001b[39;49;00m\u001b[31m$0x0\u001b[39;49;00m,\u001b[31m%eax\u001b[39;49;00m\u001b[37m\u001b[39;49;00m\n",
            "   \u001b[34m0x000055ac259581bc\u001b[m <+83>:\t\u001b[32mmov\u001b[39;49;00m\u001b[37m    \u001b[39;49;00m\u001b[34m-0\u001b[39;49;00m\u001b[31mx8\u001b[39;49;00m(\u001b[31m%rbp\u001b[39;49;00m),\u001b[31m%rdx\u001b[39;49;00m\u001b[37m\u001b[39;49;00m\n",
            "   \u001b[34m0x000055ac259581c0\u001b[m <+87>:\t\u001b[32msub\u001b[39;49;00m\u001b[37m    \u001b[39;49;00m\u001b[31m%fs\u001b[39;49;00m:\u001b[34m0x28\u001b[39;49;00m,\u001b[31m%rdx\u001b[39;49;00m\u001b[37m\u001b[39;49;00m\n",
            "   \u001b[34m0x000055ac259581c9\u001b[m <+96>:\t\u001b[32mje\u001b[39;49;00m\u001b[37m     \u001b[39;49;00m\u001b[34m0x55ac259581d0\u001b[39;49;00m <\u001b[31mmain\u001b[39;49;00m+\u001b[34m103\u001b[39;49;00m>\u001b[37m\u001b[39;49;00m\n",
            "   \u001b[34m0x000055ac259581cb\u001b[m <+98>:\t\u001b[32mcall\u001b[39;49;00m\u001b[37m   \u001b[39;49;00m\u001b[34m0x55ac25958060\u001b[39;49;00m <\u001b[31m__stack_chk_fail@plt\u001b[39;49;00m>\u001b[37m\u001b[39;49;00m\n",
            "\u001b[?2004h--Type <RET> for more, q to quit, c to continue without paging--continue\n",
            "   \u001b[34m0x000055ac259581d0\u001b[m <+103>:\t\u001b[32mleave\u001b[39;49;00m\u001b[37m  \u001b[39;49;00m\n",
            "   \u001b[34m0x000055ac259581d1\u001b[m <+104>:\t\u001b[32mret\u001b[39;49;00m\u001b[37m    \u001b[39;49;00m\n",
            "End of assembler dump.\n",
            "\u001b[?2004h(gdb) continue\n",
            "Continuing.\n",
            "\n",
            "Breakpoint 3, \u001b[33mmain\u001b[m () at \u001b[32mchar_array2.c\u001b[m:6\n",
            "6\t \u001b[01mprintf\u001b[m\u001b[31m(\u001b[mstr_a\u001b[31m);\u001b[m\n",
            "\u001b[?2004h(gdb) i r rip\n",
            "rip            0x55ac259581a6      0x55ac259581a6 <main+61>\n",
            "\u001b[?2004h(gdb) x/5i rip\n",
            "No symbol \"rip\" in current context.\n",
            "\u001b[?2004h(gdb) i r $rip\n",
            "rip            0x55ac259581a6      0x55ac259581a6 <main+61>\n",
            "\u001b[?2004h(gdb) x/5i $rip\n",
            "=> \u001b[34m0x55ac259581a6\u001b[m <\u001b[33mmain\u001b[m+61>:\t\u001b[32mlea\u001b[39;49;00m\u001b[37m    \u001b[39;49;00m\u001b[34m-0\u001b[39;49;00m\u001b[31mx20\u001b[39;49;00m(\u001b[31m%rbp\u001b[39;49;00m),\u001b[31m%rax\u001b[39;49;00m\u001b[37m\u001b[39;49;00m\n",
            "   \u001b[34m0x55ac259581aa\u001b[m <\u001b[33mmain\u001b[m+65>:\t\u001b[32mmov\u001b[39;49;00m\u001b[37m    \u001b[39;49;00m\u001b[31m%rax\u001b[39;49;00m,\u001b[31m%rdi\u001b[39;49;00m\u001b[37m\u001b[39;49;00m\n",
            "   \u001b[34m0x55ac259581ad\u001b[m <\u001b[33mmain\u001b[m+68>:\t\u001b[32mmov\u001b[39;49;00m\u001b[37m    \u001b[39;49;00m\u001b[31m$0x0\u001b[39;49;00m,\u001b[31m%eax\u001b[39;49;00m\u001b[37m\u001b[39;49;00m\n",
            "   \u001b[34m0x55ac259581b2\u001b[m <\u001b[33mmain\u001b[m+73>:\t\u001b[32mcall\u001b[39;49;00m\u001b[37m   \u001b[39;49;00m\u001b[34m0x55ac25958070\u001b[39;49;00m <\u001b[31mprintf@plt\u001b[39;49;00m>\u001b[37m\u001b[39;49;00m\n",
            "   \u001b[34m0x55ac259581b7\u001b[m <\u001b[33mmain\u001b[m+78>:\t\u001b[32mmov\u001b[39;49;00m\u001b[37m    \u001b[39;49;00m\u001b[31m$0x0\u001b[39;49;00m,\u001b[31m%eax\u001b[39;49;00m\u001b[37m\u001b[39;49;00m\n",
            "\u001b[?2004h(gdb) coninue\n",
            "Undefined command: \"coninue\".  Try \"help\".\n",
            "\u001b[?2004h(gdb) continue\n",
            "Continuing.\n",
            "Hello, world!\n",
            "[Inferior 1 (process 4165) exited normally]\n",
            "\u001b[?2004h(gdb) quit\n"
          ]
        }
      ]
    },
    {
      "cell_type": "code",
      "source": [
        "!gdb -q ./char_array2"
      ],
      "metadata": {
        "colab": {
          "base_uri": "https://localhost:8080/"
        },
        "id": "c2YVOrnbvONE",
        "outputId": "aacbd275-1342-40d0-b50d-e871d708205c"
      },
      "execution_count": null,
      "outputs": [
        {
          "output_type": "stream",
          "name": "stdout",
          "text": [
            "Reading symbols from \u001b[32m./char_array2\u001b[m...\n",
            "\u001b[?2004h(gdb) list\n",
            "1\t\u001b[01;34m#include\u001b[m \u001b[31m<stdio.h>\u001b[m\n",
            "2\t\u001b[01;34m#include\u001b[m \u001b[31m<string.h>\u001b[m\n",
            "3\t\u001b[32mint\u001b[m \u001b[01mmain\u001b[m\u001b[31m()\u001b[m \u001b[31m{\u001b[m\n",
            "4\t \u001b[32mchar\u001b[m str_a\u001b[31m[\u001b[m\u001b[35m20\u001b[m\u001b[31m];\u001b[m\n",
            "5\t \u001b[01mstrcpy\u001b[m\u001b[31m(\u001b[mstr_a\u001b[31m,\u001b[m \u001b[31m\"Hello, world!\u001b[m\u001b[35m\\n\u001b[m\u001b[31m\"\u001b[m\u001b[31m);\u001b[m\n",
            "6\t \u001b[01mprintf\u001b[m\u001b[31m(\u001b[mstr_a\u001b[31m);\u001b[m\n",
            "7\t\u001b[31m}\u001b[m\n",
            "\u001b[?2004h(gdb) break 5\n",
            "Breakpoint 1 at \u001b[34m0x1184\u001b[m: file \u001b[32mchar_array2.c\u001b[m, line 5.\n",
            "\u001b[?2004h(gdb) break strcpy\n",
            "Function \"strcpy\" not defined.\n",
            "\u001b[?2004hMake breakpoint pending on future shared library load? (y or [n]) n\n",
            "\u001b[?2004h(gdb) break strcpy\n",
            "Function \"strcpy\" not defined.\n",
            "\u001b[?2004hMake breakpoint pending on future shared library load? (y or [n]) y\n",
            "Breakpoint 2 (strcpy) pending.\n",
            "\u001b[?2004h(gdb) break strcpy\n",
            "Function \"strcpy\" not defined.\n",
            "\u001b[?2004hMake breakpoint pending on future shared library load? (y or [n]) y\n",
            "Breakpoint 3 (strcpy) pending.\n",
            "\u001b[?2004h(gdb) break 6\n",
            "Breakpoint 4 at \u001b[34m0x11a6\u001b[m: file \u001b[32mchar_array2.c\u001b[m, line 6.\n",
            "\u001b[?2004h(gdb) run\n",
            "Starting program: \u001b[32m/content/char_array2\u001b[m \n",
            "warning: Error disabling address space randomization: Operation not permitted\n",
            "[Thread debugging using libthread_db enabled]\n",
            "Using host libthread_db library \"\u001b[32m/lib/x86_64-linux-gnu/libthread_db.so.1\u001b[m\".\n",
            "\n",
            "Breakpoint 1, \u001b[33mmain\u001b[m () at \u001b[32mchar_array2.c\u001b[m:5\n",
            "5\t \u001b[01mstrcpy\u001b[m\u001b[31m(\u001b[mstr_a\u001b[31m,\u001b[m \u001b[31m\"Hello, world!\u001b[m\u001b[35m\\n\u001b[m\u001b[31m\"\u001b[m\u001b[31m);\u001b[m\n",
            "\u001b[?2004h(gdb) i r rip\n",
            "rip            0x5a46a959f184      0x5a46a959f184 <main+27>\n",
            "\u001b[?2004h(gdb) x/5i $rip\n",
            "=> \u001b[34m0x5a46a959f184\u001b[m <\u001b[33mmain\u001b[m+27>:\t\u001b[32mlea\u001b[39;49;00m\u001b[37m    \u001b[39;49;00m\u001b[34m-0\u001b[39;49;00m\u001b[31mx20\u001b[39;49;00m(\u001b[31m%rbp\u001b[39;49;00m),\u001b[31m%rax\u001b[39;49;00m\u001b[37m\u001b[39;49;00m\n",
            "   \u001b[34m0x5a46a959f188\u001b[m <\u001b[33mmain\u001b[m+31>:\t\u001b[32mmovabs\u001b[39;49;00m\u001b[37m \u001b[39;49;00m\u001b[31m$0x77202c6f6c6c6548\u001b[39;49;00m,\u001b[31m%rcx\u001b[39;49;00m\u001b[37m\u001b[39;49;00m\n",
            "   \u001b[34m0x5a46a959f192\u001b[m <\u001b[33mmain\u001b[m+41>:\t\u001b[32mmov\u001b[39;49;00m\u001b[37m    \u001b[39;49;00m\u001b[31m%rcx\u001b[39;49;00m,(\u001b[31m%rax\u001b[39;49;00m)\u001b[37m\u001b[39;49;00m\n",
            "   \u001b[34m0x5a46a959f195\u001b[m <\u001b[33mmain\u001b[m+44>:\t\u001b[32mmovl\u001b[39;49;00m\u001b[37m   \u001b[39;49;00m\u001b[31m$0x646c726f\u001b[39;49;00m,\u001b[34m0x8\u001b[39;49;00m(\u001b[31m%rax\u001b[39;49;00m)\u001b[37m\u001b[39;49;00m\n",
            "   \u001b[34m0x5a46a959f19c\u001b[m <\u001b[33mmain\u001b[m+51>:\t\u001b[32mmovw\u001b[39;49;00m\u001b[37m   \u001b[39;49;00m\u001b[31m$0xa21\u001b[39;49;00m,\u001b[34m0xc\u001b[39;49;00m(\u001b[31m%rax\u001b[39;49;00m)\u001b[37m\u001b[39;49;00m\n",
            "\u001b[?2004h(gdb) run\n",
            "\u001b[?2004hThe program being debugged has been started already.\n",
            "Start it from the beginning? (y or n) n\n",
            "Program not restarted.\n",
            "\u001b[?2004h(gdb) cont\n",
            "Continuing.\n",
            "\n",
            "Breakpoint 4, \u001b[33mmain\u001b[m () at \u001b[32mchar_array2.c\u001b[m:6\n",
            "6\t \u001b[01mprintf\u001b[m\u001b[31m(\u001b[mstr_a\u001b[31m);\u001b[m\n",
            "\u001b[?2004h(gdb) x/5i $rip\n",
            "=> \u001b[34m0x5a46a959f1a6\u001b[m <\u001b[33mmain\u001b[m+61>:\t\u001b[32mlea\u001b[39;49;00m\u001b[37m    \u001b[39;49;00m\u001b[34m-0\u001b[39;49;00m\u001b[31mx20\u001b[39;49;00m(\u001b[31m%rbp\u001b[39;49;00m),\u001b[31m%rax\u001b[39;49;00m\u001b[37m\u001b[39;49;00m\n",
            "   \u001b[34m0x5a46a959f1aa\u001b[m <\u001b[33mmain\u001b[m+65>:\t\u001b[32mmov\u001b[39;49;00m\u001b[37m    \u001b[39;49;00m\u001b[31m%rax\u001b[39;49;00m,\u001b[31m%rdi\u001b[39;49;00m\u001b[37m\u001b[39;49;00m\n",
            "   \u001b[34m0x5a46a959f1ad\u001b[m <\u001b[33mmain\u001b[m+68>:\t\u001b[32mmov\u001b[39;49;00m\u001b[37m    \u001b[39;49;00m\u001b[31m$0x0\u001b[39;49;00m,\u001b[31m%eax\u001b[39;49;00m\u001b[37m\u001b[39;49;00m\n",
            "   \u001b[34m0x5a46a959f1b2\u001b[m <\u001b[33mmain\u001b[m+73>:\t\u001b[32mcall\u001b[39;49;00m\u001b[37m   \u001b[39;49;00m\u001b[34m0x5a46a959f070\u001b[39;49;00m <\u001b[31mprintf@plt\u001b[39;49;00m>\u001b[37m\u001b[39;49;00m\n",
            "   \u001b[34m0x5a46a959f1b7\u001b[m <\u001b[33mmain\u001b[m+78>:\t\u001b[32mmov\u001b[39;49;00m\u001b[37m    \u001b[39;49;00m\u001b[31m$0x0\u001b[39;49;00m,\u001b[31m%eax\u001b[39;49;00m\u001b[37m\u001b[39;49;00m\n",
            "\u001b[?2004h(gdb) run\n",
            "\u001b[?2004hThe program being debugged has been started already.\n",
            "Start it from the beginning? (y or n) y\n",
            "Starting program: \u001b[32m/content/char_array2\u001b[m \n",
            "warning: Error disabling address space randomization: Operation not permitted\n",
            "[Thread debugging using libthread_db enabled]\n",
            "Using host libthread_db library \"\u001b[32m/lib/x86_64-linux-gnu/libthread_db.so.1\u001b[m\".\n",
            "\n",
            "Breakpoint 1, \u001b[33mmain\u001b[m () at \u001b[32mchar_array2.c\u001b[m:5\n",
            "5\t \u001b[01mstrcpy\u001b[m\u001b[31m(\u001b[mstr_a\u001b[31m,\u001b[m \u001b[31m\"Hello, world!\u001b[m\u001b[35m\\n\u001b[m\u001b[31m\"\u001b[m\u001b[31m);\u001b[m\n",
            "\u001b[?2004h(gdb) bt\n",
            "#0  \u001b[33mmain\u001b[m () at \u001b[32mchar_array2.c\u001b[m:5\n",
            "\u001b[?2004h(gdb) quit\n",
            "\u001b[?2004hA debugging session is active.\n",
            "\n",
            "\tInferior 1 [process 10598] will be killed.\n",
            "\n",
            "Quit anyway? (y or n) y\n"
          ]
        }
      ]
    },
    {
      "cell_type": "code",
      "source": [
        "!gdb -q ./char_array2\n"
      ],
      "metadata": {
        "colab": {
          "base_uri": "https://localhost:8080/"
        },
        "id": "Lw0T0IqHyhxq",
        "outputId": "b6c56bd9-10a7-4847-86b8-ddd72117dab2"
      },
      "execution_count": null,
      "outputs": [
        {
          "output_type": "stream",
          "name": "stdout",
          "text": [
            "Reading symbols from \u001b[32m./char_array2\u001b[m...\n",
            "\u001b[?2004h(gdb) list\n",
            "1\t\u001b[01;34m#include\u001b[m \u001b[31m<stdio.h>\u001b[m\n",
            "2\t\u001b[01;34m#include\u001b[m \u001b[31m<string.h>\u001b[m\n",
            "3\t\u001b[32mint\u001b[m \u001b[01mmain\u001b[m\u001b[31m()\u001b[m \u001b[31m{\u001b[m\n",
            "4\t \u001b[32mchar\u001b[m str_a\u001b[31m[\u001b[m\u001b[35m20\u001b[m\u001b[31m];\u001b[m\n",
            "5\t \u001b[01mstrcpy\u001b[m\u001b[31m(\u001b[mstr_a\u001b[31m,\u001b[m \u001b[31m\"Hello, world!\u001b[m\u001b[35m\\n\u001b[m\u001b[31m\"\u001b[m\u001b[31m);\u001b[m\n",
            "6\t \u001b[01mprintf\u001b[m\u001b[31m(\u001b[mstr_a\u001b[31m);\u001b[m\n",
            "7\t\u001b[31m}\u001b[m\n",
            "\u001b[?2004h(gdb) break 4\n",
            "Breakpoint 1 at \u001b[34m0x1184\u001b[m: file \u001b[32mchar_array2.c\u001b[m, line 5.\n",
            "\u001b[?2004h(gdb) break strcpy\n",
            "Function \"strcpy\" not defined.\n",
            "\u001b[?2004hMake breakpoint pending on future shared library load? (y or [n]) y\n",
            "Breakpoint 2 (strcpy) pending.\n",
            "\u001b[?2004h(gdb) break 6\n",
            "Breakpoint 3 at \u001b[34m0x11a6\u001b[m: file \u001b[32mchar_array2.c\u001b[m, line 6.\n",
            "\u001b[?2004h(gdb) run\n",
            "Starting program: \u001b[32m/content/char_array2\u001b[m \n",
            "warning: Error disabling address space randomization: Operation not permitted\n",
            "[Thread debugging using libthread_db enabled]\n",
            "Using host libthread_db library \"\u001b[32m/lib/x86_64-linux-gnu/libthread_db.so.1\u001b[m\".\n",
            "\n",
            "Breakpoint 1, \u001b[33mmain\u001b[m () at \u001b[32mchar_array2.c\u001b[m:5\n",
            "5\t \u001b[01mstrcpy\u001b[m\u001b[31m(\u001b[mstr_a\u001b[31m,\u001b[m \u001b[31m\"Hello, world!\u001b[m\u001b[35m\\n\u001b[m\u001b[31m\"\u001b[m\u001b[31m);\u001b[m\n",
            "\u001b[?2004h(gdb) i r rip\n",
            "rip            0x58fdb7444184      0x58fdb7444184 <main+27>\n",
            "\u001b[?2004h(gdb) x/5i $rip\n",
            "=> \u001b[34m0x58fdb7444184\u001b[m <\u001b[33mmain\u001b[m+27>:\t\u001b[32mlea\u001b[39;49;00m\u001b[37m    \u001b[39;49;00m\u001b[34m-0\u001b[39;49;00m\u001b[31mx20\u001b[39;49;00m(\u001b[31m%rbp\u001b[39;49;00m),\u001b[31m%rax\u001b[39;49;00m\u001b[37m\u001b[39;49;00m\n",
            "   \u001b[34m0x58fdb7444188\u001b[m <\u001b[33mmain\u001b[m+31>:\t\u001b[32mmovabs\u001b[39;49;00m\u001b[37m \u001b[39;49;00m\u001b[31m$0x77202c6f6c6c6548\u001b[39;49;00m,\u001b[31m%rcx\u001b[39;49;00m\u001b[37m\u001b[39;49;00m\n",
            "   \u001b[34m0x58fdb7444192\u001b[m <\u001b[33mmain\u001b[m+41>:\t\u001b[32mmov\u001b[39;49;00m\u001b[37m    \u001b[39;49;00m\u001b[31m%rcx\u001b[39;49;00m,(\u001b[31m%rax\u001b[39;49;00m)\u001b[37m\u001b[39;49;00m\n",
            "   \u001b[34m0x58fdb7444195\u001b[m <\u001b[33mmain\u001b[m+44>:\t\u001b[32mmovl\u001b[39;49;00m\u001b[37m   \u001b[39;49;00m\u001b[31m$0x646c726f\u001b[39;49;00m,\u001b[34m0x8\u001b[39;49;00m(\u001b[31m%rax\u001b[39;49;00m)\u001b[37m\u001b[39;49;00m\n",
            "   \u001b[34m0x58fdb744419c\u001b[m <\u001b[33mmain\u001b[m+51>:\t\u001b[32mmovw\u001b[39;49;00m\u001b[37m   \u001b[39;49;00m\u001b[31m$0xa21\u001b[39;49;00m,\u001b[34m0xc\u001b[39;49;00m(\u001b[31m%rax\u001b[39;49;00m)\u001b[37m\u001b[39;49;00m\n",
            "\u001b[?2004h(gdb) quit\n",
            "\u001b[?2004hA debugging session is active.\n",
            "\n",
            "\tInferior 1 [process 12644] will be killed.\n",
            "\n",
            "Quit anyway? (y or n) quit\n",
            "Please answer y or n.\n",
            "\u001b[?2004hA debugging session is active.\n",
            "\n",
            "\tInferior 1 [process 12644] will be killed.\n",
            "\n",
            "Quit anyway? (y or n) y\n"
          ]
        }
      ]
    },
    {
      "cell_type": "code",
      "source": [
        "%%writefile datatypes_sizes.c\n",
        "#include <stdio.h>\n",
        "int main() {\n",
        " printf(\"The 'int' data type is\\t\\t %d bytes\\n\", sizeof(int));\n",
        " printf(\"The 'unsigned int' data type is\\t %d bytes\\n\", sizeof(unsigned int));\n",
        " printf(\"The 'short int' data type is\\t %d bytes\\n\", sizeof(short int));\n",
        " printf(\"The 'long int' data type is\\t %d bytes\\n\", sizeof(long int));\n",
        " printf(\"The 'long long int' data type is %d bytes\\n\", sizeof(long long int));\n",
        " printf(\"The 'float' data type is\\t %d bytes\\n\", sizeof(float));\n",
        " printf(\"The 'char' data type is\\t\\t %d bytes\\n\", sizeof(char));\n",
        "}"
      ],
      "metadata": {
        "colab": {
          "base_uri": "https://localhost:8080/"
        },
        "id": "wpyEcNZRyivf",
        "outputId": "0b41c620-9e4e-4a91-d5e4-4ef8c394aa4b"
      },
      "execution_count": null,
      "outputs": [
        {
          "output_type": "stream",
          "name": "stdout",
          "text": [
            "Overwriting datatypes_sizes.c\n"
          ]
        }
      ]
    },
    {
      "cell_type": "code",
      "source": [
        "!gcc -g -o datatypes_sizes datatypes_sizes.c"
      ],
      "metadata": {
        "colab": {
          "base_uri": "https://localhost:8080/"
        },
        "id": "sL8PRuk2tqWj",
        "outputId": "3d3df878-907b-433f-89e7-a435ba5e4b0a"
      },
      "execution_count": null,
      "outputs": [
        {
          "output_type": "stream",
          "name": "stdout",
          "text": [
            "\u001b[01m\u001b[Kdatatypes_sizes.c:\u001b[m\u001b[K In function ‘\u001b[01m\u001b[Kmain\u001b[m\u001b[K’:\n",
            "\u001b[01m\u001b[Kdatatypes_sizes.c:3:38:\u001b[m\u001b[K \u001b[01;35m\u001b[Kwarning: \u001b[m\u001b[Kformat ‘\u001b[01m\u001b[K%d\u001b[m\u001b[K’ expects argument of type ‘\u001b[01m\u001b[Kint\u001b[m\u001b[K’, but argument 2 has type ‘\u001b[01m\u001b[Klong unsigned int\u001b[m\u001b[K’ [\u001b[01;35m\u001b[K\u001b]8;;https://gcc.gnu.org/onlinedocs/gcc/Warning-Options.html#index-Wformat=\u0007-Wformat=\u001b]8;;\u0007\u001b[m\u001b[K]\n",
            "    3 |  printf(\"The 'int' data type is\\t\\t \u001b[01;35m\u001b[K%d\u001b[m\u001b[K bytes\\n\", \u001b[32m\u001b[Ksizeof(int)\u001b[m\u001b[K);\n",
            "      |                                     \u001b[01;35m\u001b[K~^\u001b[m\u001b[K           \u001b[32m\u001b[K~~~~~~~~~~~\u001b[m\u001b[K\n",
            "      |                                      \u001b[01;35m\u001b[K|\u001b[m\u001b[K           \u001b[32m\u001b[K|\u001b[m\u001b[K\n",
            "      |                                      \u001b[01;35m\u001b[Kint\u001b[m\u001b[K         \u001b[32m\u001b[Klong unsigned int\u001b[m\u001b[K\n",
            "      |                                     \u001b[32m\u001b[K%ld\u001b[m\u001b[K\n",
            "\u001b[01m\u001b[Kdatatypes_sizes.c:4:45:\u001b[m\u001b[K \u001b[01;35m\u001b[Kwarning: \u001b[m\u001b[Kformat ‘\u001b[01m\u001b[K%d\u001b[m\u001b[K’ expects argument of type ‘\u001b[01m\u001b[Kint\u001b[m\u001b[K’, but argument 2 has type ‘\u001b[01m\u001b[Klong unsigned int\u001b[m\u001b[K’ [\u001b[01;35m\u001b[K\u001b]8;;https://gcc.gnu.org/onlinedocs/gcc/Warning-Options.html#index-Wformat=\u0007-Wformat=\u001b]8;;\u0007\u001b[m\u001b[K]\n",
            "    4 |  printf(\"The 'unsigned int' data type is\\t \u001b[01;35m\u001b[K%d\u001b[m\u001b[K bytes\\n\", \u001b[32m\u001b[Ksizeof(unsigned int)\u001b[m\u001b[K);\n",
            "      |                                            \u001b[01;35m\u001b[K~^\u001b[m\u001b[K           \u001b[32m\u001b[K~~~~~~~~~~~~~~~~~~~~\u001b[m\u001b[K\n",
            "      |                                             \u001b[01;35m\u001b[K|\u001b[m\u001b[K           \u001b[32m\u001b[K|\u001b[m\u001b[K\n",
            "      |                                             \u001b[01;35m\u001b[Kint\u001b[m\u001b[K         \u001b[32m\u001b[Klong unsigned int\u001b[m\u001b[K\n",
            "      |                                            \u001b[32m\u001b[K%ld\u001b[m\u001b[K\n",
            "\u001b[01m\u001b[Kdatatypes_sizes.c:5:42:\u001b[m\u001b[K \u001b[01;35m\u001b[Kwarning: \u001b[m\u001b[Kformat ‘\u001b[01m\u001b[K%d\u001b[m\u001b[K’ expects argument of type ‘\u001b[01m\u001b[Kint\u001b[m\u001b[K’, but argument 2 has type ‘\u001b[01m\u001b[Klong unsigned int\u001b[m\u001b[K’ [\u001b[01;35m\u001b[K\u001b]8;;https://gcc.gnu.org/onlinedocs/gcc/Warning-Options.html#index-Wformat=\u0007-Wformat=\u001b]8;;\u0007\u001b[m\u001b[K]\n",
            "    5 |  printf(\"The 'short int' data type is\\t \u001b[01;35m\u001b[K%d\u001b[m\u001b[K bytes\\n\", \u001b[32m\u001b[Ksizeof(short int)\u001b[m\u001b[K);\n",
            "      |                                         \u001b[01;35m\u001b[K~^\u001b[m\u001b[K           \u001b[32m\u001b[K~~~~~~~~~~~~~~~~~\u001b[m\u001b[K\n",
            "      |                                          \u001b[01;35m\u001b[K|\u001b[m\u001b[K           \u001b[32m\u001b[K|\u001b[m\u001b[K\n",
            "      |                                          \u001b[01;35m\u001b[Kint\u001b[m\u001b[K         \u001b[32m\u001b[Klong unsigned int\u001b[m\u001b[K\n",
            "      |                                         \u001b[32m\u001b[K%ld\u001b[m\u001b[K\n",
            "\u001b[01m\u001b[Kdatatypes_sizes.c:6:41:\u001b[m\u001b[K \u001b[01;35m\u001b[Kwarning: \u001b[m\u001b[Kformat ‘\u001b[01m\u001b[K%d\u001b[m\u001b[K’ expects argument of type ‘\u001b[01m\u001b[Kint\u001b[m\u001b[K’, but argument 2 has type ‘\u001b[01m\u001b[Klong unsigned int\u001b[m\u001b[K’ [\u001b[01;35m\u001b[K\u001b]8;;https://gcc.gnu.org/onlinedocs/gcc/Warning-Options.html#index-Wformat=\u0007-Wformat=\u001b]8;;\u0007\u001b[m\u001b[K]\n",
            "    6 |  printf(\"The 'long int' data type is\\t \u001b[01;35m\u001b[K%d\u001b[m\u001b[K bytes\\n\", \u001b[32m\u001b[Ksizeof(long int)\u001b[m\u001b[K);\n",
            "      |                                        \u001b[01;35m\u001b[K~^\u001b[m\u001b[K           \u001b[32m\u001b[K~~~~~~~~~~~~~~~~\u001b[m\u001b[K\n",
            "      |                                         \u001b[01;35m\u001b[K|\u001b[m\u001b[K           \u001b[32m\u001b[K|\u001b[m\u001b[K\n",
            "      |                                         \u001b[01;35m\u001b[Kint\u001b[m\u001b[K         \u001b[32m\u001b[Klong unsigned int\u001b[m\u001b[K\n",
            "      |                                        \u001b[32m\u001b[K%ld\u001b[m\u001b[K\n",
            "\u001b[01m\u001b[Kdatatypes_sizes.c:7:44:\u001b[m\u001b[K \u001b[01;35m\u001b[Kwarning: \u001b[m\u001b[Kformat ‘\u001b[01m\u001b[K%d\u001b[m\u001b[K’ expects argument of type ‘\u001b[01m\u001b[Kint\u001b[m\u001b[K’, but argument 2 has type ‘\u001b[01m\u001b[Klong unsigned int\u001b[m\u001b[K’ [\u001b[01;35m\u001b[K\u001b]8;;https://gcc.gnu.org/onlinedocs/gcc/Warning-Options.html#index-Wformat=\u0007-Wformat=\u001b]8;;\u0007\u001b[m\u001b[K]\n",
            "    7 |  printf(\"The 'long long int' data type is \u001b[01;35m\u001b[K%d\u001b[m\u001b[K bytes\\n\", \u001b[32m\u001b[Ksizeof(long long int)\u001b[m\u001b[K);\n",
            "      |                                           \u001b[01;35m\u001b[K~^\u001b[m\u001b[K           \u001b[32m\u001b[K~~~~~~~~~~~~~~~~~~~~~\u001b[m\u001b[K\n",
            "      |                                            \u001b[01;35m\u001b[K|\u001b[m\u001b[K           \u001b[32m\u001b[K|\u001b[m\u001b[K\n",
            "      |                                            \u001b[01;35m\u001b[Kint\u001b[m\u001b[K         \u001b[32m\u001b[Klong unsigned int\u001b[m\u001b[K\n",
            "      |                                           \u001b[32m\u001b[K%ld\u001b[m\u001b[K\n",
            "\u001b[01m\u001b[Kdatatypes_sizes.c:8:38:\u001b[m\u001b[K \u001b[01;35m\u001b[Kwarning: \u001b[m\u001b[Kformat ‘\u001b[01m\u001b[K%d\u001b[m\u001b[K’ expects argument of type ‘\u001b[01m\u001b[Kint\u001b[m\u001b[K’, but argument 2 has type ‘\u001b[01m\u001b[Klong unsigned int\u001b[m\u001b[K’ [\u001b[01;35m\u001b[K\u001b]8;;https://gcc.gnu.org/onlinedocs/gcc/Warning-Options.html#index-Wformat=\u0007-Wformat=\u001b]8;;\u0007\u001b[m\u001b[K]\n",
            "    8 |  printf(\"The 'float' data type is\\t \u001b[01;35m\u001b[K%d\u001b[m\u001b[K bytes\\n\", \u001b[32m\u001b[Ksizeof(float)\u001b[m\u001b[K);\n",
            "      |                                     \u001b[01;35m\u001b[K~^\u001b[m\u001b[K           \u001b[32m\u001b[K~~~~~~~~~~~~~\u001b[m\u001b[K\n",
            "      |                                      \u001b[01;35m\u001b[K|\u001b[m\u001b[K           \u001b[32m\u001b[K|\u001b[m\u001b[K\n",
            "      |                                      \u001b[01;35m\u001b[Kint\u001b[m\u001b[K         \u001b[32m\u001b[Klong unsigned int\u001b[m\u001b[K\n",
            "      |                                     \u001b[32m\u001b[K%ld\u001b[m\u001b[K\n",
            "\u001b[01m\u001b[Kdatatypes_sizes.c:9:39:\u001b[m\u001b[K \u001b[01;35m\u001b[Kwarning: \u001b[m\u001b[Kformat ‘\u001b[01m\u001b[K%d\u001b[m\u001b[K’ expects argument of type ‘\u001b[01m\u001b[Kint\u001b[m\u001b[K’, but argument 2 has type ‘\u001b[01m\u001b[Klong unsigned int\u001b[m\u001b[K’ [\u001b[01;35m\u001b[K\u001b]8;;https://gcc.gnu.org/onlinedocs/gcc/Warning-Options.html#index-Wformat=\u0007-Wformat=\u001b]8;;\u0007\u001b[m\u001b[K]\n",
            "    9 |  printf(\"The 'char' data type is\\t\\t \u001b[01;35m\u001b[K%d\u001b[m\u001b[K bytes\\n\", \u001b[32m\u001b[Ksizeof(char)\u001b[m\u001b[K);\n",
            "      |                                      \u001b[01;35m\u001b[K~^\u001b[m\u001b[K           \u001b[32m\u001b[K~~~~~~~~~~~~\u001b[m\u001b[K\n",
            "      |                                       \u001b[01;35m\u001b[K|\u001b[m\u001b[K           \u001b[32m\u001b[K|\u001b[m\u001b[K\n",
            "      |                                       \u001b[01;35m\u001b[Kint\u001b[m\u001b[K         \u001b[32m\u001b[Klong unsigned int\u001b[m\u001b[K\n",
            "      |                                      \u001b[32m\u001b[K%ld\u001b[m\u001b[K\n"
          ]
        }
      ]
    },
    {
      "cell_type": "code",
      "source": [
        "!./datatypes_sizes"
      ],
      "metadata": {
        "colab": {
          "base_uri": "https://localhost:8080/"
        },
        "id": "CT3w0iAktumr",
        "outputId": "4fcc9a77-8443-4160-954d-fd1b300bdd6b"
      },
      "execution_count": null,
      "outputs": [
        {
          "output_type": "stream",
          "name": "stdout",
          "text": [
            "The 'int' data type is\t\t 4 bytes\n",
            "The 'unsigned int' data type is\t 4 bytes\n",
            "The 'short int' data type is\t 2 bytes\n",
            "The 'long int' data type is\t 8 bytes\n",
            "The 'long long int' data type is 8 bytes\n",
            "The 'float' data type is\t 4 bytes\n",
            "The 'char' data type is\t\t 1 bytes\n"
          ]
        }
      ]
    },
    {
      "cell_type": "code",
      "source": [
        "%%writefile pointers.c\n",
        "#include <stdio.h>\n",
        "#include <string.h>\n",
        "int main() {\n",
        " char str_a[20]; // A 20-element character array\n",
        " char *pointer; // A pointer, meant for a character array\n",
        " char *pointer2; // And yet another one\n",
        " strcpy(str_a, \"Hello, world!\\n\");\n",
        " pointer = str_a; // Set the first pointer to the start of the array.\n",
        " printf(pointer);\n",
        " pointer2 = pointer + 2; // Set the second one 2 bytes further in.\n",
        " printf(pointer2); // Print it.\n",
        " strcpy(pointer2, \"y you guys!\\n\"); // Copy into that spot.\n",
        " printf(pointer); // Print again.\n",
        "}\n",
        "\n",
        "\n"
      ],
      "metadata": {
        "colab": {
          "base_uri": "https://localhost:8080/"
        },
        "id": "Znk0hIL-t43s",
        "outputId": "88d7eccb-7421-4765-ceb8-1ae1a11598e8"
      },
      "execution_count": null,
      "outputs": [
        {
          "output_type": "stream",
          "name": "stdout",
          "text": [
            "Writing pointers.c\n"
          ]
        }
      ]
    },
    {
      "cell_type": "code",
      "source": [
        "!gcc -g -o pointers pointers.c"
      ],
      "metadata": {
        "colab": {
          "base_uri": "https://localhost:8080/"
        },
        "id": "pgBlJ9jK1RgQ",
        "outputId": "2e5b642f-b81a-48d2-9dd2-6132ad7e3325"
      },
      "execution_count": null,
      "outputs": [
        {
          "output_type": "stream",
          "name": "stdout",
          "text": [
            "\u001b[01m\u001b[Kpointers.c:\u001b[m\u001b[K In function ‘\u001b[01m\u001b[Kmain\u001b[m\u001b[K’:\n",
            "\u001b[01m\u001b[Kpointers.c:9:2:\u001b[m\u001b[K \u001b[01;35m\u001b[Kwarning: \u001b[m\u001b[Kformat not a string literal and no format arguments [\u001b[01;35m\u001b[K\u001b]8;;https://gcc.gnu.org/onlinedocs/gcc/Warning-Options.html#index-Wformat-security\u0007-Wformat-security\u001b]8;;\u0007\u001b[m\u001b[K]\n",
            "    9 |  \u001b[01;35m\u001b[Kprintf\u001b[m\u001b[K(pointer);\n",
            "      |  \u001b[01;35m\u001b[K^~~~~~\u001b[m\u001b[K\n",
            "\u001b[01m\u001b[Kpointers.c:11:2:\u001b[m\u001b[K \u001b[01;35m\u001b[Kwarning: \u001b[m\u001b[Kformat not a string literal and no format arguments [\u001b[01;35m\u001b[K\u001b]8;;https://gcc.gnu.org/onlinedocs/gcc/Warning-Options.html#index-Wformat-security\u0007-Wformat-security\u001b]8;;\u0007\u001b[m\u001b[K]\n",
            "   11 |  \u001b[01;35m\u001b[Kprintf\u001b[m\u001b[K(pointer2); // Print it.\n",
            "      |  \u001b[01;35m\u001b[K^~~~~~\u001b[m\u001b[K\n",
            "\u001b[01m\u001b[Kpointers.c:13:2:\u001b[m\u001b[K \u001b[01;35m\u001b[Kwarning: \u001b[m\u001b[Kformat not a string literal and no format arguments [\u001b[01;35m\u001b[K\u001b]8;;https://gcc.gnu.org/onlinedocs/gcc/Warning-Options.html#index-Wformat-security\u0007-Wformat-security\u001b]8;;\u0007\u001b[m\u001b[K]\n",
            "   13 |  \u001b[01;35m\u001b[Kprintf\u001b[m\u001b[K(pointer); // Print again.\n",
            "      |  \u001b[01;35m\u001b[K^~~~~~\u001b[m\u001b[K\n"
          ]
        }
      ]
    },
    {
      "cell_type": "code",
      "source": [
        "!./pointers"
      ],
      "metadata": {
        "colab": {
          "base_uri": "https://localhost:8080/"
        },
        "id": "J7peqgBL1anz",
        "outputId": "4cbbde3b-e205-4c04-9e4f-36fd94bc9a01"
      },
      "execution_count": null,
      "outputs": [
        {
          "output_type": "stream",
          "name": "stdout",
          "text": [
            "Hello, world!\n",
            "llo, world!\n",
            "Hey you guys!\n"
          ]
        }
      ]
    },
    {
      "cell_type": "code",
      "source": [
        "!gdb -q ./pointers"
      ],
      "metadata": {
        "colab": {
          "base_uri": "https://localhost:8080/"
        },
        "id": "ZakdLxAI1dtQ",
        "outputId": "c468ea14-91b4-444d-c009-2cc2032dbdda"
      },
      "execution_count": null,
      "outputs": [
        {
          "output_type": "stream",
          "name": "stdout",
          "text": [
            "/bin/bash: line 1: gdb: command not found\n"
          ]
        }
      ]
    },
    {
      "cell_type": "code",
      "source": [
        "!sudo apt-get install gdb"
      ],
      "metadata": {
        "colab": {
          "base_uri": "https://localhost:8080/"
        },
        "id": "tRv3dHgw382X",
        "outputId": "16008a5b-8180-4679-a53c-7103629d89ce"
      },
      "execution_count": null,
      "outputs": [
        {
          "output_type": "stream",
          "name": "stdout",
          "text": [
            "Reading package lists... Done\n",
            "Building dependency tree... Done\n",
            "Reading state information... Done\n",
            "The following additional packages will be installed:\n",
            "  libbabeltrace1 libc6-dbg libdebuginfod-common libdebuginfod1 libipt2\n",
            "  libsource-highlight-common libsource-highlight4v5\n",
            "Suggested packages:\n",
            "  gdb-doc gdbserver\n",
            "The following NEW packages will be installed:\n",
            "  gdb libbabeltrace1 libc6-dbg libdebuginfod-common libdebuginfod1 libipt2\n",
            "  libsource-highlight-common libsource-highlight4v5\n",
            "0 upgraded, 8 newly installed, 0 to remove and 38 not upgraded.\n",
            "Need to get 18.3 MB of archives.\n",
            "After this operation, 32.0 MB of additional disk space will be used.\n",
            "Get:1 http://archive.ubuntu.com/ubuntu jammy/main amd64 libdebuginfod-common all 0.186-1build1 [7,878 B]\n",
            "Get:2 http://archive.ubuntu.com/ubuntu jammy/main amd64 libbabeltrace1 amd64 1.5.8-2build1 [160 kB]\n",
            "Get:3 http://archive.ubuntu.com/ubuntu jammy/main amd64 libdebuginfod1 amd64 0.186-1build1 [12.7 kB]\n",
            "Get:4 http://archive.ubuntu.com/ubuntu jammy/main amd64 libipt2 amd64 2.0.5-1 [46.4 kB]\n",
            "Get:5 http://archive.ubuntu.com/ubuntu jammy/main amd64 libsource-highlight-common all 3.1.9-4.1build2 [64.5 kB]\n",
            "Get:6 http://archive.ubuntu.com/ubuntu jammy/main amd64 libsource-highlight4v5 amd64 3.1.9-4.1build2 [207 kB]\n",
            "Get:7 http://archive.ubuntu.com/ubuntu jammy-updates/main amd64 gdb amd64 12.1-0ubuntu1~22.04 [3,919 kB]\n",
            "Get:8 http://archive.ubuntu.com/ubuntu jammy-updates/main amd64 libc6-dbg amd64 2.35-0ubuntu3.6 [13.8 MB]\n",
            "Fetched 18.3 MB in 3s (5,380 kB/s)\n",
            "debconf: unable to initialize frontend: Dialog\n",
            "debconf: (No usable dialog-like program is installed, so the dialog based frontend cannot be used. at /usr/share/perl5/Debconf/FrontEnd/Dialog.pm line 78, <> line 8.)\n",
            "debconf: falling back to frontend: Readline\n",
            "debconf: unable to initialize frontend: Readline\n",
            "debconf: (This frontend requires a controlling tty.)\n",
            "debconf: falling back to frontend: Teletype\n",
            "dpkg-preconfigure: unable to re-open stdin: \n",
            "Selecting previously unselected package libdebuginfod-common.\n",
            "(Reading database ... 121752 files and directories currently installed.)\n",
            "Preparing to unpack .../0-libdebuginfod-common_0.186-1build1_all.deb ...\n",
            "Unpacking libdebuginfod-common (0.186-1build1) ...\n",
            "Selecting previously unselected package libbabeltrace1:amd64.\n",
            "Preparing to unpack .../1-libbabeltrace1_1.5.8-2build1_amd64.deb ...\n",
            "Unpacking libbabeltrace1:amd64 (1.5.8-2build1) ...\n",
            "Selecting previously unselected package libdebuginfod1:amd64.\n",
            "Preparing to unpack .../2-libdebuginfod1_0.186-1build1_amd64.deb ...\n",
            "Unpacking libdebuginfod1:amd64 (0.186-1build1) ...\n",
            "Selecting previously unselected package libipt2.\n",
            "Preparing to unpack .../3-libipt2_2.0.5-1_amd64.deb ...\n",
            "Unpacking libipt2 (2.0.5-1) ...\n",
            "Selecting previously unselected package libsource-highlight-common.\n",
            "Preparing to unpack .../4-libsource-highlight-common_3.1.9-4.1build2_all.deb ...\n",
            "Unpacking libsource-highlight-common (3.1.9-4.1build2) ...\n",
            "Selecting previously unselected package libsource-highlight4v5.\n",
            "Preparing to unpack .../5-libsource-highlight4v5_3.1.9-4.1build2_amd64.deb ...\n",
            "Unpacking libsource-highlight4v5 (3.1.9-4.1build2) ...\n",
            "Selecting previously unselected package gdb.\n",
            "Preparing to unpack .../6-gdb_12.1-0ubuntu1~22.04_amd64.deb ...\n",
            "Unpacking gdb (12.1-0ubuntu1~22.04) ...\n",
            "Selecting previously unselected package libc6-dbg:amd64.\n",
            "Preparing to unpack .../7-libc6-dbg_2.35-0ubuntu3.6_amd64.deb ...\n",
            "Unpacking libc6-dbg:amd64 (2.35-0ubuntu3.6) ...\n",
            "Setting up libdebuginfod-common (0.186-1build1) ...\n",
            "debconf: unable to initialize frontend: Dialog\n",
            "debconf: (No usable dialog-like program is installed, so the dialog based frontend cannot be used. at /usr/share/perl5/Debconf/FrontEnd/Dialog.pm line 78.)\n",
            "debconf: falling back to frontend: Readline\n",
            "\n",
            "Creating config file /etc/profile.d/debuginfod.sh with new version\n",
            "\n",
            "Creating config file /etc/profile.d/debuginfod.csh with new version\n",
            "Setting up libdebuginfod1:amd64 (0.186-1build1) ...\n",
            "Setting up libsource-highlight-common (3.1.9-4.1build2) ...\n",
            "Setting up libc6-dbg:amd64 (2.35-0ubuntu3.6) ...\n",
            "Setting up libipt2 (2.0.5-1) ...\n",
            "Setting up libbabeltrace1:amd64 (1.5.8-2build1) ...\n",
            "Setting up libsource-highlight4v5 (3.1.9-4.1build2) ...\n",
            "Setting up gdb (12.1-0ubuntu1~22.04) ...\n",
            "Processing triggers for man-db (2.10.2-1) ...\n",
            "Processing triggers for libc-bin (2.35-0ubuntu3.4) ...\n",
            "/sbin/ldconfig.real: /usr/local/lib/libtbbbind_2_0.so.3 is not a symbolic link\n",
            "\n",
            "/sbin/ldconfig.real: /usr/local/lib/libtbb.so.12 is not a symbolic link\n",
            "\n",
            "/sbin/ldconfig.real: /usr/local/lib/libtbbbind_2_5.so.3 is not a symbolic link\n",
            "\n",
            "/sbin/ldconfig.real: /usr/local/lib/libtbbbind.so.3 is not a symbolic link\n",
            "\n",
            "/sbin/ldconfig.real: /usr/local/lib/libtbbmalloc_proxy.so.2 is not a symbolic link\n",
            "\n",
            "/sbin/ldconfig.real: /usr/local/lib/libtbbmalloc.so.2 is not a symbolic link\n",
            "\n"
          ]
        }
      ]
    },
    {
      "cell_type": "code",
      "source": [
        "!gdb -q ./pointers\n"
      ],
      "metadata": {
        "colab": {
          "base_uri": "https://localhost:8080/"
        },
        "id": "YQp6EVAb4HSF",
        "outputId": "ca050ec1-3cf7-4cfc-b7a5-fc1483ae3a17"
      },
      "execution_count": null,
      "outputs": [
        {
          "output_type": "stream",
          "name": "stdout",
          "text": [
            "Reading symbols from \u001b[32m./pointers\u001b[m...\n",
            "\u001b[?2004h(gdb) list\n",
            "1\t\u001b[01;34m#include\u001b[m \u001b[31m<stdio.h>\u001b[m\n",
            "2\t\u001b[01;34m#include\u001b[m \u001b[31m<string.h>\u001b[m\n",
            "3\t\u001b[32mint\u001b[m \u001b[01mmain\u001b[m\u001b[31m()\u001b[m \u001b[31m{\u001b[m\n",
            "4\t \u001b[32mchar\u001b[m str_a\u001b[31m[\u001b[m\u001b[35m20\u001b[m\u001b[31m];\u001b[m \u001b[36m// A 20-element character array\u001b[m\n",
            "5\t \u001b[32mchar\u001b[m \u001b[31m*\u001b[mpointer\u001b[31m;\u001b[m \u001b[36m// A pointer, meant for a character array\u001b[m\n",
            "6\t \u001b[32mchar\u001b[m \u001b[31m*\u001b[mpointer2\u001b[31m;\u001b[m \u001b[36m// And yet another one\u001b[m\n",
            "7\t \u001b[01mstrcpy\u001b[m\u001b[31m(\u001b[mstr_a\u001b[31m,\u001b[m \u001b[31m\"Hello, world!\u001b[m\u001b[35m\\n\u001b[m\u001b[31m\"\u001b[m\u001b[31m);\u001b[m\n",
            "8\t pointer \u001b[31m=\u001b[m str_a\u001b[31m;\u001b[m \u001b[36m// Set the first pointer to the start of the array.\u001b[m\n",
            "9\t \u001b[01mprintf\u001b[m\u001b[31m(\u001b[mpointer\u001b[31m);\u001b[m\n",
            "10\t pointer2 \u001b[31m=\u001b[m pointer \u001b[31m+\u001b[m \u001b[35m2\u001b[m\u001b[31m;\u001b[m \u001b[36m// Set the second one 2 bytes further in.\u001b[m\n",
            "\u001b[?2004h(gdb) break 9\n",
            "Breakpoint 1 at \u001b[34m0x11ae\u001b[m: file \u001b[32mpointers.c\u001b[m, line 9.\n",
            "\u001b[?2004h(gdb) run\n",
            "Starting program: \u001b[32m/content/pointers\u001b[m \n",
            "warning: Error disabling address space randomization: Operation not permitted\n",
            "[Thread debugging using libthread_db enabled]\n",
            "Using host libthread_db library \"\u001b[32m/lib/x86_64-linux-gnu/libthread_db.so.1\u001b[m\".\n",
            "\n",
            "Breakpoint 1, \u001b[33mmain\u001b[m () at \u001b[32mpointers.c\u001b[m:9\n",
            "9\t \u001b[01mprintf\u001b[m\u001b[31m(\u001b[mpointer\u001b[31m);\u001b[m\n",
            "\u001b[?2004h(gdb) x.xw pointer\n",
            "Undefined command: \"x.xw\".  Try \"help\".\n",
            "\u001b[?2004h(gdb) x/xw pointer\n",
            "\u001b[34m0x7ffc56626260\u001b[m:\t0x6c6c6548\n",
            "\u001b[?2004h(gdb) x/s pointer\n",
            "\u001b[34m0x7ffc56626260\u001b[m:\t\"Hello, world!\\n\"\n",
            "\u001b[?2004h(gdb) x/xw &pointer\n",
            "\u001b[34m0x7ffc56626250\u001b[m:\t0x56626260\n",
            "\u001b[?2004h(gdb) print &pointer\n",
            "$1 = (char **\u001b[36m\u001b[m) \u001b[34m0x7ffc56626250\u001b[m\n",
            "\u001b[?2004h(gdb) printpointer\n",
            "Undefined command: \"printpointer\".  Try \"help\".\n",
            "\u001b[?2004h(gdb) print pointer\n",
            "$2 = \u001b[34m0x7ffc56626260\u001b[m \"Hello, world!\\n\"\n",
            "\u001b[?2004h(gdb) quit\n",
            "\u001b[?2004hA debugging session is active.\n",
            "\n",
            "\tInferior 1 [process 12570] will be killed.\n",
            "\n",
            "Quit anyway? (y or n) y\n"
          ]
        }
      ]
    },
    {
      "cell_type": "code",
      "source": [
        "%%writefile fmt_strings.c\n",
        "#include <stdio.h>\n",
        "#include <string.h>\n",
        "int main() {\n",
        " char string[10];\n",
        " int A = -73;\n",
        " unsigned int B = 31337;\n",
        " strcpy(string, \"sample\");\n",
        " // Example of printing with different format string\n",
        " printf(\"[A] Dec: %d, Hex: %x, Unsigned: %u\\n\", A, A, A);\n",
        " printf(\"[B] Dec: %d, Hex: %x, Unsigned: %u\\n\", B, B, B);\n",
        " printf(\"[field width on B] 3: '%3u', 10: '%10u', '%08u'\\n\", B, B, B);\n",
        " printf(\"[string] %s Address %08x\\n\", string, string);\n",
        " // Example of unary address operator (dereferencing) and a %x format string\n",
        " printf(\"variable A is at address: %08x\\n\", &A);\n",
        "}\n"
      ],
      "metadata": {
        "colab": {
          "base_uri": "https://localhost:8080/"
        },
        "id": "SjW5Y6dA4xO4",
        "outputId": "56a99218-b9ca-4ca9-e952-3976528f505d"
      },
      "execution_count": null,
      "outputs": [
        {
          "output_type": "stream",
          "name": "stdout",
          "text": [
            "Overwriting fmt_strings.c\n"
          ]
        }
      ]
    },
    {
      "cell_type": "code",
      "source": [
        "!gcc -g -o fmt_strings fmt_strings.c"
      ],
      "metadata": {
        "colab": {
          "base_uri": "https://localhost:8080/"
        },
        "id": "Qy2vkwkx-TDR",
        "outputId": "30acfb89-0c0f-424b-a8ac-30a61deeba6b"
      },
      "execution_count": null,
      "outputs": [
        {
          "output_type": "stream",
          "name": "stdout",
          "text": [
            "\u001b[01m\u001b[Kfmt_strings.c:\u001b[m\u001b[K In function ‘\u001b[01m\u001b[Kmain\u001b[m\u001b[K’:\n",
            "\u001b[01m\u001b[Kfmt_strings.c:12:33:\u001b[m\u001b[K \u001b[01;35m\u001b[Kwarning: \u001b[m\u001b[Kformat ‘\u001b[01m\u001b[K%x\u001b[m\u001b[K’ expects argument of type ‘\u001b[01m\u001b[Kunsigned int\u001b[m\u001b[K’, but argument 3 has type ‘\u001b[01m\u001b[Kchar *\u001b[m\u001b[K’ [\u001b[01;35m\u001b[K\u001b]8;;https://gcc.gnu.org/onlinedocs/gcc/Warning-Options.html#index-Wformat=\u0007-Wformat=\u001b]8;;\u0007\u001b[m\u001b[K]\n",
            "   12 |  printf(\"[string] %s Address \u001b[01;35m\u001b[K%08x\u001b[m\u001b[K\\n\", string, \u001b[32m\u001b[Kstring\u001b[m\u001b[K);\n",
            "      |                              \u001b[01;35m\u001b[K~~~^\u001b[m\u001b[K             \u001b[32m\u001b[K~~~~~~\u001b[m\u001b[K\n",
            "      |                                 \u001b[01;35m\u001b[K|\u001b[m\u001b[K             \u001b[32m\u001b[K|\u001b[m\u001b[K\n",
            "      |                                 \u001b[01;35m\u001b[Kunsigned int\u001b[m\u001b[K  \u001b[32m\u001b[Kchar *\u001b[m\u001b[K\n",
            "      |                              \u001b[32m\u001b[K%08s\u001b[m\u001b[K\n",
            "\u001b[01m\u001b[Kfmt_strings.c:14:39:\u001b[m\u001b[K \u001b[01;35m\u001b[Kwarning: \u001b[m\u001b[Kformat ‘\u001b[01m\u001b[K%x\u001b[m\u001b[K’ expects argument of type ‘\u001b[01m\u001b[Kunsigned int\u001b[m\u001b[K’, but argument 2 has type ‘\u001b[01m\u001b[Kint *\u001b[m\u001b[K’ [\u001b[01;35m\u001b[K\u001b]8;;https://gcc.gnu.org/onlinedocs/gcc/Warning-Options.html#index-Wformat=\u0007-Wformat=\u001b]8;;\u0007\u001b[m\u001b[K]\n",
            "   14 |  printf(\"variable A is at address: \u001b[01;35m\u001b[K%08x\u001b[m\u001b[K\\n\", \u001b[32m\u001b[K&A\u001b[m\u001b[K);\n",
            "      |                                    \u001b[01;35m\u001b[K~~~^\u001b[m\u001b[K     \u001b[32m\u001b[K~~\u001b[m\u001b[K\n",
            "      |                                       \u001b[01;35m\u001b[K|\u001b[m\u001b[K     \u001b[32m\u001b[K|\u001b[m\u001b[K\n",
            "      |                                       \u001b[01;35m\u001b[K|\u001b[m\u001b[K     \u001b[32m\u001b[Kint *\u001b[m\u001b[K\n",
            "      |                                       \u001b[01;35m\u001b[Kunsigned int\u001b[m\u001b[K\n",
            "      |                                    \u001b[32m\u001b[K%08ls\u001b[m\u001b[K\n"
          ]
        }
      ]
    },
    {
      "cell_type": "code",
      "source": [
        "!./fmt_strings"
      ],
      "metadata": {
        "colab": {
          "base_uri": "https://localhost:8080/"
        },
        "id": "SFBlSnvZ-Wad",
        "outputId": "26d43089-51aa-43f9-ff13-0f686d96f995"
      },
      "execution_count": null,
      "outputs": [
        {
          "output_type": "stream",
          "name": "stdout",
          "text": [
            "[A] Dec: -73, Hex: ffffffb7, Unsigned: 4294967223\n",
            "[B] Dec: 31337, Hex: 7a69, Unsigned: 31337\n",
            "[field width on B] 3: '31337', 10: '     31337', '00031337'\n",
            "[string] sample Address 664e52be\n",
            "variable A is at address: 664e52b4\n"
          ]
        }
      ]
    },
    {
      "cell_type": "code",
      "source": [
        "%%writefile typecasting.c\n",
        "#include <stdio.h>\n",
        "int main() { int a, b;\n",
        "float c, d;\n",
        "a = 13; b = 5;\n",
        "c = a / b;    // Divide integers\n",
        "d = (float) a / (float) b; // Divide integers typecast as floats.\n",
        "printf(\"[integers]\\t a = %d\\t b = %d\\n\", a, b);\n",
        "printf(\"[floats]\\t c = %f\\t d = %f\\n\", c, d); }"
      ],
      "metadata": {
        "id": "k8iVtom7-Ze8",
        "colab": {
          "base_uri": "https://localhost:8080/"
        },
        "outputId": "7ebef805-83a8-4640-9acb-8654d8fb24fa"
      },
      "execution_count": null,
      "outputs": [
        {
          "output_type": "stream",
          "name": "stdout",
          "text": [
            "Writing typecasting.c\n"
          ]
        }
      ]
    },
    {
      "cell_type": "code",
      "source": [
        "!gcc typecasting.c\n"
      ],
      "metadata": {
        "id": "7mBdWQknaNvI"
      },
      "execution_count": null,
      "outputs": []
    },
    {
      "cell_type": "code",
      "source": [
        "!./a.out"
      ],
      "metadata": {
        "colab": {
          "base_uri": "https://localhost:8080/"
        },
        "id": "KhEcY0lbaPMb",
        "outputId": "1b8f29c2-5daa-4f93-efed-727db3f79abc"
      },
      "execution_count": null,
      "outputs": [
        {
          "output_type": "stream",
          "name": "stdout",
          "text": [
            "[integers]\t a = 13\t b = 5\n",
            "[floats]\t c = 2.000000\t d = 2.600000\n"
          ]
        }
      ]
    },
    {
      "cell_type": "code",
      "source": [
        "%%writefile pointer_types.c\n",
        "#include <stdio.h>\n",
        "int main()\n",
        "{\n",
        "  int i;\n",
        "  char char_array[5] = {'a', 'b', 'c', 'd', 'e'}; int int_array[5] = {1, 2, 3, 4, 5};\n",
        "  char *char_pointer; int *int_pointer;\n",
        "  char_pointer = char_array; int_pointer = int_array;\n",
        "  for(i=0; i < 5; i++) {\n",
        "    // Iterate through the int array with the int_pointer.\n",
        "  printf(\"[integer pointer] points to %p, which contains the integer %d\\n\",\n",
        "  int_pointer, *int_pointer); int_pointer = int_pointer + 1;\n",
        "}\n",
        "   for(i=0; i < 5; i++) {\n",
        "    // Iterate through the char array with the char_pointer.\n",
        "    printf(\"[char pointer] points to %p, which contains the char '%c'\\n\",\n",
        "char_pointer, *char_pointer); char_pointer = char_pointer + 1;}\n",
        "}"
      ],
      "metadata": {
        "colab": {
          "base_uri": "https://localhost:8080/"
        },
        "id": "-VcTtwM4aQ3q",
        "outputId": "e06b0596-5048-41ef-8b61-886900d61f2e"
      },
      "execution_count": null,
      "outputs": [
        {
          "output_type": "stream",
          "name": "stdout",
          "text": [
            "Writing pointer_types.c\n"
          ]
        }
      ]
    },
    {
      "cell_type": "code",
      "source": [
        "!gcc pointer_types.c"
      ],
      "metadata": {
        "id": "etAUFj6Ua9A-"
      },
      "execution_count": null,
      "outputs": []
    },
    {
      "cell_type": "code",
      "source": [
        "!./a.out"
      ],
      "metadata": {
        "colab": {
          "base_uri": "https://localhost:8080/"
        },
        "id": "HHXLwAvobCEN",
        "outputId": "076913e5-2a28-44c2-8449-b0feb8fc1158"
      },
      "execution_count": null,
      "outputs": [
        {
          "output_type": "stream",
          "name": "stdout",
          "text": [
            "[integer pointer] points to 0x7ffd9122e4d0, which contains the integer 1\n",
            "[integer pointer] points to 0x7ffd9122e4d4, which contains the integer 2\n",
            "[integer pointer] points to 0x7ffd9122e4d8, which contains the integer 3\n",
            "[integer pointer] points to 0x7ffd9122e4dc, which contains the integer 4\n",
            "[integer pointer] points to 0x7ffd9122e4e0, which contains the integer 5\n",
            "[char pointer] points to 0x7ffd9122e4f3, which contains the char 'a'\n",
            "[char pointer] points to 0x7ffd9122e4f4, which contains the char 'b'\n",
            "[char pointer] points to 0x7ffd9122e4f5, which contains the char 'c'\n",
            "[char pointer] points to 0x7ffd9122e4f6, which contains the char 'd'\n",
            "[char pointer] points to 0x7ffd9122e4f7, which contains the char 'e'\n"
          ]
        }
      ]
    },
    {
      "cell_type": "code",
      "source": [
        "%%writefile pointertypes2.c\n",
        "#include <stdio.h>\n",
        "int main() { int i;\n",
        "char char_array[5] = {'a', 'b', 'c', 'd', 'e'};\n",
        "int int_array[5] = {1, 2, 3, 4, 5};\n",
        "char *char_pointer; int *int_pointer;\n",
        "char_pointer = int_array; // The char_pointer and int_pointer now int_pointer = char_array; // point to incompatible data types.\n",
        "for(i=0; i < 5; i++) { // Iterate through the int array with the int_pointer.\n",
        "printf(\"[integer pointer] points to %p, which contains the char '%c'\\n\",\n",
        "int_pointer, *int_pointer); int_pointer = int_pointer + 1;\n",
        "}\n",
        "for(i=0; i < 5; i++) {\n",
        "  printf(\"[char pointer] points to %p, which contains the integer %d\\n\", char_pointer, *char_pointer);\n",
        "char_pointer = char_pointer + 1; }\n",
        "}\n"
      ],
      "metadata": {
        "colab": {
          "base_uri": "https://localhost:8080/"
        },
        "id": "tnPTHuZobDCL",
        "outputId": "e1999798-567d-4c7b-ec3e-bde8de916406"
      },
      "execution_count": null,
      "outputs": [
        {
          "output_type": "stream",
          "name": "stdout",
          "text": [
            "Overwriting pointertypes2.c\n"
          ]
        }
      ]
    },
    {
      "cell_type": "markdown",
      "source": [
        "the same file as above but the character pointer is pointing to integer array and integer pointer is pointing to char_array. So, according to pointer arithmetic, we will not get desired behaviour"
      ],
      "metadata": {
        "id": "JiGBM6dOc9xO"
      }
    },
    {
      "cell_type": "code",
      "source": [
        "!gcc pointertypes2.c\n"
      ],
      "metadata": {
        "colab": {
          "base_uri": "https://localhost:8080/"
        },
        "id": "s0nktoVFdJPb",
        "outputId": "d68b8e3c-fbb2-4e82-dd71-b6975227ff7a"
      },
      "execution_count": null,
      "outputs": [
        {
          "output_type": "stream",
          "name": "stdout",
          "text": [
            "\u001b[01m\u001b[Kpointertypes2.c:\u001b[m\u001b[K In function ‘\u001b[01m\u001b[Kmain\u001b[m\u001b[K’:\n",
            "\u001b[01m\u001b[Kpointertypes2.c:5:14:\u001b[m\u001b[K \u001b[01;35m\u001b[Kwarning: \u001b[m\u001b[Kassignment to ‘\u001b[01m\u001b[Kchar *\u001b[m\u001b[K’ from incompatible pointer type ‘\u001b[01m\u001b[Kint *\u001b[m\u001b[K’ [\u001b[01;35m\u001b[K\u001b]8;;https://gcc.gnu.org/onlinedocs/gcc/Warning-Options.html#index-Wincompatible-pointer-types\u0007-Wincompatible-pointer-types\u001b]8;;\u0007\u001b[m\u001b[K]\n",
            "    5 | char_pointer \u001b[01;35m\u001b[K=\u001b[m\u001b[K int_array; // The char_pointer and int_pointer now int_pointer = char_array; // point to incompatible data types.\n",
            "      |              \u001b[01;35m\u001b[K^\u001b[m\u001b[K\n"
          ]
        }
      ]
    },
    {
      "cell_type": "code",
      "source": [
        "!./a.out"
      ],
      "metadata": {
        "id": "Um_1zt62dLrs"
      },
      "execution_count": null,
      "outputs": []
    },
    {
      "cell_type": "markdown",
      "source": [
        "How the pointer type is changed on the fly using typecase"
      ],
      "metadata": {
        "id": "pliuFqfFd-3l"
      }
    },
    {
      "cell_type": "code",
      "source": [
        "%%writefile pointertypes3.c\n",
        "#include <stdio.h>\n",
        "int main()\n",
        "{\n",
        "  int i;\n",
        "  char char_array[5] = {'a','b','c','d','e'};\n",
        "  int int_array[5] = {1,2,3,4,5};\n",
        "  char* char_ptr;\n",
        "  int* int_ptr;\n",
        "  char_ptr = int_array;\n",
        "  int_ptr = char_array;\n",
        "  for(int i=0;i<5;i++)\n",
        "  {\n",
        "    printf(\"[integer pointer] points to %p, which contains the char %c\\n\", int_ptr, *int_ptr);\n",
        "    int_ptr = (int*)((char*)int_ptr + 1);\n",
        "  }\n",
        "  for (int i=0;i<5;i++)\n",
        "  {\n",
        "    printf(\"[char pointer] points to %p, which contains the int %d\\n\", char_ptr, *char_ptr);\n",
        "    char_ptr = (char*) ((int*)char_ptr + 1);\n",
        "  }\n",
        "}"
      ],
      "metadata": {
        "colab": {
          "base_uri": "https://localhost:8080/"
        },
        "id": "zrGvLiD1dXaV",
        "outputId": "64d79e1e-7cad-4c9a-dc99-a9e05db283ca"
      },
      "execution_count": null,
      "outputs": [
        {
          "output_type": "stream",
          "name": "stdout",
          "text": [
            "Overwriting pointertypes3.c\n"
          ]
        }
      ]
    },
    {
      "cell_type": "code",
      "source": [
        "!gcc pointertypes3.c\n"
      ],
      "metadata": {
        "colab": {
          "base_uri": "https://localhost:8080/"
        },
        "id": "OCdnrvYaflY7",
        "outputId": "bd7114cf-b414-4bbf-fe32-9b043b826c45"
      },
      "execution_count": null,
      "outputs": [
        {
          "output_type": "stream",
          "name": "stdout",
          "text": [
            "\u001b[01m\u001b[Kpointertypes3.c:\u001b[m\u001b[K In function ‘\u001b[01m\u001b[Kmain\u001b[m\u001b[K’:\n",
            "\u001b[01m\u001b[Kpointertypes3.c:9:12:\u001b[m\u001b[K \u001b[01;35m\u001b[Kwarning: \u001b[m\u001b[Kassignment to ‘\u001b[01m\u001b[Kchar *\u001b[m\u001b[K’ from incompatible pointer type ‘\u001b[01m\u001b[Kint *\u001b[m\u001b[K’ [\u001b[01;35m\u001b[K\u001b]8;;https://gcc.gnu.org/onlinedocs/gcc/Warning-Options.html#index-Wincompatible-pointer-types\u0007-Wincompatible-pointer-types\u001b]8;;\u0007\u001b[m\u001b[K]\n",
            "    9 |   char_ptr \u001b[01;35m\u001b[K=\u001b[m\u001b[K int_array;\n",
            "      |            \u001b[01;35m\u001b[K^\u001b[m\u001b[K\n",
            "\u001b[01m\u001b[Kpointertypes3.c:10:11:\u001b[m\u001b[K \u001b[01;35m\u001b[Kwarning: \u001b[m\u001b[Kassignment to ‘\u001b[01m\u001b[Kint *\u001b[m\u001b[K’ from incompatible pointer type ‘\u001b[01m\u001b[Kchar *\u001b[m\u001b[K’ [\u001b[01;35m\u001b[K\u001b]8;;https://gcc.gnu.org/onlinedocs/gcc/Warning-Options.html#index-Wincompatible-pointer-types\u0007-Wincompatible-pointer-types\u001b]8;;\u0007\u001b[m\u001b[K]\n",
            "   10 |   int_ptr \u001b[01;35m\u001b[K=\u001b[m\u001b[K char_array;\n",
            "      |           \u001b[01;35m\u001b[K^\u001b[m\u001b[K\n"
          ]
        }
      ]
    },
    {
      "cell_type": "code",
      "source": [
        "!./a.out"
      ],
      "metadata": {
        "colab": {
          "base_uri": "https://localhost:8080/"
        },
        "id": "XxdwlUeAfnVc",
        "outputId": "3bb82214-6e11-4be1-a994-299f94a8921a"
      },
      "execution_count": null,
      "outputs": [
        {
          "output_type": "stream",
          "name": "stdout",
          "text": [
            "[integer pointer] points to 0x7ffe828007d3, which contains the char a\n",
            "[integer pointer] points to 0x7ffe828007d4, which contains the char b\n",
            "[integer pointer] points to 0x7ffe828007d5, which contains the char c\n",
            "[integer pointer] points to 0x7ffe828007d6, which contains the char d\n",
            "[integer pointer] points to 0x7ffe828007d7, which contains the char e\n",
            "[char pointer] points to 0x7ffe828007b0, which contains the int 1\n",
            "[char pointer] points to 0x7ffe828007b4, which contains the int 2\n",
            "[char pointer] points to 0x7ffe828007b8, which contains the int 3\n",
            "[char pointer] points to 0x7ffe828007bc, which contains the int 4\n",
            "[char pointer] points to 0x7ffe828007c0, which contains the int 5\n"
          ]
        }
      ]
    },
    {
      "cell_type": "markdown",
      "source": [
        "The above example may seem unnecessary, but in case a void pointer is used, it can be typecast to any other type when required. so, intead of maintaining two pointers for char, int, we can have one void pointer and extract info from it when required."
      ],
      "metadata": {
        "id": "vasGN2WigAlK"
      }
    },
    {
      "cell_type": "code",
      "source": [
        "%%writefile pointertypes4.c\n",
        "#include <stdio.h>\n",
        "int main() {\n",
        "    int i;\n",
        "char char_array[5] = {'a', 'b', 'c', 'd', 'e'};\n",
        "int int_array[5] = {1, 2, 3, 4, 5};\n",
        "void *void_pointer;\n",
        "void_pointer = (void *) char_array;\n",
        "for (int i=0;i<5;i++)\n",
        "{\n",
        "  printf(\"[void pointer] points to %p, which contains the char %c\\n\", void_pointer, *(char*)void_pointer);\n",
        "  void_pointer = (void*) ((char*)void_pointer+1);\n",
        "\n",
        "}\n",
        "void pointer = (void*) int_array;\n",
        "for (int i=0;i<5;i++)\n",
        "{\n",
        "  printf(\"[void pointer] points to %p, which contains the int %d\\n\", void_pointer, *(int*)void_pointer);\n",
        "  void_pointer = (void*) ((char*)void_pointer + 1);\n",
        "}\n",
        "return 0;\n",
        "}"
      ],
      "metadata": {
        "colab": {
          "base_uri": "https://localhost:8080/"
        },
        "id": "tFyXgvxefpGD",
        "outputId": "e0f8a54e-d914-4166-a533-8fa4c2a0d69a"
      },
      "execution_count": null,
      "outputs": [
        {
          "output_type": "stream",
          "name": "stdout",
          "text": [
            "Writing pointertypes4.c\n"
          ]
        }
      ]
    },
    {
      "cell_type": "code",
      "source": [
        "!gcc pointertypes4.c\n"
      ],
      "metadata": {
        "colab": {
          "base_uri": "https://localhost:8080/"
        },
        "id": "YkdCY0U0hQbi",
        "outputId": "9c500345-70eb-4077-fa29-27fd28bf39bc"
      },
      "execution_count": null,
      "outputs": [
        {
          "output_type": "stream",
          "name": "stdout",
          "text": [
            "\u001b[01m\u001b[Kpointertypes4.c:\u001b[m\u001b[K In function ‘\u001b[01m\u001b[Kmain\u001b[m\u001b[K’:\n",
            "\u001b[01m\u001b[Kpointertypes4.c:14:6:\u001b[m\u001b[K \u001b[01;31m\u001b[Kerror: \u001b[m\u001b[Kvariable or field ‘\u001b[01m\u001b[Kpointer\u001b[m\u001b[K’ declared void\n",
            "   14 | void \u001b[01;31m\u001b[Kpointer\u001b[m\u001b[K = (void*) int_array;\n",
            "      |      \u001b[01;31m\u001b[K^~~~~~~\u001b[m\u001b[K\n",
            "\u001b[01m\u001b[Kpointertypes4.c:14:16:\u001b[m\u001b[K \u001b[01;35m\u001b[Kwarning: \u001b[m\u001b[Kinitialization of ‘\u001b[01m\u001b[Kint\u001b[m\u001b[K’ from ‘\u001b[01m\u001b[Kvoid *\u001b[m\u001b[K’ makes integer from pointer without a cast [\u001b[01;35m\u001b[K\u001b]8;;https://gcc.gnu.org/onlinedocs/gcc/Warning-Options.html#index-Wint-conversion\u0007-Wint-conversion\u001b]8;;\u0007\u001b[m\u001b[K]\n",
            "   14 | void pointer = \u001b[01;35m\u001b[K(\u001b[m\u001b[Kvoid*) int_array;\n",
            "      |                \u001b[01;35m\u001b[K^\u001b[m\u001b[K\n"
          ]
        }
      ]
    },
    {
      "cell_type": "code",
      "source": [
        "!./a.out"
      ],
      "metadata": {
        "colab": {
          "base_uri": "https://localhost:8080/"
        },
        "id": "_0omiOB6hSok",
        "outputId": "dd716919-ea33-4e11-b2e1-e445a0644919"
      },
      "execution_count": null,
      "outputs": [
        {
          "output_type": "stream",
          "name": "stdout",
          "text": [
            "[integer pointer] points to 0x7ffdb3858ef3, which contains the char a\n",
            "[integer pointer] points to 0x7ffdb3858ef4, which contains the char b\n",
            "[integer pointer] points to 0x7ffdb3858ef5, which contains the char c\n",
            "[integer pointer] points to 0x7ffdb3858ef6, which contains the char d\n",
            "[integer pointer] points to 0x7ffdb3858ef7, which contains the char e\n",
            "[char pointer] points to 0x7ffdb3858ed0, which contains the int 1\n",
            "[char pointer] points to 0x7ffdb3858ed4, which contains the int 2\n",
            "[char pointer] points to 0x7ffdb3858ed8, which contains the int 3\n",
            "[char pointer] points to 0x7ffdb3858edc, which contains the int 4\n",
            "[char pointer] points to 0x7ffdb3858ee0, which contains the int 5\n"
          ]
        }
      ]
    },
    {
      "cell_type": "code",
      "source": [
        "%%writefile pointertypes5.c\n",
        "#include <stdio.h>\n",
        "int main()\n",
        "{\n",
        "  int int_array[5] = {1,2,3,4,5\n",
        "  };\n",
        "  char char_array[5] = {'a','b','c','d','e'};\n",
        "  unsigned long int hacky_nonpointer;\n",
        "  hacky_nonpointer = (unsigned long int) char_array;\n",
        "  for (int i=0;i<5;i++)\n",
        "  {\n",
        "    printf(\"[hacky_nonpointer] points to %p, which contains the char %c\\n\", hacky_nonpointer, *((char*)hacky_nonpointer));\n",
        "    hacky_nonpointer = hacky_nonpointer + sizeof(char);\n",
        "  }\n",
        "  hacky_nonpointer = (unsigned long int) int_array;\n",
        "  for(int i=0;i<5;i++)\n",
        "  {\n",
        "    printf(\"[hacky_nonpointer] points to %p, which contains the int %d\\n\", hacky_nonpointer, *((int*)hacky_nonpointer));\n",
        "    hacky_nonpointer = hacky_nonpointer + sizeof(int);\n",
        "  }\n",
        "  return 0;\n",
        "}"
      ],
      "metadata": {
        "id": "AqNenpT8hWAz",
        "colab": {
          "base_uri": "https://localhost:8080/"
        },
        "outputId": "51a6f9f2-12c7-481f-da8a-8666d7ec97b2"
      },
      "execution_count": null,
      "outputs": [
        {
          "output_type": "stream",
          "name": "stdout",
          "text": [
            "Overwriting pointertypes5.c\n"
          ]
        }
      ]
    },
    {
      "cell_type": "code",
      "source": [
        "!gcc pointertypes5.c"
      ],
      "metadata": {
        "colab": {
          "base_uri": "https://localhost:8080/"
        },
        "id": "IWN3vhdu9oXT",
        "outputId": "8aec9305-c7bf-48e2-ede5-98ba3f6ca82f"
      },
      "execution_count": null,
      "outputs": [
        {
          "output_type": "stream",
          "name": "stdout",
          "text": [
            "\u001b[01m\u001b[Kpointertypes5.c:\u001b[m\u001b[K In function ‘\u001b[01m\u001b[Kmain\u001b[m\u001b[K’:\n",
            "\u001b[01m\u001b[Kpointertypes5.c:11:43:\u001b[m\u001b[K \u001b[01;35m\u001b[Kwarning: \u001b[m\u001b[Kformat ‘\u001b[01m\u001b[K%p\u001b[m\u001b[K’ expects argument of type ‘\u001b[01m\u001b[Kvoid *\u001b[m\u001b[K’, but argument 2 has type ‘\u001b[01m\u001b[Klong unsigned int\u001b[m\u001b[K’ [\u001b[01;35m\u001b[K\u001b]8;;https://gcc.gnu.org/onlinedocs/gcc/Warning-Options.html#index-Wformat=\u0007-Wformat=\u001b]8;;\u0007\u001b[m\u001b[K]\n",
            "   11 |     printf(\"[hacky_nonpointer] points to \u001b[01;35m\u001b[K%p\u001b[m\u001b[K, which contains the char %c\\n\", \u001b[32m\u001b[Khacky_nonpointer\u001b[m\u001b[K, *((char*)hacky_nonpointer));\n",
            "      |                                          \u001b[01;35m\u001b[K~^\u001b[m\u001b[K                                 \u001b[32m\u001b[K~~~~~~~~~~~~~~~~\u001b[m\u001b[K\n",
            "      |                                           \u001b[01;35m\u001b[K|\u001b[m\u001b[K                                 \u001b[32m\u001b[K|\u001b[m\u001b[K\n",
            "      |                                           \u001b[01;35m\u001b[Kvoid *\u001b[m\u001b[K                            \u001b[32m\u001b[Klong unsigned int\u001b[m\u001b[K\n",
            "      |                                          \u001b[32m\u001b[K%ld\u001b[m\u001b[K\n",
            "\u001b[01m\u001b[Kpointertypes5.c:17:43:\u001b[m\u001b[K \u001b[01;35m\u001b[Kwarning: \u001b[m\u001b[Kformat ‘\u001b[01m\u001b[K%p\u001b[m\u001b[K’ expects argument of type ‘\u001b[01m\u001b[Kvoid *\u001b[m\u001b[K’, but argument 2 has type ‘\u001b[01m\u001b[Klong unsigned int\u001b[m\u001b[K’ [\u001b[01;35m\u001b[K\u001b]8;;https://gcc.gnu.org/onlinedocs/gcc/Warning-Options.html#index-Wformat=\u0007-Wformat=\u001b]8;;\u0007\u001b[m\u001b[K]\n",
            "   17 |     printf(\"[hacky_nonpointer] points to \u001b[01;35m\u001b[K%p\u001b[m\u001b[K, which contains the int %d\\n\", \u001b[32m\u001b[Khacky_nonpointer\u001b[m\u001b[K, *((int*)hacky_nonpointer));\n",
            "      |                                          \u001b[01;35m\u001b[K~^\u001b[m\u001b[K                                \u001b[32m\u001b[K~~~~~~~~~~~~~~~~\u001b[m\u001b[K\n",
            "      |                                           \u001b[01;35m\u001b[K|\u001b[m\u001b[K                                \u001b[32m\u001b[K|\u001b[m\u001b[K\n",
            "      |                                           \u001b[01;35m\u001b[Kvoid *\u001b[m\u001b[K                           \u001b[32m\u001b[Klong unsigned int\u001b[m\u001b[K\n",
            "      |                                          \u001b[32m\u001b[K%ld\u001b[m\u001b[K\n"
          ]
        }
      ]
    },
    {
      "cell_type": "code",
      "source": [
        "!./a.out"
      ],
      "metadata": {
        "colab": {
          "base_uri": "https://localhost:8080/"
        },
        "id": "gaOpNEyv9rNa",
        "outputId": "03498b0b-f92b-4502-de45-dc0f9d165000"
      },
      "execution_count": null,
      "outputs": [
        {
          "output_type": "stream",
          "name": "stdout",
          "text": [
            "[hacky_nonpointer] points to 0x7ffe4ee992a3, which contains the char a\n",
            "[hacky_nonpointer] points to 0x7ffe4ee992a4, which contains the char b\n",
            "[hacky_nonpointer] points to 0x7ffe4ee992a5, which contains the char c\n",
            "[hacky_nonpointer] points to 0x7ffe4ee992a6, which contains the char d\n",
            "[hacky_nonpointer] points to 0x7ffe4ee992a7, which contains the char e\n",
            "[hacky_nonpointer] points to 0x7ffe4ee99280, which contains the int 1\n",
            "[hacky_nonpointer] points to 0x7ffe4ee99284, which contains the int 2\n",
            "[hacky_nonpointer] points to 0x7ffe4ee99288, which contains the int 3\n",
            "[hacky_nonpointer] points to 0x7ffe4ee9928c, which contains the int 4\n",
            "[hacky_nonpointer] points to 0x7ffe4ee99290, which contains the int 5\n"
          ]
        }
      ]
    },
    {
      "cell_type": "markdown",
      "source": [
        "instead of using a pointer to store the address of the array, we use a unsigned long int which is capable of holding the address in this particular machine. cpp has something similar like intptr_t or uintptr_t!"
      ],
      "metadata": {
        "id": "vdfUJuTZ90ca"
      }
    },
    {
      "cell_type": "markdown",
      "source": [
        "Command line arguments : Interacting with the executable from the command line."
      ],
      "metadata": {
        "id": "qR8KZyib-OlN"
      }
    },
    {
      "cell_type": "code",
      "source": [
        "%%writefile commandline.c\n",
        "#include <stdio.h>\n",
        "int main(int arg_count, char* arg_list[])\n",
        "{\n",
        "  int i;\n",
        "  printf(\"The number of arguments : %d\\n\", arg_count);\n",
        "  for (i=0;i<arg_count;i++)\n",
        "  {\n",
        "    printf(\"argument #%d\\t - \\t%s\\n\", i, arg_list[i]);\n",
        "  }\n",
        "  return 0;\n",
        "\n",
        "}"
      ],
      "metadata": {
        "colab": {
          "base_uri": "https://localhost:8080/"
        },
        "id": "NAq7Q9sb9sVu",
        "outputId": "66335e32-28eb-4255-fb39-d8f4f7c9f8de"
      },
      "execution_count": null,
      "outputs": [
        {
          "output_type": "stream",
          "name": "stdout",
          "text": [
            "Writing commandline.c\n"
          ]
        }
      ]
    },
    {
      "cell_type": "code",
      "source": [
        "!gcc -o commandline commandline.c"
      ],
      "metadata": {
        "id": "lcs5Oh_iC0vx"
      },
      "execution_count": null,
      "outputs": []
    },
    {
      "cell_type": "code",
      "source": [
        "!./commandline"
      ],
      "metadata": {
        "colab": {
          "base_uri": "https://localhost:8080/"
        },
        "id": "X1devtaEC2Wk",
        "outputId": "cd618faa-9cb9-4108-d719-a5e5e6d469fc"
      },
      "execution_count": null,
      "outputs": [
        {
          "output_type": "stream",
          "name": "stdout",
          "text": [
            "The number of arguments : 1\n",
            "argument #0\t - \t./commandline\n"
          ]
        }
      ]
    },
    {
      "cell_type": "code",
      "source": [
        "!./commandline this is a test"
      ],
      "metadata": {
        "colab": {
          "base_uri": "https://localhost:8080/"
        },
        "id": "EXq9pWtyC8cE",
        "outputId": "13ddd644-0902-42dd-8879-6898ac0e2850"
      },
      "execution_count": null,
      "outputs": [
        {
          "output_type": "stream",
          "name": "stdout",
          "text": [
            "The number of arguments : 5\n",
            "argument #0\t - \t./commandline\n",
            "argument #1\t - \tthis\n",
            "argument #2\t - \tis\n",
            "argument #3\t - \ta\n",
            "argument #4\t - \ttest\n"
          ]
        }
      ]
    },
    {
      "cell_type": "markdown",
      "source": [
        "in case an integer is to passed as commandline argument, it is passed as string and then converted inside using atoi() API.\n"
      ],
      "metadata": {
        "id": "jcZgYrP5-N5o"
      }
    },
    {
      "cell_type": "code",
      "source": [
        "%%writefile convert.c\n",
        "#include <stdio.h>\n",
        "void usage(char *program_name) {\n",
        "printf(\"Usage: %s <message> <# of times to repeat>\\n\", program_name); exit(1);\n",
        "}\n",
        "\n",
        "int main(int argc, char *argv[]) {\n",
        "int i, count;\n",
        "if(argc < 3) // If fewer than 3 arguments are used,\n",
        "usage(argv[0]); // display usage message and exit.\n",
        "count = atoi(argv[2]); // Convert the 2nd arg into an integer.\n",
        "printf(\"Repeating %d times..\\n\", count);\n",
        "for(i=0; i < count; i++)\n",
        "printf(\"%3d - %s\\n\", i, argv[1]); // Print the 1st arg.\n",
        "}"
      ],
      "metadata": {
        "colab": {
          "base_uri": "https://localhost:8080/"
        },
        "id": "Wr7RCBBIFizc",
        "outputId": "2dc7413b-4513-4bb0-9425-25393e88e964"
      },
      "execution_count": null,
      "outputs": [
        {
          "output_type": "stream",
          "name": "stdout",
          "text": [
            "Overwriting convert.c\n"
          ]
        }
      ]
    },
    {
      "cell_type": "code",
      "source": [
        "!gcc convert.c"
      ],
      "metadata": {
        "colab": {
          "base_uri": "https://localhost:8080/"
        },
        "id": "F5PTXqe9FkX8",
        "outputId": "90e74db5-fd9d-409e-83d1-a73630b8ad83"
      },
      "execution_count": null,
      "outputs": [
        {
          "output_type": "stream",
          "name": "stdout",
          "text": [
            "\u001b[01m\u001b[Kconvert.c:\u001b[m\u001b[K In function ‘\u001b[01m\u001b[Kusage\u001b[m\u001b[K’:\n",
            "\u001b[01m\u001b[Kconvert.c:3:71:\u001b[m\u001b[K \u001b[01;35m\u001b[Kwarning: \u001b[m\u001b[Kimplicit declaration of function ‘\u001b[01m\u001b[Kexit\u001b[m\u001b[K’ [\u001b[01;35m\u001b[K\u001b]8;;https://gcc.gnu.org/onlinedocs/gcc/Warning-Options.html#index-Wimplicit-function-declaration\u0007-Wimplicit-function-declaration\u001b]8;;\u0007\u001b[m\u001b[K]\n",
            "    3 | printf(\"Usage: %s <message> <# of times to repeat>\\n\", program_name); \u001b[01;35m\u001b[Kexit\u001b[m\u001b[K(1);\n",
            "      |                                                                       \u001b[01;35m\u001b[K^~~~\u001b[m\u001b[K\n",
            "\u001b[01m\u001b[Kconvert.c:2:1:\u001b[m\u001b[K \u001b[01;36m\u001b[Knote: \u001b[m\u001b[Kinclude ‘\u001b[01m\u001b[K<stdlib.h>\u001b[m\u001b[K’ or provide a declaration of ‘\u001b[01m\u001b[Kexit\u001b[m\u001b[K’\n",
            "    1 | #include <stdio.h>\n",
            "  +++ |+\u001b[32m\u001b[K#include <stdlib.h>\u001b[m\u001b[K\n",
            "    2 | void usage(char *program_name) {\n",
            "\u001b[01m\u001b[Kconvert.c:3:71:\u001b[m\u001b[K \u001b[01;35m\u001b[Kwarning: \u001b[m\u001b[Kincompatible implicit declaration of built-in function ‘\u001b[01m\u001b[Kexit\u001b[m\u001b[K’ [\u001b[01;35m\u001b[K\u001b]8;;https://gcc.gnu.org/onlinedocs/gcc/Warning-Options.html#index-Wbuiltin-declaration-mismatch\u0007-Wbuiltin-declaration-mismatch\u001b]8;;\u0007\u001b[m\u001b[K]\n",
            "    3 | printf(\"Usage: %s <message> <# of times to repeat>\\n\", program_name); \u001b[01;35m\u001b[Kexit\u001b[m\u001b[K(1);\n",
            "      |                                                                       \u001b[01;35m\u001b[K^~~~\u001b[m\u001b[K\n",
            "\u001b[01m\u001b[Kconvert.c:3:71:\u001b[m\u001b[K \u001b[01;36m\u001b[Knote: \u001b[m\u001b[Kinclude ‘\u001b[01m\u001b[K<stdlib.h>\u001b[m\u001b[K’ or provide a declaration of ‘\u001b[01m\u001b[Kexit\u001b[m\u001b[K’\n",
            "\u001b[01m\u001b[Kconvert.c:\u001b[m\u001b[K In function ‘\u001b[01m\u001b[Kmain\u001b[m\u001b[K’:\n",
            "\u001b[01m\u001b[Kconvert.c:10:9:\u001b[m\u001b[K \u001b[01;35m\u001b[Kwarning: \u001b[m\u001b[Kimplicit declaration of function ‘\u001b[01m\u001b[Katoi\u001b[m\u001b[K’ [\u001b[01;35m\u001b[K\u001b]8;;https://gcc.gnu.org/onlinedocs/gcc/Warning-Options.html#index-Wimplicit-function-declaration\u0007-Wimplicit-function-declaration\u001b]8;;\u0007\u001b[m\u001b[K]\n",
            "   10 | count = \u001b[01;35m\u001b[Katoi\u001b[m\u001b[K(argv[2]); // Convert the 2nd arg into an integer.\n",
            "      |         \u001b[01;35m\u001b[K^~~~\u001b[m\u001b[K\n"
          ]
        }
      ]
    },
    {
      "cell_type": "code",
      "source": [
        "!./a.out"
      ],
      "metadata": {
        "colab": {
          "base_uri": "https://localhost:8080/"
        },
        "id": "4eCfN7NpFvLN",
        "outputId": "046d3414-47cd-4cf1-8e42-7c8b64d24662"
      },
      "execution_count": null,
      "outputs": [
        {
          "output_type": "stream",
          "name": "stdout",
          "text": [
            "Usage: ./a.out <message> <# of times to repeat>\n"
          ]
        }
      ]
    },
    {
      "cell_type": "code",
      "source": [
        "!./a.out 'Hello,world!' 3"
      ],
      "metadata": {
        "colab": {
          "base_uri": "https://localhost:8080/"
        },
        "id": "KVYPEYVMF0U5",
        "outputId": "c273f831-41e5-4016-93c5-67ed5ccb6b6c"
      },
      "execution_count": null,
      "outputs": [
        {
          "output_type": "stream",
          "name": "stdout",
          "text": [
            "Repeating 3 times..\n",
            "  0 - Hello,world!\n",
            "  1 - Hello,world!\n",
            "  2 - Hello,world!\n"
          ]
        }
      ]
    },
    {
      "cell_type": "markdown",
      "source": [
        "in the above code, there is a if condition which checks if we have enough number of argument vectors before trying to access it. If this is not there, our program will try to access memory locations which are not allocated for our programs and will return segmentation fault."
      ],
      "metadata": {
        "id": "Na0X1RevG400"
      }
    },
    {
      "cell_type": "code",
      "source": [
        "%%writefile convert2.c\n",
        "#include <stdio.h>\n",
        "void usage(char *program_name) {\n",
        "printf(\"Usage: %s <message> <# of times to repeat>\\n\", program_name);\n",
        "exit(1);\n",
        "}\n",
        "\n",
        "int main(int argc, char *argv[]) {\n",
        "  int i, count;\n",
        "  printf(\"The first argument is %s\\n\", argv[0]);\n",
        "  count = atoi(argv[2]); // Convert the 2nd arg into an integer.\n",
        "  printf(\"Repeating %d times..\\n\", count);\n",
        "for(i=0; i < count; i++)\n",
        "printf(\"%3d - %s\\n\", i, argv[1]); // Print the 1st arg.\n",
        "}"
      ],
      "metadata": {
        "colab": {
          "base_uri": "https://localhost:8080/"
        },
        "id": "JwgUMKKwGF50",
        "outputId": "2384653c-7124-4021-bf54-5a0eecb74bc6"
      },
      "execution_count": null,
      "outputs": [
        {
          "output_type": "stream",
          "name": "stdout",
          "text": [
            "Overwriting convert2.c\n"
          ]
        }
      ]
    },
    {
      "cell_type": "code",
      "source": [
        "!gcc convert2.c"
      ],
      "metadata": {
        "colab": {
          "base_uri": "https://localhost:8080/"
        },
        "id": "bVkmap2cKvQ1",
        "outputId": "de66403c-30b2-4e98-fc42-0e9320140344"
      },
      "execution_count": null,
      "outputs": [
        {
          "output_type": "stream",
          "name": "stdout",
          "text": [
            "\u001b[01m\u001b[Kconvert2.c:\u001b[m\u001b[K In function ‘\u001b[01m\u001b[Kusage\u001b[m\u001b[K’:\n",
            "\u001b[01m\u001b[Kconvert2.c:4:1:\u001b[m\u001b[K \u001b[01;35m\u001b[Kwarning: \u001b[m\u001b[Kimplicit declaration of function ‘\u001b[01m\u001b[Kexit\u001b[m\u001b[K’ [\u001b[01;35m\u001b[K\u001b]8;;https://gcc.gnu.org/onlinedocs/gcc/Warning-Options.html#index-Wimplicit-function-declaration\u0007-Wimplicit-function-declaration\u001b]8;;\u0007\u001b[m\u001b[K]\n",
            "    4 | \u001b[01;35m\u001b[Kexit\u001b[m\u001b[K(1);\n",
            "      | \u001b[01;35m\u001b[K^~~~\u001b[m\u001b[K\n",
            "\u001b[01m\u001b[Kconvert2.c:2:1:\u001b[m\u001b[K \u001b[01;36m\u001b[Knote: \u001b[m\u001b[Kinclude ‘\u001b[01m\u001b[K<stdlib.h>\u001b[m\u001b[K’ or provide a declaration of ‘\u001b[01m\u001b[Kexit\u001b[m\u001b[K’\n",
            "    1 | #include <stdio.h>\n",
            "  +++ |+\u001b[32m\u001b[K#include <stdlib.h>\u001b[m\u001b[K\n",
            "    2 | void usage(char *program_name) {\n",
            "\u001b[01m\u001b[Kconvert2.c:4:1:\u001b[m\u001b[K \u001b[01;35m\u001b[Kwarning: \u001b[m\u001b[Kincompatible implicit declaration of built-in function ‘\u001b[01m\u001b[Kexit\u001b[m\u001b[K’ [\u001b[01;35m\u001b[K\u001b]8;;https://gcc.gnu.org/onlinedocs/gcc/Warning-Options.html#index-Wbuiltin-declaration-mismatch\u0007-Wbuiltin-declaration-mismatch\u001b]8;;\u0007\u001b[m\u001b[K]\n",
            "    4 | \u001b[01;35m\u001b[Kexit\u001b[m\u001b[K(1);\n",
            "      | \u001b[01;35m\u001b[K^~~~\u001b[m\u001b[K\n",
            "\u001b[01m\u001b[Kconvert2.c:4:1:\u001b[m\u001b[K \u001b[01;36m\u001b[Knote: \u001b[m\u001b[Kinclude ‘\u001b[01m\u001b[K<stdlib.h>\u001b[m\u001b[K’ or provide a declaration of ‘\u001b[01m\u001b[Kexit\u001b[m\u001b[K’\n",
            "\u001b[01m\u001b[Kconvert2.c:\u001b[m\u001b[K In function ‘\u001b[01m\u001b[Kmain\u001b[m\u001b[K’:\n",
            "\u001b[01m\u001b[Kconvert2.c:10:11:\u001b[m\u001b[K \u001b[01;35m\u001b[Kwarning: \u001b[m\u001b[Kimplicit declaration of function ‘\u001b[01m\u001b[Katoi\u001b[m\u001b[K’ [\u001b[01;35m\u001b[K\u001b]8;;https://gcc.gnu.org/onlinedocs/gcc/Warning-Options.html#index-Wimplicit-function-declaration\u0007-Wimplicit-function-declaration\u001b]8;;\u0007\u001b[m\u001b[K]\n",
            "   10 |   count = \u001b[01;35m\u001b[Katoi\u001b[m\u001b[K(argv[2]); // Convert the 2nd arg into an integer.\n",
            "      |           \u001b[01;35m\u001b[K^~~~\u001b[m\u001b[K\n"
          ]
        }
      ]
    },
    {
      "cell_type": "code",
      "source": [
        "!./a.out"
      ],
      "metadata": {
        "colab": {
          "base_uri": "https://localhost:8080/"
        },
        "id": "emF3PWi_Kwg-",
        "outputId": "c63fffd4-eb50-44fd-ab61-7ddeae99d9c8"
      },
      "execution_count": null,
      "outputs": [
        {
          "output_type": "stream",
          "name": "stdout",
          "text": [
            "The first argument is ./a.out\n",
            "Repeating 0 times..\n"
          ]
        }
      ]
    },
    {
      "cell_type": "code",
      "source": [
        "!./a.out test"
      ],
      "metadata": {
        "colab": {
          "base_uri": "https://localhost:8080/"
        },
        "id": "JLjCJ9mdKyhC",
        "outputId": "5d13cfe7-f61b-4012-b4d8-7bb0ec733367"
      },
      "execution_count": null,
      "outputs": [
        {
          "output_type": "stream",
          "name": "stdout",
          "text": [
            "The first argument is ./a.out\n"
          ]
        }
      ]
    },
    {
      "cell_type": "markdown",
      "source": [],
      "metadata": {
        "id": "aK-95G5gLNfS"
      }
    },
    {
      "cell_type": "code",
      "source": [
        "!gcc -g convert2.c"
      ],
      "metadata": {
        "colab": {
          "base_uri": "https://localhost:8080/"
        },
        "id": "auskrLdaK7zL",
        "outputId": "bd318611-a11b-48bb-f746-1e61de01d59a"
      },
      "execution_count": null,
      "outputs": [
        {
          "output_type": "stream",
          "name": "stdout",
          "text": [
            "\u001b[01m\u001b[Kconvert2.c:\u001b[m\u001b[K In function ‘\u001b[01m\u001b[Kusage\u001b[m\u001b[K’:\n",
            "\u001b[01m\u001b[Kconvert2.c:4:1:\u001b[m\u001b[K \u001b[01;35m\u001b[Kwarning: \u001b[m\u001b[Kimplicit declaration of function ‘\u001b[01m\u001b[Kexit\u001b[m\u001b[K’ [\u001b[01;35m\u001b[K\u001b]8;;https://gcc.gnu.org/onlinedocs/gcc/Warning-Options.html#index-Wimplicit-function-declaration\u0007-Wimplicit-function-declaration\u001b]8;;\u0007\u001b[m\u001b[K]\n",
            "    4 | \u001b[01;35m\u001b[Kexit\u001b[m\u001b[K(1);\n",
            "      | \u001b[01;35m\u001b[K^~~~\u001b[m\u001b[K\n",
            "\u001b[01m\u001b[Kconvert2.c:2:1:\u001b[m\u001b[K \u001b[01;36m\u001b[Knote: \u001b[m\u001b[Kinclude ‘\u001b[01m\u001b[K<stdlib.h>\u001b[m\u001b[K’ or provide a declaration of ‘\u001b[01m\u001b[Kexit\u001b[m\u001b[K’\n",
            "    1 | #include <stdio.h>\n",
            "  +++ |+\u001b[32m\u001b[K#include <stdlib.h>\u001b[m\u001b[K\n",
            "    2 | void usage(char *program_name) {\n",
            "\u001b[01m\u001b[Kconvert2.c:4:1:\u001b[m\u001b[K \u001b[01;35m\u001b[Kwarning: \u001b[m\u001b[Kincompatible implicit declaration of built-in function ‘\u001b[01m\u001b[Kexit\u001b[m\u001b[K’ [\u001b[01;35m\u001b[K\u001b]8;;https://gcc.gnu.org/onlinedocs/gcc/Warning-Options.html#index-Wbuiltin-declaration-mismatch\u0007-Wbuiltin-declaration-mismatch\u001b]8;;\u0007\u001b[m\u001b[K]\n",
            "    4 | \u001b[01;35m\u001b[Kexit\u001b[m\u001b[K(1);\n",
            "      | \u001b[01;35m\u001b[K^~~~\u001b[m\u001b[K\n",
            "\u001b[01m\u001b[Kconvert2.c:4:1:\u001b[m\u001b[K \u001b[01;36m\u001b[Knote: \u001b[m\u001b[Kinclude ‘\u001b[01m\u001b[K<stdlib.h>\u001b[m\u001b[K’ or provide a declaration of ‘\u001b[01m\u001b[Kexit\u001b[m\u001b[K’\n",
            "\u001b[01m\u001b[Kconvert2.c:\u001b[m\u001b[K In function ‘\u001b[01m\u001b[Kmain\u001b[m\u001b[K’:\n",
            "\u001b[01m\u001b[Kconvert2.c:10:11:\u001b[m\u001b[K \u001b[01;35m\u001b[Kwarning: \u001b[m\u001b[Kimplicit declaration of function ‘\u001b[01m\u001b[Katoi\u001b[m\u001b[K’ [\u001b[01;35m\u001b[K\u001b]8;;https://gcc.gnu.org/onlinedocs/gcc/Warning-Options.html#index-Wimplicit-function-declaration\u0007-Wimplicit-function-declaration\u001b]8;;\u0007\u001b[m\u001b[K]\n",
            "   10 |   count = \u001b[01;35m\u001b[Katoi\u001b[m\u001b[K(argv[2]); // Convert the 2nd arg into an integer.\n",
            "      |           \u001b[01;35m\u001b[K^~~~\u001b[m\u001b[K\n"
          ]
        }
      ]
    },
    {
      "cell_type": "code",
      "source": [
        "!sudo apt install gdb"
      ],
      "metadata": {
        "colab": {
          "base_uri": "https://localhost:8080/"
        },
        "id": "TOR35iQNLr8l",
        "outputId": "6865c0d0-3c17-4a49-e775-fa65f1e08b63"
      },
      "execution_count": null,
      "outputs": [
        {
          "output_type": "stream",
          "name": "stdout",
          "text": [
            "Reading package lists... Done\n",
            "Building dependency tree... Done\n",
            "Reading state information... Done\n",
            "The following additional packages will be installed:\n",
            "  libbabeltrace1 libc6-dbg libdebuginfod-common libdebuginfod1 libipt2\n",
            "  libsource-highlight-common libsource-highlight4v5\n",
            "Suggested packages:\n",
            "  gdb-doc gdbserver\n",
            "The following NEW packages will be installed:\n",
            "  gdb libbabeltrace1 libc6-dbg libdebuginfod-common libdebuginfod1 libipt2\n",
            "  libsource-highlight-common libsource-highlight4v5\n",
            "0 upgraded, 8 newly installed, 0 to remove and 38 not upgraded.\n",
            "Need to get 18.3 MB of archives.\n",
            "After this operation, 32.0 MB of additional disk space will be used.\n",
            "Get:1 http://archive.ubuntu.com/ubuntu jammy/main amd64 libdebuginfod-common all 0.186-1build1 [7,878 B]\n",
            "Get:2 http://archive.ubuntu.com/ubuntu jammy/main amd64 libbabeltrace1 amd64 1.5.8-2build1 [160 kB]\n",
            "Get:3 http://archive.ubuntu.com/ubuntu jammy/main amd64 libdebuginfod1 amd64 0.186-1build1 [12.7 kB]\n",
            "Get:4 http://archive.ubuntu.com/ubuntu jammy/main amd64 libipt2 amd64 2.0.5-1 [46.4 kB]\n",
            "Get:5 http://archive.ubuntu.com/ubuntu jammy/main amd64 libsource-highlight-common all 3.1.9-4.1build2 [64.5 kB]\n",
            "Get:6 http://archive.ubuntu.com/ubuntu jammy/main amd64 libsource-highlight4v5 amd64 3.1.9-4.1build2 [207 kB]\n",
            "Get:7 http://archive.ubuntu.com/ubuntu jammy-updates/main amd64 gdb amd64 12.1-0ubuntu1~22.04 [3,919 kB]\n",
            "Get:8 http://archive.ubuntu.com/ubuntu jammy-updates/main amd64 libc6-dbg amd64 2.35-0ubuntu3.6 [13.8 MB]\n",
            "Fetched 18.3 MB in 2s (9,618 kB/s)\n",
            "debconf: unable to initialize frontend: Dialog\n",
            "debconf: (No usable dialog-like program is installed, so the dialog based frontend cannot be used. at /usr/share/perl5/Debconf/FrontEnd/Dialog.pm line 78, <> line 8.)\n",
            "debconf: falling back to frontend: Readline\n",
            "debconf: unable to initialize frontend: Readline\n",
            "debconf: (This frontend requires a controlling tty.)\n",
            "debconf: falling back to frontend: Teletype\n",
            "dpkg-preconfigure: unable to re-open stdin: \n",
            "Selecting previously unselected package libdebuginfod-common.\n",
            "(Reading database ... 121752 files and directories currently installed.)\n",
            "Preparing to unpack .../0-libdebuginfod-common_0.186-1build1_all.deb ...\n",
            "Unpacking libdebuginfod-common (0.186-1build1) ...\n",
            "Selecting previously unselected package libbabeltrace1:amd64.\n",
            "Preparing to unpack .../1-libbabeltrace1_1.5.8-2build1_amd64.deb ...\n",
            "Unpacking libbabeltrace1:amd64 (1.5.8-2build1) ...\n",
            "Selecting previously unselected package libdebuginfod1:amd64.\n",
            "Preparing to unpack .../2-libdebuginfod1_0.186-1build1_amd64.deb ...\n",
            "Unpacking libdebuginfod1:amd64 (0.186-1build1) ...\n",
            "Selecting previously unselected package libipt2.\n",
            "Preparing to unpack .../3-libipt2_2.0.5-1_amd64.deb ...\n",
            "Unpacking libipt2 (2.0.5-1) ...\n",
            "Selecting previously unselected package libsource-highlight-common.\n",
            "Preparing to unpack .../4-libsource-highlight-common_3.1.9-4.1build2_all.deb ...\n",
            "Unpacking libsource-highlight-common (3.1.9-4.1build2) ...\n",
            "Selecting previously unselected package libsource-highlight4v5.\n",
            "Preparing to unpack .../5-libsource-highlight4v5_3.1.9-4.1build2_amd64.deb ...\n",
            "Unpacking libsource-highlight4v5 (3.1.9-4.1build2) ...\n",
            "Selecting previously unselected package gdb.\n",
            "Preparing to unpack .../6-gdb_12.1-0ubuntu1~22.04_amd64.deb ...\n",
            "Unpacking gdb (12.1-0ubuntu1~22.04) ...\n",
            "Selecting previously unselected package libc6-dbg:amd64.\n",
            "Preparing to unpack .../7-libc6-dbg_2.35-0ubuntu3.6_amd64.deb ...\n",
            "Unpacking libc6-dbg:amd64 (2.35-0ubuntu3.6) ...\n",
            "Setting up libdebuginfod-common (0.186-1build1) ...\n",
            "debconf: unable to initialize frontend: Dialog\n",
            "debconf: (No usable dialog-like program is installed, so the dialog based frontend cannot be used. at /usr/share/perl5/Debconf/FrontEnd/Dialog.pm line 78.)\n",
            "debconf: falling back to frontend: Readline\n",
            "\n",
            "Creating config file /etc/profile.d/debuginfod.sh with new version\n",
            "\n",
            "Creating config file /etc/profile.d/debuginfod.csh with new version\n",
            "Setting up libdebuginfod1:amd64 (0.186-1build1) ...\n",
            "Setting up libsource-highlight-common (3.1.9-4.1build2) ...\n",
            "Setting up libc6-dbg:amd64 (2.35-0ubuntu3.6) ...\n",
            "Setting up libipt2 (2.0.5-1) ...\n",
            "Setting up libbabeltrace1:amd64 (1.5.8-2build1) ...\n",
            "Setting up libsource-highlight4v5 (3.1.9-4.1build2) ...\n",
            "Setting up gdb (12.1-0ubuntu1~22.04) ...\n",
            "Processing triggers for man-db (2.10.2-1) ...\n",
            "Processing triggers for libc-bin (2.35-0ubuntu3.4) ...\n",
            "/sbin/ldconfig.real: /usr/local/lib/libtbbmalloc.so.2 is not a symbolic link\n",
            "\n",
            "/sbin/ldconfig.real: /usr/local/lib/libtbb.so.12 is not a symbolic link\n",
            "\n",
            "/sbin/ldconfig.real: /usr/local/lib/libtbbbind_2_0.so.3 is not a symbolic link\n",
            "\n",
            "/sbin/ldconfig.real: /usr/local/lib/libtbbbind.so.3 is not a symbolic link\n",
            "\n",
            "/sbin/ldconfig.real: /usr/local/lib/libtbbbind_2_5.so.3 is not a symbolic link\n",
            "\n",
            "/sbin/ldconfig.real: /usr/local/lib/libtbbmalloc_proxy.so.2 is not a symbolic link\n",
            "\n"
          ]
        }
      ]
    },
    {
      "cell_type": "code",
      "source": [
        "!gdb -q ./a.out"
      ],
      "metadata": {
        "colab": {
          "base_uri": "https://localhost:8080/"
        },
        "id": "AoRGbLcMLoLo",
        "outputId": "f08b9341-e736-42d2-a884-52328eee1107"
      },
      "execution_count": null,
      "outputs": [
        {
          "output_type": "stream",
          "name": "stdout",
          "text": [
            "Reading symbols from \u001b[32m./a.out\u001b[m...\n",
            "\u001b[?2004h(gdb) run test\n",
            "Starting program: \u001b[32m/content/a.out\u001b[m test\n",
            "warning: Error disabling address space randomization: Operation not permitted\n",
            "[Thread debugging using libthread_db enabled]\n",
            "Using host libthread_db library \"\u001b[32m/lib/x86_64-linux-gnu/libthread_db.so.1\u001b[m\".\n",
            "The first argument is /content/a.out\n",
            "\n",
            "Program received signal SIGSEGV, Segmentation fault.\n",
            "\u001b[33m__GI_____strtol_l_internal\u001b[m (\u001b[36mnptr\u001b[m=0x0, \u001b[36mendptr=endptr@entry\u001b[m=0x0, \u001b[36mbase=base@entry\u001b[m=10, \u001b[36mgroup=group@entry\u001b[m=0, \u001b[36mloc\u001b[m=0x78a33a911580 <_nl_global_locale>) at \u001b[32m../stdlib/strtol_l.c\u001b[m:291\n",
            "291\t../stdlib/strtol_l.c: No such file or directory.\n",
            "\u001b[?2004h(gdb) where\n",
            "#0  \u001b[33m__GI_____strtol_l_internal\u001b[m (\u001b[36mnptr\u001b[m=0x0, \u001b[36mendptr=endptr@entry\u001b[m=0x0, \u001b[36mbase=base@entry\u001b[m=10, \n",
            "    \u001b[36mgroup=group@entry\u001b[m=0, \u001b[36mloc\u001b[m=0x78a33a911580 <_nl_global_locale>) at \u001b[32m../stdlib/strtol_l.c\u001b[m:291\n",
            "#1  \u001b[34m0x000078a33a73d4f6\u001b[m in \u001b[33m__strtol\u001b[m (\u001b[36mnptr\u001b[m=<optimized out>, \u001b[36mendptr=endptr@entry\u001b[m=0x0, \n",
            "    \u001b[36mbase=base@entry\u001b[m=10) at \u001b[32m../stdlib/strtol.c\u001b[m:106\n",
            "#2  \u001b[34m0x000078a33a739654\u001b[m in \u001b[33m__GI_atoi\u001b[m (\u001b[36mnptr\u001b[m=<optimized out>) at \u001b[32m./stdlib/atoi.c\u001b[m:27\n",
            "#3  \u001b[34m0x000056618c97e207\u001b[m in \u001b[33mmain\u001b[m (\u001b[36margc\u001b[m=2, \u001b[36margv\u001b[m=0x7ffd8eb8b908) at \u001b[32mconvert2.c\u001b[m:10\n",
            "\u001b[?2004h(gdb) run test\n",
            "\u001b[?2004hThe program being debugged has been started already.\n",
            "Start it from the beginning? (y or n) y\n",
            "Starting program: \u001b[32m/content/a.out\u001b[m test\n",
            "warning: Error disabling address space randomization: Operation not permitted\n",
            "[Thread debugging using libthread_db enabled]\n",
            "Using host libthread_db library \"\u001b[32m/lib/x86_64-linux-gnu/libthread_db.so.1\u001b[m\".\n",
            "The first argument is /content/a.out\n",
            "\n",
            "Program received signal SIGSEGV, Segmentation fault.\n",
            "\u001b[33m__GI_____strtol_l_internal\u001b[m (\u001b[36mnptr\u001b[m=0x0, \u001b[36mendptr=endptr@entry\u001b[m=0x0, \u001b[36mbase=base@entry\u001b[m=10, \u001b[36mgroup=group@entry\u001b[m=0, \u001b[36mloc\u001b[m=0x7d95b29f7580 <_nl_global_locale>) at \u001b[32m../stdlib/strtol_l.c\u001b[m:291\n",
            "291\t../stdlib/strtol_l.c: No such file or directory.\n",
            "\u001b[?2004h(gdb) break main\n",
            "Breakpoint 1 at \u001b[34m0x56039b9b11d1\u001b[m: file \u001b[32mconvert2.c\u001b[m, line 9.\n",
            "\u001b[?2004h(gdb) run test\n",
            "\u001b[?2004hThe program being debugged has been started already.\n",
            "Start it from the beginning? (y or n) y\n",
            "Starting program: \u001b[32m/content/a.out\u001b[m test\n",
            "warning: Error disabling address space randomization: Operation not permitted\n",
            "[Thread debugging using libthread_db enabled]\n",
            "Using host libthread_db library \"\u001b[32m/lib/x86_64-linux-gnu/libthread_db.so.1\u001b[m\".\n",
            "\n",
            "Breakpoint 1, \u001b[33mmain\u001b[m (\u001b[36margc\u001b[m=2, \u001b[36margv\u001b[m=0x7ffca9c4c868) at \u001b[32mconvert2.c\u001b[m:9\n",
            "9\t  \u001b[01mprintf\u001b[m\u001b[31m(\u001b[m\u001b[31m\"The first argument is %s\u001b[m\u001b[35m\\n\u001b[m\u001b[31m\"\u001b[m\u001b[31m,\u001b[m argv\u001b[31m[\u001b[m\u001b[35m0\u001b[m\u001b[31m]);\u001b[m\n",
            "\u001b[?2004h(gdb) cont\n",
            "Continuing.\n",
            "The first argument is /content/a.out\n",
            "\n",
            "Program received signal SIGSEGV, Segmentation fault.\n",
            "\u001b[33m__GI_____strtol_l_internal\u001b[m (\u001b[36mnptr\u001b[m=0x0, \u001b[36mendptr=endptr@entry\u001b[m=0x0, \u001b[36mbase=base@entry\u001b[m=10, \u001b[36mgroup=group@entry\u001b[m=0, \u001b[36mloc\u001b[m=0x7f9545c40580 <_nl_global_locale>) at \u001b[32m../stdlib/strtol_l.c\u001b[m:291\n",
            "291\t../stdlib/strtol_l.c: No such file or directory.\n",
            "\u001b[?2004h(gdb) x/3w argv\n",
            "No symbol \"argv\" in current context.\n",
            "\u001b[?2004h(gdb) x/3w $argv\n",
            "Value can't be converted to integer.\n",
            "\u001b[?2004h(gdb) x/3w 0x7ffca9c4c868\n",
            "\u001b[34m0x7ffca9c4c868\u001b[m:\t-1446715831\t32764\t-1446715816\n",
            "\u001b[?2004h(gdb) x/3xw 0x7ffca9c4c868\n",
            "\u001b[34m0x7ffca9c4c868\u001b[m:\t0xa9c4de49\t0x00007ffc\t0xa9c4de58\n",
            "\u001b[?2004h(gdb) x/6xw 0x7ffca9c4c868\n",
            "\u001b[34m0x7ffca9c4c868\u001b[m:\t0xa9c4de49\t0x00007ffc\t0xa9c4de58\t0x00007ffc\n",
            "\u001b[34m0x7ffca9c4c878\u001b[m:\t0x00000000\t0x00000000\n",
            "\u001b[?2004h(gdb) x/s 0x00007ffc0xa9c4de49\n",
            "Invalid number \"0x00007ffc0xa9c4de49\".\n",
            "\u001b[?2004h(gdb) x/s 0x00007ffca9c4de49\n",
            "\u001b[34m0x7ffca9c4de49\u001b[m:\t\"/content/a.out\"\n",
            "\u001b[?2004h(gdb) x/s 0x00007ffca9c4de58\n",
            "\u001b[34m0x7ffca9c4de58\u001b[m:\t\"test\"\n",
            "\u001b[?2004h(gdb) 00000000x/s 0x00000000\n",
            "Undefined command: \"00000000x\".  Try \"help\".\n",
            "\u001b[?2004h(gdb) x/s 0x0000000000000000\n",
            "\u001b[34m0x0\u001b[m:\t<error: \u001b[2mCannot access memory at address 0x0\u001b[m>\n",
            "\u001b[?2004h(gdb) quit\n",
            "\u001b[?2004hA debugging session is active.\n",
            "\n",
            "\tInferior 1 [process 17022] will be killed.\n",
            "\n",
            "Quit anyway? (y or n) y\n"
          ]
        }
      ]
    },
    {
      "cell_type": "markdown",
      "source": [
        "From the above debug session, the program receives SIGSEV signal indicating it is trying to access memory which is not defined. upon investigating the argv which stores a pointers, the first pointer contains /content/a.out which is the executable location and second pointer contains the string 'test', whereas the third pointer is all 0s and it cannot be accessed."
      ],
      "metadata": {
        "id": "p8PdpFmyOOSg"
      }
    },
    {
      "cell_type": "markdown",
      "source": [
        "Variable scoping"
      ],
      "metadata": {
        "id": "OZW33GWGRXen"
      }
    },
    {
      "cell_type": "code",
      "source": [
        "%%writefile scope.c\n",
        "#include <stdio.h>\n",
        "void func3()\n",
        "{\n",
        "  int i = 11;\n",
        "  printf(\"\\t\\t\\t[in func3] i = %d\\n\", i);\n",
        "\n",
        "}\n",
        "void func2() { int i = 7;\n",
        "printf(\"\\t\\t[in func2] i = %d\\n\", i);\n",
        "func3();\n",
        "printf(\"\\t\\t[back in func2] i = %d\\n\", i);\n",
        "}\n",
        "void func1() { int i = 5;\n",
        "printf(\"\\t[in func1] i = %d\\n\", i);\n",
        "func2();\n",
        "printf(\"\\t[back in func1] i = %d\\n\", i);\n",
        "}\n",
        "int main() { int i = 3;\n",
        "printf(\"[in main] i = %d\\n\", i);\n",
        " func1();\n",
        "printf(\"[back in main] i = %d\\n\", i);\n",
        "}\n"
      ],
      "metadata": {
        "colab": {
          "base_uri": "https://localhost:8080/"
        },
        "id": "ZxbIeZG_Lqel",
        "outputId": "fdf29a76-d177-4b19-cb1a-1b3651be3dc4"
      },
      "execution_count": null,
      "outputs": [
        {
          "output_type": "stream",
          "name": "stdout",
          "text": [
            "Writing scope.c\n"
          ]
        }
      ]
    },
    {
      "cell_type": "code",
      "source": [
        "!gcc scope.c"
      ],
      "metadata": {
        "id": "uTn5Bq2USVlC"
      },
      "execution_count": null,
      "outputs": []
    },
    {
      "cell_type": "code",
      "source": [
        "!./a.out"
      ],
      "metadata": {
        "colab": {
          "base_uri": "https://localhost:8080/"
        },
        "id": "hzks8-FSSWjI",
        "outputId": "1fd7bd5e-a554-47c1-874a-f37ccdc08528"
      },
      "execution_count": null,
      "outputs": [
        {
          "output_type": "stream",
          "name": "stdout",
          "text": [
            "[in main] i = 3\n",
            "\t[in func1] i = 5\n",
            "\t\t[in func2] i = 7\n",
            "\t\t\t[in func3] i = 11\n",
            "\t\t[back in func2] i = 7\n",
            "\t[back in func1] i = 5\n",
            "[back in main] i = 3\n"
          ]
        }
      ]
    },
    {
      "cell_type": "code",
      "source": [
        "%%writefile scope2.c\n",
        "#include <stdio.h>\n",
        "int j = 42; //global variable ,available to all functions and changes to this persist across functions\n",
        "void func3() {\n",
        "int i = 11, j = 999; // Here, j is a local variable of func3().\n",
        "printf(\"\\t\\t\\t[in func3] i = %d, j = %d\\n\", i, j);\n",
        "}\n",
        "\n",
        "void func2() { int i = 7;\n",
        "printf(\"\\t\\t[in func2] i = %d, j = %d\\n\", i, j);\n",
        "printf(\"\\t\\t[in func2] setting j = 1337\\n\");\n",
        "j = 1337; // Writing to j\n",
        "func3();\n",
        "printf(\"\\t\\t[back in func2] i = %d, j = %d\\n\", i, j); }\n",
        "void func1() { int i = 5;\n",
        "printf(\"\\t[in func1] i = %d, j = %d\\n\", i, j);\n",
        " func2();\n",
        "printf(\"\\t[back in func1] i = %d, j = %d\\n\", i, j);\n",
        "}\n",
        "int main() { int i = 3;\n",
        "printf(\"[in main] i = %d, j = %d\\n\", i, j);\n",
        "func1();\n",
        "printf(\"[back in main] i = %d, j = %d\\n\", i, j);\n",
        "}\n"
      ],
      "metadata": {
        "colab": {
          "base_uri": "https://localhost:8080/"
        },
        "id": "-nxyOcT5SYwm",
        "outputId": "b289ee31-b059-4b25-8821-ebdad96555e9"
      },
      "execution_count": null,
      "outputs": [
        {
          "output_type": "stream",
          "name": "stdout",
          "text": [
            "Writing scope2.c\n"
          ]
        }
      ]
    },
    {
      "cell_type": "code",
      "source": [
        "!gcc scope2.c"
      ],
      "metadata": {
        "id": "cdpLHp_ZTBG-"
      },
      "execution_count": null,
      "outputs": []
    },
    {
      "cell_type": "code",
      "source": [
        "!./a.out"
      ],
      "metadata": {
        "colab": {
          "base_uri": "https://localhost:8080/"
        },
        "id": "DC8Dy6qwTCoC",
        "outputId": "a2e3bcfe-c757-4d6a-c870-f3c771c5fb3c"
      },
      "execution_count": null,
      "outputs": [
        {
          "output_type": "stream",
          "name": "stdout",
          "text": [
            "[in main] i = 3, j = 42\n",
            "\t[in func1] i = 5, j = 42\n",
            "\t\t[in func2] i = 7, j = 42\n",
            "\t\t[in func2] setting j = 1337\n",
            "\t\t\t[in func3] i = 11, j = 999\n",
            "\t\t[back in func2] i = 7, j = 1337\n",
            "\t[back in func1] i = 5, j = 1337\n",
            "[back in main] i = 3, j = 1337\n"
          ]
        }
      ]
    },
    {
      "cell_type": "markdown",
      "source": [
        "in a conflict between local and global variable with the same name, the compiler chooses the local variable value"
      ],
      "metadata": {
        "id": "wfPpIhPOTPJH"
      }
    },
    {
      "cell_type": "code",
      "source": [
        "%%writefile scope3.c\n",
        "#include <stdio.h>\n",
        "int j = 42; // j is a global variable.\n",
        "void func3() {\n",
        "int i = 11, j = 999; // Here, j is a local variable of func3().\n",
        "printf(\"\\t\\t\\t[in func3] i @ %p = %d\\n\", &i, i);\n",
        "printf(\"\\t\\t\\t[in func3] j @ %p = %d\\n\", &j, j);\n",
        "}\n",
        "void func2() { int i = 7;\n",
        "printf(\"\\t\\t[in func2] i @ %p = %d\\n\", &i, i);\n",
        "printf(\"\\t\\t[in func2] j @ %p = %d\\n\", &j, j);\n",
        "printf(\"\\t\\t[in func2] setting j = 1337\\n\");\n",
        "j = 1337; // Writing to j\n",
        "func3();\n",
        "printf(\"\\t\\t[back in func2] i @ %p = %d\\n\", &i, i);\n",
        "printf(\"\\t\\t[back in func2] j @ %p = %d\\n\", &j, j);\n",
        "}\n",
        "void func1() { int i = 5;\n",
        "printf(\"\\t[in func1] i @ %p = %d\\n\", &i, i);\n",
        "printf(\"\\t[in func1] j @ %p = %d\\n\", &j, j);\n",
        "func2();\n",
        "printf(\"\\t[back in func1] i @ %p = %d\\n\", &i, i);\n",
        "printf(\"\\t[back in func1] j @ %p = %d\\n\", &j, j);\n",
        "}\n",
        "\n",
        "int main() { int i = 3;\n",
        "printf(\"[in main] i @ %p = %d\\n\", &i, i); printf(\"[in main] j @ %p = %d\\n\", &j, j); func1();\n",
        "printf(\"[back in main] i @ %p = %d\\n\", &i, i); printf(\"[back in main] j @ %p = %d\\n\", &j, j);\n",
        "}"
      ],
      "metadata": {
        "colab": {
          "base_uri": "https://localhost:8080/"
        },
        "id": "b9Q-1n0oTDTN",
        "outputId": "fc05c468-96cc-4e7e-db0b-02ce7410247d"
      },
      "execution_count": null,
      "outputs": [
        {
          "output_type": "stream",
          "name": "stdout",
          "text": [
            "Writing scope3.c\n"
          ]
        }
      ]
    },
    {
      "cell_type": "code",
      "source": [
        "!gcc scope3.c"
      ],
      "metadata": {
        "id": "vRGaz97jWfz5"
      },
      "execution_count": null,
      "outputs": []
    },
    {
      "cell_type": "code",
      "source": [
        "!./a.out"
      ],
      "metadata": {
        "colab": {
          "base_uri": "https://localhost:8080/"
        },
        "id": "UzqZ9H5dWiZt",
        "outputId": "653af919-98d0-4d0f-d6c7-bfd7e9efb598"
      },
      "execution_count": null,
      "outputs": [
        {
          "output_type": "stream",
          "name": "stdout",
          "text": [
            "[in main] i @ 0x7ffcef8b1514 = 3\n",
            "[in main] j @ 0x5917cc436010 = 42\n",
            "\t[in func1] i @ 0x7ffcef8b14f4 = 5\n",
            "\t[in func1] j @ 0x5917cc436010 = 42\n",
            "\t\t[in func2] i @ 0x7ffcef8b14d4 = 7\n",
            "\t\t[in func2] j @ 0x5917cc436010 = 42\n",
            "\t\t[in func2] setting j = 1337\n",
            "\t\t\t[in func3] i @ 0x7ffcef8b14b0 = 11\n",
            "\t\t\t[in func3] j @ 0x7ffcef8b14b4 = 999\n",
            "\t\t[back in func2] i @ 0x7ffcef8b14d4 = 7\n",
            "\t\t[back in func2] j @ 0x5917cc436010 = 1337\n",
            "\t[back in func1] i @ 0x7ffcef8b14f4 = 5\n",
            "\t[back in func1] j @ 0x5917cc436010 = 1337\n",
            "[back in main] i @ 0x7ffcef8b1514 = 3\n",
            "[back in main] j @ 0x5917cc436010 = 1337\n"
          ]
        }
      ]
    },
    {
      "cell_type": "markdown",
      "source": [
        "now with addresses , the global and local variables are well distinguished.\n",
        "it is interesting to note that the global variables have lower memory address and local have higher memory address."
      ],
      "metadata": {
        "id": "gB0ApsfhWq5E"
      }
    },
    {
      "cell_type": "code",
      "source": [
        "!gcc -g scope3.c"
      ],
      "metadata": {
        "id": "vFRCOhDRWjbh"
      },
      "execution_count": null,
      "outputs": []
    },
    {
      "cell_type": "code",
      "source": [
        "!gdb -q ./a.out"
      ],
      "metadata": {
        "colab": {
          "base_uri": "https://localhost:8080/"
        },
        "id": "kNrSEoJlW_hn",
        "outputId": "0eed2478-01cf-4a37-fd94-40880f7d0259"
      },
      "execution_count": null,
      "outputs": [
        {
          "output_type": "stream",
          "name": "stdout",
          "text": [
            "Reading symbols from \u001b[32m./a.out\u001b[m...\n",
            "\u001b[?2004h(gdb) list\n",
            "11\t\u001b[01mprintf\u001b[m\u001b[31m(\u001b[m\u001b[31m\"\u001b[m\u001b[35m\\t\\t\u001b[m\u001b[31m[in func2] setting j = 1337\u001b[m\u001b[35m\\n\u001b[m\u001b[31m\"\u001b[m\u001b[31m);\u001b[m\n",
            "12\tj \u001b[31m=\u001b[m \u001b[35m1337\u001b[m\u001b[31m;\u001b[m \u001b[36m// Writing to j\u001b[m\n",
            "13\t\u001b[01mfunc3\u001b[m\u001b[31m();\u001b[m\n",
            "14\t\u001b[01mprintf\u001b[m\u001b[31m(\u001b[m\u001b[31m\"\u001b[m\u001b[35m\\t\\t\u001b[m\u001b[31m[back in func2] i @ %p = %d\u001b[m\u001b[35m\\n\u001b[m\u001b[31m\"\u001b[m\u001b[31m,\u001b[m \u001b[31m&\u001b[mi\u001b[31m,\u001b[m i\u001b[31m);\u001b[m \n",
            "15\t\u001b[01mprintf\u001b[m\u001b[31m(\u001b[m\u001b[31m\"\u001b[m\u001b[35m\\t\\t\u001b[m\u001b[31m[back in func2] j @ %p = %d\u001b[m\u001b[35m\\n\u001b[m\u001b[31m\"\u001b[m\u001b[31m,\u001b[m \u001b[31m&\u001b[mj\u001b[31m,\u001b[m j\u001b[31m);\u001b[m\n",
            "16\t\u001b[31m}\u001b[m\n",
            "17\t\u001b[32mvoid\u001b[m \u001b[01mfunc1\u001b[m\u001b[31m()\u001b[m \u001b[31m{\u001b[m \u001b[32mint\u001b[m i \u001b[31m=\u001b[m \u001b[35m5\u001b[m\u001b[31m;\u001b[m\n",
            "18\t\u001b[01mprintf\u001b[m\u001b[31m(\u001b[m\u001b[31m\"\u001b[m\u001b[35m\\t\u001b[m\u001b[31m[in func1] i @ %p = %d\u001b[m\u001b[35m\\n\u001b[m\u001b[31m\"\u001b[m\u001b[31m,\u001b[m \u001b[31m&\u001b[mi\u001b[31m,\u001b[m i\u001b[31m);\u001b[m \n",
            "19\t\u001b[01mprintf\u001b[m\u001b[31m(\u001b[m\u001b[31m\"\u001b[m\u001b[35m\\t\u001b[m\u001b[31m[in func1] j @ %p = %d\u001b[m\u001b[35m\\n\u001b[m\u001b[31m\"\u001b[m\u001b[31m,\u001b[m \u001b[31m&\u001b[mj\u001b[31m,\u001b[m j\u001b[31m);\u001b[m \n",
            "20\t\u001b[01mfunc2\u001b[m\u001b[31m();\u001b[m\n",
            "\u001b[?2004h(gdb) list 1\n",
            "1\t\u001b[01;34m#include\u001b[m \u001b[31m<stdio.h>\u001b[m\n",
            "2\t\u001b[32mint\u001b[m j \u001b[31m=\u001b[m \u001b[35m42\u001b[m\u001b[31m;\u001b[m \u001b[36m// j is a global variable.\u001b[m\n",
            "3\t\u001b[32mvoid\u001b[m \u001b[01mfunc3\u001b[m\u001b[31m()\u001b[m \u001b[31m{\u001b[m\n",
            "4\t\u001b[32mint\u001b[m i \u001b[31m=\u001b[m \u001b[35m11\u001b[m\u001b[31m,\u001b[m j \u001b[31m=\u001b[m \u001b[35m999\u001b[m\u001b[31m;\u001b[m \u001b[36m// Here, j is a local variable of func3(). \u001b[m\n",
            "5\t\u001b[01mprintf\u001b[m\u001b[31m(\u001b[m\u001b[31m\"\u001b[m\u001b[35m\\t\\t\\t\u001b[m\u001b[31m[in func3] i @ %p = %d\u001b[m\u001b[35m\\n\u001b[m\u001b[31m\"\u001b[m\u001b[31m,\u001b[m \u001b[31m&\u001b[mi\u001b[31m,\u001b[m i\u001b[31m);\u001b[m \n",
            "6\t\u001b[01mprintf\u001b[m\u001b[31m(\u001b[m\u001b[31m\"\u001b[m\u001b[35m\\t\\t\\t\u001b[m\u001b[31m[in func3] j @ %p = %d\u001b[m\u001b[35m\\n\u001b[m\u001b[31m\"\u001b[m\u001b[31m,\u001b[m \u001b[31m&\u001b[mj\u001b[31m,\u001b[m j\u001b[31m);\u001b[m\n",
            "7\t\u001b[31m}\u001b[m\n",
            "8\t\u001b[32mvoid\u001b[m \u001b[01mfunc2\u001b[m\u001b[31m()\u001b[m \u001b[31m{\u001b[m \u001b[32mint\u001b[m i \u001b[31m=\u001b[m \u001b[35m7\u001b[m\u001b[31m;\u001b[m\n",
            "9\t\u001b[01mprintf\u001b[m\u001b[31m(\u001b[m\u001b[31m\"\u001b[m\u001b[35m\\t\\t\u001b[m\u001b[31m[in func2] i @ %p = %d\u001b[m\u001b[35m\\n\u001b[m\u001b[31m\"\u001b[m\u001b[31m,\u001b[m \u001b[31m&\u001b[mi\u001b[31m,\u001b[m i\u001b[31m);\u001b[m \n",
            "10\t\u001b[01mprintf\u001b[m\u001b[31m(\u001b[m\u001b[31m\"\u001b[m\u001b[35m\\t\\t\u001b[m\u001b[31m[in func2] j @ %p = %d\u001b[m\u001b[35m\\n\u001b[m\u001b[31m\"\u001b[m\u001b[31m,\u001b[m \u001b[31m&\u001b[mj\u001b[31m,\u001b[m j\u001b[31m);\u001b[m \n",
            "\u001b[?2004h(gdb) break 5\n",
            "Breakpoint 1 at \u001b[34m0x11b2\u001b[m: file \u001b[32mscope3.c\u001b[m, line 5.\n",
            "\u001b[?2004h(gdb) run\n",
            "Starting program: \u001b[32m/content/a.out\u001b[m \n",
            "warning: Error disabling address space randomization: Operation not permitted\n",
            "[Thread debugging using libthread_db enabled]\n",
            "Using host libthread_db library \"\u001b[32m/lib/x86_64-linux-gnu/libthread_db.so.1\u001b[m\".\n",
            "[in main] i @ 0x7ffe488fc314 = 3\n",
            "[in main] j @ 0x59c210771010 = 42\n",
            "\t[in func1] i @ 0x7ffe488fc2f4 = 5\n",
            "\t[in func1] j @ 0x59c210771010 = 42\n",
            "\t\t[in func2] i @ 0x7ffe488fc2d4 = 7\n",
            "\t\t[in func2] j @ 0x59c210771010 = 42\n",
            "\t\t[in func2] setting j = 1337\n",
            "\n",
            "Breakpoint 1, \u001b[33mfunc3\u001b[m () at \u001b[32mscope3.c\u001b[m:5\n",
            "5\t\u001b[01mprintf\u001b[m\u001b[31m(\u001b[m\u001b[31m\"\u001b[m\u001b[35m\\t\\t\\t\u001b[m\u001b[31m[in func3] i @ %p = %d\u001b[m\u001b[35m\\n\u001b[m\u001b[31m\"\u001b[m\u001b[31m,\u001b[m \u001b[31m&\u001b[mi\u001b[31m,\u001b[m i\u001b[31m);\u001b[m \n",
            "\u001b[?2004h(gdb) bt\n",
            "#0  \u001b[33mfunc3\u001b[m () at \u001b[32mscope3.c\u001b[m:5\n",
            "#1  \u001b[34m0x000059c21076e28e\u001b[m in \u001b[33mfunc2\u001b[m () at \u001b[32mscope3.c\u001b[m:13\n",
            "#2  \u001b[34m0x000059c21076e359\u001b[m in \u001b[33mfunc1\u001b[m () at \u001b[32mscope3.c\u001b[m:20\n",
            "#3  \u001b[34m0x000059c21076e424\u001b[m in \u001b[33mmain\u001b[m () at \u001b[32mscope3.c\u001b[m:26\n",
            "\u001b[?2004h(gdb) bt full\n",
            "#0  \u001b[33mfunc3\u001b[m () at \u001b[32mscope3.c\u001b[m:5\n",
            "        \u001b[36mi\u001b[m = 11\n",
            "        \u001b[36mj\u001b[m = 999\n",
            "#1  \u001b[34m0x000059c21076e28e\u001b[m in \u001b[33mfunc2\u001b[m () at \u001b[32mscope3.c\u001b[m:13\n",
            "        \u001b[36mi\u001b[m = 7\n",
            "#2  \u001b[34m0x000059c21076e359\u001b[m in \u001b[33mfunc1\u001b[m () at \u001b[32mscope3.c\u001b[m:20\n",
            "        \u001b[36mi\u001b[m = 5\n",
            "#3  \u001b[34m0x000059c21076e424\u001b[m in \u001b[33mmain\u001b[m () at \u001b[32mscope3.c\u001b[m:26\n",
            "        \u001b[36mi\u001b[m = 3\n",
            "\u001b[?2004h(gdb) quit\n",
            "\u001b[?2004hA debugging session is active.\n",
            "\n",
            "\tInferior 1 [process 28371] will be killed.\n",
            "\n",
            "Quit anyway? (y or n) y\n"
          ]
        }
      ]
    },
    {
      "cell_type": "markdown",
      "source": [
        "In the above debug session, we call backtrace (bt) which shows the stack frame record maintained by the compiler. Each time a function is called, a record called stack frame is put on the stack which shows the list of function calls.\n",
        "with bt full, we can view the local variables also."
      ],
      "metadata": {
        "id": "jD_L-xI1XgaR"
      }
    },
    {
      "cell_type": "code",
      "source": [
        "%%writefile static.c\n",
        "#include <stdio.h>\n",
        "void function()\n",
        "{\n",
        "  int var = 5;\n",
        "  static int static_var = 5;\n",
        "   printf(\"\\t[in function] var = %d\\n\", var);\n",
        " printf(\"\\t[in function] static_var = %d\\n\", static_var);\n",
        " var++; // Add one to var.\n",
        " static_var++; // Add one to static_var.\n",
        "}\n",
        "int main() { // The main function, with its own context\n",
        " int i;\n",
        " static int static_var = 1337; // Another static, in a different context\n",
        " for(i=0; i < 5; i++) { // Loop 5 times.\n",
        " printf(\"[in main] static_var = %d\\n\", static_var);\n",
        " function(); // Call the function.\n",
        " }\n",
        "}\n"
      ],
      "metadata": {
        "id": "b6BtpGpDXB7O",
        "colab": {
          "base_uri": "https://localhost:8080/"
        },
        "outputId": "7b9b5187-72e5-449f-c37e-7514b5fecedb"
      },
      "execution_count": null,
      "outputs": [
        {
          "output_type": "stream",
          "name": "stdout",
          "text": [
            "Overwriting static.c\n"
          ]
        }
      ]
    },
    {
      "cell_type": "code",
      "source": [
        "!gcc static.c\n",
        "!./a.out"
      ],
      "metadata": {
        "colab": {
          "base_uri": "https://localhost:8080/"
        },
        "id": "DeO-Q9M8AUsf",
        "outputId": "29d89c60-95a4-4d37-ecfd-ed97ee6a1043"
      },
      "execution_count": null,
      "outputs": [
        {
          "output_type": "stream",
          "name": "stdout",
          "text": [
            "[in main] static_var = 1337\n",
            "\t[in function] var = 5\n",
            "\t[in function] static_var = 5\n",
            "[in main] static_var = 1337\n",
            "\t[in function] var = 5\n",
            "\t[in function] static_var = 6\n",
            "[in main] static_var = 1337\n",
            "\t[in function] var = 5\n",
            "\t[in function] static_var = 7\n",
            "[in main] static_var = 1337\n",
            "\t[in function] var = 5\n",
            "\t[in function] static_var = 8\n",
            "[in main] static_var = 1337\n",
            "\t[in function] var = 5\n",
            "\t[in function] static_var = 9\n"
          ]
        }
      ]
    },
    {
      "cell_type": "code",
      "source": [
        "%%writefile static2.c\n",
        "#include <stdio.h>\n",
        "void function() {  // An example function, with its own context\n",
        " int var = 5;\n",
        " static int static_var = 5; // Static variable initialization\n",
        " printf(\"\\t[in function] var @ %p = %d\\n\", &var, var);\n",
        " printf(\"\\t[in function] static_var @ %p = %d\\n\", &static_var, static_var);\n",
        " var++; // Add 1 to var.\n",
        " static_var++; // Add 1 to static_var.\n",
        "}\n",
        "int main() { // The main function, with its own context\n",
        " int i;\n",
        " static int static_var = 1337; // Another static, in a different context\n",
        " for(i=0; i < 5; i++) { // loop 5 times\n",
        " printf(\"[in main] static_var @ %p = %d\\n\", &static_var, static_var);\n",
        " function(); // Call the function.\n",
        " }\n",
        "}"
      ],
      "metadata": {
        "colab": {
          "base_uri": "https://localhost:8080/"
        },
        "id": "VuDZ1RP9AaPv",
        "outputId": "e415d9e9-2977-4f05-a1dc-0d03593daf89"
      },
      "execution_count": null,
      "outputs": [
        {
          "output_type": "stream",
          "name": "stdout",
          "text": [
            "Writing static2.c\n"
          ]
        }
      ]
    },
    {
      "cell_type": "code",
      "source": [
        "!gcc static2.c\n",
        "!./a.out"
      ],
      "metadata": {
        "id": "jvPLm-o6CS5c",
        "outputId": "01c93c76-062e-4e26-e384-770c4d1f0f51",
        "colab": {
          "base_uri": "https://localhost:8080/"
        }
      },
      "execution_count": null,
      "outputs": [
        {
          "output_type": "stream",
          "name": "stdout",
          "text": [
            "[in main] static_var @ 0x5c3c397e6014 = 1337\n",
            "\t[in function] var @ 0x7ffc73357964 = 5\n",
            "\t[in function] static_var @ 0x5c3c397e6010 = 5\n",
            "[in main] static_var @ 0x5c3c397e6014 = 1337\n",
            "\t[in function] var @ 0x7ffc73357964 = 5\n",
            "\t[in function] static_var @ 0x5c3c397e6010 = 6\n",
            "[in main] static_var @ 0x5c3c397e6014 = 1337\n",
            "\t[in function] var @ 0x7ffc73357964 = 5\n",
            "\t[in function] static_var @ 0x5c3c397e6010 = 7\n",
            "[in main] static_var @ 0x5c3c397e6014 = 1337\n",
            "\t[in function] var @ 0x7ffc73357964 = 5\n",
            "\t[in function] static_var @ 0x5c3c397e6010 = 8\n",
            "[in main] static_var @ 0x5c3c397e6014 = 1337\n",
            "\t[in function] var @ 0x7ffc73357964 = 5\n",
            "\t[in function] static_var @ 0x5c3c397e6010 = 9\n"
          ]
        }
      ]
    },
    {
      "cell_type": "code",
      "source": [
        "%%writefile stack.c\n",
        "#include <stdio.h>\n",
        "void test_function(int a, int b, int c, int d)\n",
        "{\n",
        "  int flag;\n",
        "  char buffer[10];\n",
        "  flag = 1337;\n",
        "  buffer[0] = 'A';\n",
        "\n",
        "}\n",
        "\n",
        "int main()\n",
        "{\n",
        "  test_function(1,2,3,4);\n",
        "}"
      ],
      "metadata": {
        "id": "ZVDXdrjlCXTl",
        "colab": {
          "base_uri": "https://localhost:8080/"
        },
        "outputId": "c9261752-227e-43b8-aa9b-36d2e46e9442"
      },
      "execution_count": null,
      "outputs": [
        {
          "output_type": "stream",
          "name": "stdout",
          "text": [
            "Writing stack.c\n"
          ]
        }
      ]
    },
    {
      "cell_type": "code",
      "source": [
        "!gcc -g stack.c"
      ],
      "metadata": {
        "id": "VWr6aXCe4qwm"
      },
      "execution_count": null,
      "outputs": []
    },
    {
      "cell_type": "code",
      "source": [
        "!gdb -q ./a.out"
      ],
      "metadata": {
        "colab": {
          "base_uri": "https://localhost:8080/"
        },
        "id": "Uop8DbeJ4tK_",
        "outputId": "e6ea7b0b-e14e-4561-a2fd-a22820637135"
      },
      "execution_count": null,
      "outputs": [
        {
          "output_type": "stream",
          "name": "stdout",
          "text": [
            "/bin/bash: line 1: gdb: command not found\n"
          ]
        }
      ]
    },
    {
      "cell_type": "code",
      "source": [
        "!sudo apt install gdb"
      ],
      "metadata": {
        "colab": {
          "base_uri": "https://localhost:8080/"
        },
        "id": "TT0QXd1B4yQX",
        "outputId": "2b40aca5-e8dd-4860-ba5a-2d5f1dc0caff"
      },
      "execution_count": null,
      "outputs": [
        {
          "output_type": "stream",
          "name": "stdout",
          "text": [
            "Reading package lists... Done\n",
            "Building dependency tree... Done\n",
            "Reading state information... Done\n",
            "The following additional packages will be installed:\n",
            "  libbabeltrace1 libc6-dbg libdebuginfod-common libdebuginfod1 libipt2\n",
            "  libsource-highlight-common libsource-highlight4v5\n",
            "Suggested packages:\n",
            "  gdb-doc gdbserver\n",
            "The following NEW packages will be installed:\n",
            "  gdb libbabeltrace1 libc6-dbg libdebuginfod-common libdebuginfod1 libipt2\n",
            "  libsource-highlight-common libsource-highlight4v5\n",
            "0 upgraded, 8 newly installed, 0 to remove and 39 not upgraded.\n",
            "Need to get 18.3 MB of archives.\n",
            "After this operation, 32.0 MB of additional disk space will be used.\n",
            "Get:1 http://archive.ubuntu.com/ubuntu jammy/main amd64 libdebuginfod-common all 0.186-1build1 [7,878 B]\n",
            "Get:2 http://archive.ubuntu.com/ubuntu jammy/main amd64 libbabeltrace1 amd64 1.5.8-2build1 [160 kB]\n",
            "Get:3 http://archive.ubuntu.com/ubuntu jammy/main amd64 libdebuginfod1 amd64 0.186-1build1 [12.7 kB]\n",
            "Get:4 http://archive.ubuntu.com/ubuntu jammy/main amd64 libipt2 amd64 2.0.5-1 [46.4 kB]\n",
            "Get:5 http://archive.ubuntu.com/ubuntu jammy/main amd64 libsource-highlight-common all 3.1.9-4.1build2 [64.5 kB]\n",
            "Get:6 http://archive.ubuntu.com/ubuntu jammy/main amd64 libsource-highlight4v5 amd64 3.1.9-4.1build2 [207 kB]\n",
            "Get:7 http://archive.ubuntu.com/ubuntu jammy-updates/main amd64 gdb amd64 12.1-0ubuntu1~22.04 [3,919 kB]\n",
            "Get:8 http://archive.ubuntu.com/ubuntu jammy-updates/main amd64 libc6-dbg amd64 2.35-0ubuntu3.6 [13.8 MB]\n",
            "Fetched 18.3 MB in 1s (17.6 MB/s)\n",
            "debconf: unable to initialize frontend: Dialog\n",
            "debconf: (No usable dialog-like program is installed, so the dialog based frontend cannot be used. at /usr/share/perl5/Debconf/FrontEnd/Dialog.pm line 78, <> line 8.)\n",
            "debconf: falling back to frontend: Readline\n",
            "debconf: unable to initialize frontend: Readline\n",
            "debconf: (This frontend requires a controlling tty.)\n",
            "debconf: falling back to frontend: Teletype\n",
            "dpkg-preconfigure: unable to re-open stdin: \n",
            "Selecting previously unselected package libdebuginfod-common.\n",
            "(Reading database ... 121753 files and directories currently installed.)\n",
            "Preparing to unpack .../0-libdebuginfod-common_0.186-1build1_all.deb ...\n",
            "Unpacking libdebuginfod-common (0.186-1build1) ...\n",
            "Selecting previously unselected package libbabeltrace1:amd64.\n",
            "Preparing to unpack .../1-libbabeltrace1_1.5.8-2build1_amd64.deb ...\n",
            "Unpacking libbabeltrace1:amd64 (1.5.8-2build1) ...\n",
            "Selecting previously unselected package libdebuginfod1:amd64.\n",
            "Preparing to unpack .../2-libdebuginfod1_0.186-1build1_amd64.deb ...\n",
            "Unpacking libdebuginfod1:amd64 (0.186-1build1) ...\n",
            "Selecting previously unselected package libipt2.\n",
            "Preparing to unpack .../3-libipt2_2.0.5-1_amd64.deb ...\n",
            "Unpacking libipt2 (2.0.5-1) ...\n",
            "Selecting previously unselected package libsource-highlight-common.\n",
            "Preparing to unpack .../4-libsource-highlight-common_3.1.9-4.1build2_all.deb ...\n",
            "Unpacking libsource-highlight-common (3.1.9-4.1build2) ...\n",
            "Selecting previously unselected package libsource-highlight4v5.\n",
            "Preparing to unpack .../5-libsource-highlight4v5_3.1.9-4.1build2_amd64.deb ...\n",
            "Unpacking libsource-highlight4v5 (3.1.9-4.1build2) ...\n",
            "Selecting previously unselected package gdb.\n",
            "Preparing to unpack .../6-gdb_12.1-0ubuntu1~22.04_amd64.deb ...\n",
            "Unpacking gdb (12.1-0ubuntu1~22.04) ...\n",
            "Selecting previously unselected package libc6-dbg:amd64.\n",
            "Preparing to unpack .../7-libc6-dbg_2.35-0ubuntu3.6_amd64.deb ...\n",
            "Unpacking libc6-dbg:amd64 (2.35-0ubuntu3.6) ...\n",
            "Setting up libdebuginfod-common (0.186-1build1) ...\n",
            "debconf: unable to initialize frontend: Dialog\n",
            "debconf: (No usable dialog-like program is installed, so the dialog based frontend cannot be used. at /usr/share/perl5/Debconf/FrontEnd/Dialog.pm line 78.)\n",
            "debconf: falling back to frontend: Readline\n",
            "\n",
            "Creating config file /etc/profile.d/debuginfod.sh with new version\n",
            "\n",
            "Creating config file /etc/profile.d/debuginfod.csh with new version\n",
            "Setting up libdebuginfod1:amd64 (0.186-1build1) ...\n",
            "Setting up libsource-highlight-common (3.1.9-4.1build2) ...\n",
            "Setting up libc6-dbg:amd64 (2.35-0ubuntu3.6) ...\n",
            "Setting up libipt2 (2.0.5-1) ...\n",
            "Setting up libbabeltrace1:amd64 (1.5.8-2build1) ...\n",
            "Setting up libsource-highlight4v5 (3.1.9-4.1build2) ...\n",
            "Setting up gdb (12.1-0ubuntu1~22.04) ...\n",
            "Processing triggers for man-db (2.10.2-1) ...\n",
            "Processing triggers for libc-bin (2.35-0ubuntu3.4) ...\n",
            "/sbin/ldconfig.real: /usr/local/lib/libtbbmalloc_proxy.so.2 is not a symbolic link\n",
            "\n",
            "/sbin/ldconfig.real: /usr/local/lib/libtbbbind_2_5.so.3 is not a symbolic link\n",
            "\n",
            "/sbin/ldconfig.real: /usr/local/lib/libtbb.so.12 is not a symbolic link\n",
            "\n",
            "/sbin/ldconfig.real: /usr/local/lib/libtbbbind.so.3 is not a symbolic link\n",
            "\n",
            "/sbin/ldconfig.real: /usr/local/lib/libtbbmalloc.so.2 is not a symbolic link\n",
            "\n",
            "/sbin/ldconfig.real: /usr/local/lib/libtbbbind_2_0.so.3 is not a symbolic link\n",
            "\n"
          ]
        }
      ]
    },
    {
      "cell_type": "code",
      "source": [
        "  !gdb -q ./a.out\n"
      ],
      "metadata": {
        "colab": {
          "base_uri": "https://localhost:8080/"
        },
        "id": "dRmWrmI-445Y",
        "outputId": "9c5b0b71-cf34-4979-ac16-000c06bc1402"
      },
      "execution_count": null,
      "outputs": [
        {
          "output_type": "stream",
          "name": "stdout",
          "text": [
            "Reading symbols from \u001b[32m./a.out\u001b[m...\n",
            "\u001b[?2004h(gdb) disass main\n",
            "Dump of assembler code for function \u001b[33mmain\u001b[m:\n",
            "   \u001b[34m0x0000000000001192\u001b[m <+0>:\t\u001b[32mendbr64\u001b[39;49;00m\u001b[37m \u001b[39;49;00m\n",
            "   \u001b[34m0x0000000000001196\u001b[m <+4>:\t\u001b[32mpush\u001b[39;49;00m\u001b[37m   \u001b[39;49;00m\u001b[31m%rbp\u001b[39;49;00m\u001b[37m\u001b[39;49;00m\n",
            "   \u001b[34m0x0000000000001197\u001b[m <+5>:\t\u001b[32mmov\u001b[39;49;00m\u001b[37m    \u001b[39;49;00m\u001b[31m%rsp\u001b[39;49;00m,\u001b[31m%rbp\u001b[39;49;00m\u001b[37m\u001b[39;49;00m\n",
            "   \u001b[34m0x000000000000119a\u001b[m <+8>:\t\u001b[32mmov\u001b[39;49;00m\u001b[37m    \u001b[39;49;00m\u001b[31m$0x4\u001b[39;49;00m,\u001b[31m%ecx\u001b[39;49;00m\u001b[37m\u001b[39;49;00m\n",
            "   \u001b[34m0x000000000000119f\u001b[m <+13>:\t\u001b[32mmov\u001b[39;49;00m\u001b[37m    \u001b[39;49;00m\u001b[31m$0x3\u001b[39;49;00m,\u001b[31m%edx\u001b[39;49;00m\u001b[37m\u001b[39;49;00m\n",
            "   \u001b[34m0x00000000000011a4\u001b[m <+18>:\t\u001b[32mmov\u001b[39;49;00m\u001b[37m    \u001b[39;49;00m\u001b[31m$0x2\u001b[39;49;00m,\u001b[31m%esi\u001b[39;49;00m\u001b[37m\u001b[39;49;00m\n",
            "   \u001b[34m0x00000000000011a9\u001b[m <+23>:\t\u001b[32mmov\u001b[39;49;00m\u001b[37m    \u001b[39;49;00m\u001b[31m$0x1\u001b[39;49;00m,\u001b[31m%edi\u001b[39;49;00m\u001b[37m\u001b[39;49;00m\n",
            "   \u001b[34m0x00000000000011ae\u001b[m <+28>:\t\u001b[32mcall\u001b[39;49;00m\u001b[37m   \u001b[39;49;00m\u001b[34m0x1149\u001b[39;49;00m <\u001b[31mtest_function\u001b[39;49;00m>\u001b[37m\u001b[39;49;00m\n",
            "   \u001b[34m0x00000000000011b3\u001b[m <+33>:\t\u001b[32mmov\u001b[39;49;00m\u001b[37m    \u001b[39;49;00m\u001b[31m$0x0\u001b[39;49;00m,\u001b[31m%eax\u001b[39;49;00m\u001b[37m\u001b[39;49;00m\n",
            "   \u001b[34m0x00000000000011b8\u001b[m <+38>:\t\u001b[32mpop\u001b[39;49;00m\u001b[37m    \u001b[39;49;00m\u001b[31m%rbp\u001b[39;49;00m\u001b[37m\u001b[39;49;00m\n",
            "   \u001b[34m0x00000000000011b9\u001b[m <+39>:\t\u001b[32mret\u001b[39;49;00m\u001b[37m    \u001b[39;49;00m\n",
            "End of assembler dump.\n",
            "\u001b[?2004h(gdb) disass test_function()\n",
            "You can't do that without a process to debug.\n",
            "\u001b[?2004h(gdb) disass test_function()\n",
            "You can't do that without a process to debug.\n",
            "\u001b[?2004h(gdb) run\n",
            "Starting program: \u001b[32m/content/a.out\u001b[m \n",
            "warning: Error disabling address space randomization: Operation not permitted\n",
            "[Thread debugging using libthread_db enabled]\n",
            "Using host libthread_db library \"\u001b[32m/lib/x86_64-linux-gnu/libthread_db.so.1\u001b[m\".\n",
            "[Inferior 1 (process 23774) exited normally]\n",
            "\u001b[?2004h(gdb) disass test_function()\n",
            "You can't do that without a process to debug.\n",
            "\u001b[?2004h(gdb) break main\n",
            "Breakpoint 1 at \u001b[34m0x57cb22f8019a\u001b[m: file \u001b[32mstack.c\u001b[m, line 13.\n",
            "\u001b[?2004h(gdb) run\n",
            "Starting program: \u001b[32m/content/a.out\u001b[m \n",
            "warning: Error disabling address space randomization: Operation not permitted\n",
            "[Thread debugging using libthread_db enabled]\n",
            "Using host libthread_db library \"\u001b[32m/lib/x86_64-linux-gnu/libthread_db.so.1\u001b[m\".\n",
            "\n",
            "Breakpoint 1, \u001b[33mmain\u001b[m () at \u001b[32mstack.c\u001b[m:13\n",
            "13\t  \u001b[01mtest_function\u001b[m\u001b[31m(\u001b[m\u001b[35m1\u001b[m\u001b[31m,\u001b[m\u001b[35m2\u001b[m\u001b[31m,\u001b[m\u001b[35m3\u001b[m\u001b[31m,\u001b[m\u001b[35m4\u001b[m\u001b[31m);\u001b[m\n",
            "\u001b[?2004h(gdb) disass test_function()\n",
            "Too few arguments in function call.\n",
            "\u001b[?2004h(gdb) quit\n",
            "\u001b[?2004hA debugging session is active.\n",
            "\n",
            "\tInferior 1 [process 23849] will be killed.\n",
            "\n",
            "Quit anyway? (y or n) y\n"
          ]
        }
      ]
    },
    {
      "cell_type": "code",
      "source": [
        "!gdb -q ./a.out"
      ],
      "metadata": {
        "colab": {
          "base_uri": "https://localhost:8080/"
        },
        "id": "tc71SlNK9mle",
        "outputId": "dae07020-0a20-4123-e5f4-4d6c1a371d3b"
      },
      "execution_count": null,
      "outputs": [
        {
          "output_type": "stream",
          "name": "stdout",
          "text": [
            "Reading symbols from \u001b[32m./a.out\u001b[m...\n",
            "\u001b[?2004h(gdb) list\n",
            "1\t\u001b[01;34m#include\u001b[m \u001b[31m<stdio.h>\u001b[m\n",
            "2\t\u001b[32mvoid\u001b[m \u001b[01mtest_function\u001b[m\u001b[31m(\u001b[m\u001b[32mint\u001b[m a\u001b[31m,\u001b[m \u001b[32mint\u001b[m b\u001b[31m,\u001b[m \u001b[32mint\u001b[m c\u001b[31m,\u001b[m \u001b[32mint\u001b[m d\u001b[31m)\u001b[m\n",
            "3\t\u001b[31m{\u001b[m\n",
            "4\t  \u001b[32mint\u001b[m flag\u001b[31m;\u001b[m\n",
            "5\t  \u001b[32mchar\u001b[m buffer\u001b[31m[\u001b[m\u001b[35m10\u001b[m\u001b[31m];\u001b[m\n",
            "6\t  flag \u001b[31m=\u001b[m \u001b[35m1337\u001b[m\u001b[31m;\u001b[m\n",
            "7\t  buffer\u001b[31m[\u001b[m\u001b[35m0\u001b[m\u001b[31m]\u001b[m \u001b[31m=\u001b[m \u001b[31m'A'\u001b[m\u001b[31m;\u001b[m\n",
            "8\t\n",
            "9\t\u001b[31m}\u001b[m\n",
            "10\t\n",
            "\u001b[?2004h(gdb) list main\n",
            "7\t  buffer\u001b[31m[\u001b[m\u001b[35m0\u001b[m\u001b[31m]\u001b[m \u001b[31m=\u001b[m \u001b[31m'A'\u001b[m\u001b[31m;\u001b[m\n",
            "8\t\n",
            "9\t\u001b[31m}\u001b[m\n",
            "10\t\n",
            "11\t\u001b[32mint\u001b[m \u001b[01mmain\u001b[m\u001b[31m()\u001b[m\n",
            "12\t\u001b[31m{\u001b[m\n",
            "13\t  \u001b[01mtest_function\u001b[m\u001b[31m(\u001b[m\u001b[35m1\u001b[m\u001b[31m,\u001b[m\u001b[35m2\u001b[m\u001b[31m,\u001b[m\u001b[35m3\u001b[m\u001b[31m,\u001b[m\u001b[35m4\u001b[m\u001b[31m);\u001b[m\n",
            "14\t\u001b[31m}\u001b[m\n",
            "\u001b[?2004h(gdb) break 12\n",
            "Breakpoint 1 at \u001b[34m0x119a\u001b[m: file \u001b[32mstack.c\u001b[m, line 13.\n",
            "\u001b[?2004h(gdb) break test_function\n",
            "Breakpoint 2 at \u001b[34m0x1161\u001b[m: file \u001b[32mstack.c\u001b[m, line 3.\n",
            "\u001b[?2004h(gdb) run\n",
            "Starting program: \u001b[32m/content/a.out\u001b[m \n",
            "warning: Error disabling address space randomization: Operation not permitted\n",
            "[Thread debugging using libthread_db enabled]\n",
            "Using host libthread_db library \"\u001b[32m/lib/x86_64-linux-gnu/libthread_db.so.1\u001b[m\".\n",
            "\n",
            "Breakpoint 1, \u001b[33mmain\u001b[m () at \u001b[32mstack.c\u001b[m:13\n",
            "13\t  \u001b[01mtest_function\u001b[m\u001b[31m(\u001b[m\u001b[35m1\u001b[m\u001b[31m,\u001b[m\u001b[35m2\u001b[m\u001b[31m,\u001b[m\u001b[35m3\u001b[m\u001b[31m,\u001b[m\u001b[35m4\u001b[m\u001b[31m);\u001b[m\n",
            "\u001b[?2004h(gdb) i r rsp rbp ip\n",
            "rsp            0x7ffcbc3b95a0      0x7ffcbc3b95a0\n",
            "rbp            0x7ffcbc3b95a0      0x7ffcbc3b95a0\n",
            "Invalid register `ip'\n",
            "\u001b[?2004h(gdb) i r rsp rbp rip\n",
            "rsp            0x7ffcbc3b95a0      0x7ffcbc3b95a0\n",
            "rbp            0x7ffcbc3b95a0      0x7ffcbc3b95a0\n",
            "rip            0x5700932f119a      0x5700932f119a <main+8>\n",
            "\u001b[?2004h(gdb) q\n",
            "\u001b[?2004hA debugging session is active.\n",
            "\n",
            "\tInferior 1 [process 28490] will be killed.\n",
            "\n",
            "Quit anyway? (y or n) y\n"
          ]
        }
      ]
    },
    {
      "cell_type": "code",
      "source": [
        "!gdb -q ./a.out\n"
      ],
      "metadata": {
        "colab": {
          "base_uri": "https://localhost:8080/"
        },
        "id": "p6vtUAnhCSYn",
        "outputId": "10ff6cba-760d-47e3-e2ab-26fe1b27d4c9"
      },
      "execution_count": null,
      "outputs": [
        {
          "output_type": "stream",
          "name": "stdout",
          "text": [
            "Reading symbols from \u001b[32m./a.out\u001b[m...\n",
            "\u001b[?2004h(gdb) list main\n",
            "7\t  buffer\u001b[31m[\u001b[m\u001b[35m0\u001b[m\u001b[31m]\u001b[m \u001b[31m=\u001b[m \u001b[31m'A'\u001b[m\u001b[31m;\u001b[m\n",
            "8\t\n",
            "9\t\u001b[31m}\u001b[m\n",
            "10\t\n",
            "11\t\u001b[32mint\u001b[m \u001b[01mmain\u001b[m\u001b[31m()\u001b[m\n",
            "12\t\u001b[31m{\u001b[m\n",
            "13\t  \u001b[01mtest_function\u001b[m\u001b[31m(\u001b[m\u001b[35m1\u001b[m\u001b[31m,\u001b[m\u001b[35m2\u001b[m\u001b[31m,\u001b[m\u001b[35m3\u001b[m\u001b[31m,\u001b[m\u001b[35m4\u001b[m\u001b[31m);\u001b[m\n",
            "14\t\u001b[31m}\u001b[m\n",
            "\u001b[?2004h(gdb) break 11\n",
            "Breakpoint 1 at \u001b[34m0x119a\u001b[m: file \u001b[32mstack.c\u001b[m, line 13.\n",
            "\u001b[?2004h(gdb) break test_function\n",
            "Breakpoint 2 at \u001b[34m0x1161\u001b[m: file \u001b[32mstack.c\u001b[m, line 3.\n",
            "\u001b[?2004h(gdb) run\n",
            "Starting program: \u001b[32m/content/a.out\u001b[m \n",
            "warning: Error disabling address space randomization: Operation not permitted\n",
            "[Thread debugging using libthread_db enabled]\n",
            "Using host libthread_db library \"\u001b[32m/lib/x86_64-linux-gnu/libthread_db.so.1\u001b[m\".\n",
            "\n",
            "Breakpoint 1, \u001b[33mmain\u001b[m () at \u001b[32mstack.c\u001b[m:13\n",
            "13\t  \u001b[01mtest_function\u001b[m\u001b[31m(\u001b[m\u001b[35m1\u001b[m\u001b[31m,\u001b[m\u001b[35m2\u001b[m\u001b[31m,\u001b[m\u001b[35m3\u001b[m\u001b[31m,\u001b[m\u001b[35m4\u001b[m\u001b[31m);\u001b[m\n",
            "\u001b[?2004h(gdb) ir rbp\n",
            "Undefined command: \"ir\".  Try \"help\".\n",
            "\u001b[?2004h(gdb) i r rbp\n",
            "rbp            0x7ffe42412070      0x7ffe42412070\n",
            "\u001b[?2004h(gdb) i r rsp\n",
            "rsp            0x7ffe42412070      0x7ffe42412070\n",
            "\u001b[?2004h(gdb) x/5i $rip\n",
            "=> \u001b[34m0x5cfbf761f19a\u001b[m <\u001b[33mmain\u001b[m+8>:\t\u001b[32mmov\u001b[39;49;00m\u001b[37m    \u001b[39;49;00m\u001b[31m$0x4\u001b[39;49;00m,\u001b[31m%ecx\u001b[39;49;00m\u001b[37m\u001b[39;49;00m\n",
            "   \u001b[34m0x5cfbf761f19f\u001b[m <\u001b[33mmain\u001b[m+13>:\t\u001b[32mmov\u001b[39;49;00m\u001b[37m    \u001b[39;49;00m\u001b[31m$0x3\u001b[39;49;00m,\u001b[31m%edx\u001b[39;49;00m\u001b[37m\u001b[39;49;00m\n",
            "   \u001b[34m0x5cfbf761f1a4\u001b[m <\u001b[33mmain\u001b[m+18>:\t\u001b[32mmov\u001b[39;49;00m\u001b[37m    \u001b[39;49;00m\u001b[31m$0x2\u001b[39;49;00m,\u001b[31m%esi\u001b[39;49;00m\u001b[37m\u001b[39;49;00m\n",
            "   \u001b[34m0x5cfbf761f1a9\u001b[m <\u001b[33mmain\u001b[m+23>:\t\u001b[32mmov\u001b[39;49;00m\u001b[37m    \u001b[39;49;00m\u001b[31m$0x1\u001b[39;49;00m,\u001b[31m%edi\u001b[39;49;00m\u001b[37m\u001b[39;49;00m\n",
            "   \u001b[34m0x5cfbf761f1ae\u001b[m <\u001b[33mmain\u001b[m+28>:\t\u001b[32mcall\u001b[39;49;00m\u001b[37m   \u001b[39;49;00m\u001b[34m0x5cfbf761f149\u001b[39;49;00m <\u001b[31mtest_function\u001b[39;49;00m>\u001b[37m\u001b[39;49;00m\n",
            "\u001b[?2004h(gdb) cont\n",
            "Continuing.\n",
            "\n",
            "Breakpoint 2, \u001b[33mtest_function\u001b[m (\u001b[36ma\u001b[m=1, \u001b[36mb\u001b[m=2, \u001b[36mc\u001b[m=3, \u001b[36md\u001b[m=4) at \u001b[32mstack.c\u001b[m:3\n",
            "3\t\u001b[31m{\u001b[m\n",
            "\u001b[?2004h(gdb) i r rbp rsp rip\n",
            "rbp            0x7ffe42412060      0x7ffe42412060\n",
            "rsp            0x7ffe42412030      0x7ffe42412030\n",
            "rip            0x5cfbf761f161      0x5cfbf761f161 <test_function+24>\n",
            "\u001b[?2004h(gdb) disass test_function\n",
            "Dump of assembler code for function \u001b[33mtest_function\u001b[m:\n",
            "   \u001b[34m0x00005cfbf761f149\u001b[m <+0>:\t\u001b[32mendbr64\u001b[39;49;00m\u001b[37m \u001b[39;49;00m\n",
            "   \u001b[34m0x00005cfbf761f14d\u001b[m <+4>:\t\u001b[32mpush\u001b[39;49;00m\u001b[37m   \u001b[39;49;00m\u001b[31m%rbp\u001b[39;49;00m\u001b[37m\u001b[39;49;00m\n",
            "   \u001b[34m0x00005cfbf761f14e\u001b[m <+5>:\t\u001b[32mmov\u001b[39;49;00m\u001b[37m    \u001b[39;49;00m\u001b[31m%rsp\u001b[39;49;00m,\u001b[31m%rbp\u001b[39;49;00m\u001b[37m\u001b[39;49;00m\n",
            "   \u001b[34m0x00005cfbf761f151\u001b[m <+8>:\t\u001b[32msub\u001b[39;49;00m\u001b[37m    \u001b[39;49;00m\u001b[31m$0x30\u001b[39;49;00m,\u001b[31m%rsp\u001b[39;49;00m\u001b[37m\u001b[39;49;00m\n",
            "   \u001b[34m0x00005cfbf761f155\u001b[m <+12>:\t\u001b[32mmov\u001b[39;49;00m\u001b[37m    \u001b[39;49;00m\u001b[31m%edi\u001b[39;49;00m,-\u001b[34m0x24\u001b[39;49;00m(\u001b[31m%rbp\u001b[39;49;00m)\u001b[37m\u001b[39;49;00m\n",
            "   \u001b[34m0x00005cfbf761f158\u001b[m <+15>:\t\u001b[32mmov\u001b[39;49;00m\u001b[37m    \u001b[39;49;00m\u001b[31m%esi\u001b[39;49;00m,-\u001b[34m0x28\u001b[39;49;00m(\u001b[31m%rbp\u001b[39;49;00m)\u001b[37m\u001b[39;49;00m\n",
            "   \u001b[34m0x00005cfbf761f15b\u001b[m <+18>:\t\u001b[32mmov\u001b[39;49;00m\u001b[37m    \u001b[39;49;00m\u001b[31m%edx\u001b[39;49;00m,-\u001b[34m0x2c\u001b[39;49;00m(\u001b[31m%rbp\u001b[39;49;00m)\u001b[37m\u001b[39;49;00m\n",
            "   \u001b[34m0x00005cfbf761f15e\u001b[m <+21>:\t\u001b[32mmov\u001b[39;49;00m\u001b[37m    \u001b[39;49;00m\u001b[31m%ecx\u001b[39;49;00m,-\u001b[34m0x30\u001b[39;49;00m(\u001b[31m%rbp\u001b[39;49;00m)\u001b[37m\u001b[39;49;00m\n",
            "=> \u001b[34m0x00005cfbf761f161\u001b[m <+24>:\t\u001b[32mmov\u001b[39;49;00m\u001b[37m    \u001b[39;49;00m\u001b[31m%fs\u001b[39;49;00m:\u001b[34m0x28\u001b[39;49;00m,\u001b[31m%rax\u001b[39;49;00m\u001b[37m\u001b[39;49;00m\n",
            "   \u001b[34m0x00005cfbf761f16a\u001b[m <+33>:\t\u001b[32mmov\u001b[39;49;00m\u001b[37m    \u001b[39;49;00m\u001b[31m%rax\u001b[39;49;00m,-\u001b[34m0x8\u001b[39;49;00m(\u001b[31m%rbp\u001b[39;49;00m)\u001b[37m\u001b[39;49;00m\n",
            "   \u001b[34m0x00005cfbf761f16e\u001b[m <+37>:\t\u001b[32mxor\u001b[39;49;00m\u001b[37m    \u001b[39;49;00m\u001b[31m%eax\u001b[39;49;00m,\u001b[31m%eax\u001b[39;49;00m\u001b[37m\u001b[39;49;00m\n",
            "   \u001b[34m0x00005cfbf761f170\u001b[m <+39>:\t\u001b[32mmovl\u001b[39;49;00m\u001b[37m   \u001b[39;49;00m\u001b[31m$0x539\u001b[39;49;00m,-\u001b[34m0x18\u001b[39;49;00m(\u001b[31m%rbp\u001b[39;49;00m)\u001b[37m\u001b[39;49;00m\n",
            "   \u001b[34m0x00005cfbf761f177\u001b[m <+46>:\t\u001b[32mmovb\u001b[39;49;00m\u001b[37m   \u001b[39;49;00m\u001b[31m$0x41\u001b[39;49;00m,-\u001b[34m0x12\u001b[39;49;00m(\u001b[31m%rbp\u001b[39;49;00m)\u001b[37m\u001b[39;49;00m\n",
            "   \u001b[34m0x00005cfbf761f17b\u001b[m <+50>:\t\u001b[32mnop\u001b[39;49;00m\u001b[37m\u001b[39;49;00m\n",
            "   \u001b[34m0x00005cfbf761f17c\u001b[m <+51>:\t\u001b[32mmov\u001b[39;49;00m\u001b[37m    \u001b[39;49;00m\u001b[34m-0\u001b[39;49;00m\u001b[31mx8\u001b[39;49;00m(\u001b[31m%rbp\u001b[39;49;00m),\u001b[31m%rax\u001b[39;49;00m\u001b[37m\u001b[39;49;00m\n",
            "   \u001b[34m0x00005cfbf761f180\u001b[m <+55>:\t\u001b[32msub\u001b[39;49;00m\u001b[37m    \u001b[39;49;00m\u001b[31m%fs\u001b[39;49;00m:\u001b[34m0x28\u001b[39;49;00m,\u001b[31m%rax\u001b[39;49;00m\u001b[37m\u001b[39;49;00m\n",
            "   \u001b[34m0x00005cfbf761f189\u001b[m <+64>:\t\u001b[32mje\u001b[39;49;00m\u001b[37m     \u001b[39;49;00m\u001b[34m0x5cfbf761f190\u001b[39;49;00m <\u001b[31mtest_function\u001b[39;49;00m+\u001b[34m71\u001b[39;49;00m>\u001b[37m\u001b[39;49;00m\n",
            "   \u001b[34m0x00005cfbf761f18b\u001b[m <+66>:\t\u001b[32mcall\u001b[39;49;00m\u001b[37m   \u001b[39;49;00m\u001b[34m0x5cfbf761f050\u001b[39;49;00m <\u001b[31m__stack_chk_fail@plt\u001b[39;49;00m>\u001b[37m\u001b[39;49;00m\n",
            "   \u001b[34m0x00005cfbf761f190\u001b[m <+71>:\t\u001b[32mleave\u001b[39;49;00m\u001b[37m  \u001b[39;49;00m\n",
            "   \u001b[34m0x00005cfbf761f191\u001b[m <+72>:\t\u001b[32mret\u001b[39;49;00m\u001b[37m    \u001b[39;49;00m\n",
            "End of assembler dump.\n",
            "\u001b[?2004h(gdb) print $rbp-12\n",
            "$1 = (void *\u001b[36m\u001b[m) \u001b[34m0x7ffe42412054\u001b[m\n",
            "\u001b[?2004h(gdb) print $rbp-18\n",
            "$2 = (void *\u001b[36m\u001b[m) \u001b[34m0x7ffe4241204e\u001b[m\n",
            "\u001b[?2004h(gdb) x/xw rsp\n",
            "No symbol \"rsp\" in current context.\n",
            "\u001b[?2004h(gdb) x/16xw $rsp\n",
            "\u001b[34m0x7ffe42412030\u001b[m:\t0x00000004\t0x00000003\t0x00000002\t0x00000001\n",
            "\u001b[34m0x7ffe42412040\u001b[m:\t0x00000000\t0x00000000\t0x00000000\t0x00000000\n",
            "\u001b[34m0x7ffe42412050\u001b[m:\t0x00000000\t0x00000000\t0x00000000\t0x00000000\n",
            "\u001b[34m0x7ffe42412060\u001b[m:\t0x42412070\t0x00007ffe\t0xf761f1b3\t0x00005cfb\n",
            "\u001b[?2004h(gdb) x/32xw $rsp\n",
            "\u001b[34m0x7ffe42412030\u001b[m:\t0x00000004\t0x00000003\t0x00000002\t0x00000001\n",
            "\u001b[34m0x7ffe42412040\u001b[m:\t0x00000000\t0x00000000\t0x00000000\t0x00000000\n",
            "\u001b[34m0x7ffe42412050\u001b[m:\t0x00000000\t0x00000000\t0x00000000\t0x00000000\n",
            "\u001b[34m0x7ffe42412060\u001b[m:\t0x42412070\t0x00007ffe\t0xf761f1b3\t0x00005cfb\n",
            "\u001b[34m0x7ffe42412070\u001b[m:\t0x00000001\t0x00000000\t0xc89dcd90\t0x00007c6f\n",
            "\u001b[34m0x7ffe42412080\u001b[m:\t0x00000000\t0x00000000\t0xf761f192\t0x00005cfb\n",
            "\u001b[34m0x7ffe42412090\u001b[m:\t0x00000000\t0x00000001\t0x42412188\t0x00007ffe\n",
            "\u001b[34m0x7ffe424120a0\u001b[m:\t0x00000000\t0x00000000\t0xefe73baa\t0x27f505a6\n",
            "\u001b[?2004h(gdb) x/64xw $rsp\n",
            "\u001b[34m0x7ffe42412030\u001b[m:\t0x00000004\t0x00000003\t0x00000002\t0x00000001\n",
            "\u001b[34m0x7ffe42412040\u001b[m:\t0x00000000\t0x00000000\t0x00000000\t0x00000000\n",
            "\u001b[34m0x7ffe42412050\u001b[m:\t0x00000000\t0x00000000\t0x00000000\t0x00000000\n",
            "\u001b[34m0x7ffe42412060\u001b[m:\t0x42412070\t0x00007ffe\t0xf761f1b3\t0x00005cfb\n",
            "\u001b[34m0x7ffe42412070\u001b[m:\t0x00000001\t0x00000000\t0xc89dcd90\t0x00007c6f\n",
            "\u001b[34m0x7ffe42412080\u001b[m:\t0x00000000\t0x00000000\t0xf761f192\t0x00005cfb\n",
            "\u001b[34m0x7ffe42412090\u001b[m:\t0x00000000\t0x00000001\t0x42412188\t0x00007ffe\n",
            "\u001b[34m0x7ffe424120a0\u001b[m:\t0x00000000\t0x00000000\t0xefe73baa\t0x27f505a6\n",
            "\u001b[34m0x7ffe424120b0\u001b[m:\t0x42412188\t0x00007ffe\t0xf761f192\t0x00005cfb\n",
            "\u001b[34m0x7ffe424120c0\u001b[m:\t0xf7621dc0\t0x00005cfb\t0xc8c2e040\t0x00007c6f\n",
            "\u001b[34m0x7ffe424120d0\u001b[m:\t0xaee53baa\t0xd8098124\t0x756d3baa\t0xdf2a949d\n",
            "\u001b[34m0x7ffe424120e0\u001b[m:\t0x00000000\t0x00000000\t0x00000000\t0x00000000\n",
            "\u001b[34m0x7ffe424120f0\u001b[m:\t0x00000000\t0x00000000\t0x00000000\t0x00000000\n",
            "\u001b[34m0x7ffe42412100\u001b[m:\t0x00000000\t0x00000000\t0x3a0b8f00\t0xf9747c19\n",
            "\u001b[34m0x7ffe42412110\u001b[m:\t0x00000000\t0x00000000\t0xc89dce40\t0x00007c6f\n",
            "\u001b[34m0x7ffe42412120\u001b[m:\t0x42412198\t0x00007ffe\t0xf7621dc0\t0x00005cfb\n",
            "\u001b[?2004h(gdb) disass main\n",
            "Dump of assembler code for function \u001b[33mmain\u001b[m:\n",
            "   \u001b[34m0x00005cfbf761f192\u001b[m <+0>:\t\u001b[32mendbr64\u001b[39;49;00m\u001b[37m \u001b[39;49;00m\n",
            "   \u001b[34m0x00005cfbf761f196\u001b[m <+4>:\t\u001b[32mpush\u001b[39;49;00m\u001b[37m   \u001b[39;49;00m\u001b[31m%rbp\u001b[39;49;00m\u001b[37m\u001b[39;49;00m\n",
            "   \u001b[34m0x00005cfbf761f197\u001b[m <+5>:\t\u001b[32mmov\u001b[39;49;00m\u001b[37m    \u001b[39;49;00m\u001b[31m%rsp\u001b[39;49;00m,\u001b[31m%rbp\u001b[39;49;00m\u001b[37m\u001b[39;49;00m\n",
            "   \u001b[34m0x00005cfbf761f19a\u001b[m <+8>:\t\u001b[32mmov\u001b[39;49;00m\u001b[37m    \u001b[39;49;00m\u001b[31m$0x4\u001b[39;49;00m,\u001b[31m%ecx\u001b[39;49;00m\u001b[37m\u001b[39;49;00m\n",
            "   \u001b[34m0x00005cfbf761f19f\u001b[m <+13>:\t\u001b[32mmov\u001b[39;49;00m\u001b[37m    \u001b[39;49;00m\u001b[31m$0x3\u001b[39;49;00m,\u001b[31m%edx\u001b[39;49;00m\u001b[37m\u001b[39;49;00m\n",
            "   \u001b[34m0x00005cfbf761f1a4\u001b[m <+18>:\t\u001b[32mmov\u001b[39;49;00m\u001b[37m    \u001b[39;49;00m\u001b[31m$0x2\u001b[39;49;00m,\u001b[31m%esi\u001b[39;49;00m\u001b[37m\u001b[39;49;00m\n",
            "   \u001b[34m0x00005cfbf761f1a9\u001b[m <+23>:\t\u001b[32mmov\u001b[39;49;00m\u001b[37m    \u001b[39;49;00m\u001b[31m$0x1\u001b[39;49;00m,\u001b[31m%edi\u001b[39;49;00m\u001b[37m\u001b[39;49;00m\n",
            "   \u001b[34m0x00005cfbf761f1ae\u001b[m <+28>:\t\u001b[32mcall\u001b[39;49;00m\u001b[37m   \u001b[39;49;00m\u001b[34m0x5cfbf761f149\u001b[39;49;00m <\u001b[31mtest_function\u001b[39;49;00m>\u001b[37m\u001b[39;49;00m\n",
            "   \u001b[34m0x00005cfbf761f1b3\u001b[m <+33>:\t\u001b[32mmov\u001b[39;49;00m\u001b[37m    \u001b[39;49;00m\u001b[31m$0x0\u001b[39;49;00m,\u001b[31m%eax\u001b[39;49;00m\u001b[37m\u001b[39;49;00m\n",
            "   \u001b[34m0x00005cfbf761f1b8\u001b[m <+38>:\t\u001b[32mpop\u001b[39;49;00m\u001b[37m    \u001b[39;49;00m\u001b[31m%rbp\u001b[39;49;00m\u001b[37m\u001b[39;49;00m\n",
            "   \u001b[34m0x00005cfbf761f1b9\u001b[m <+39>:\t\u001b[32mret\u001b[39;49;00m\u001b[37m    \u001b[39;49;00m\n",
            "End of assembler dump.\n",
            "\u001b[?2004h(gdb) x/16xw rbp\n",
            "No symbol \"rbp\" in current context.\n",
            "\u001b[?2004h(gdb) x/16xw $rbp\n",
            "\u001b[34m0x7ffe42412060\u001b[m:\t0x42412070\t0x00007ffe\t0xf761f1b3\t0x00005cfb\n",
            "\u001b[34m0x7ffe42412070\u001b[m:\t0x00000001\t0x00000000\t0xc89dcd90\t0x00007c6f\n",
            "\u001b[34m0x7ffe42412080\u001b[m:\t0x00000000\t0x00000000\t0xf761f192\t0x00005cfb\n",
            "\u001b[34m0x7ffe42412090\u001b[m:\t0x00000000\t0x00000001\t0x42412188\t0x00007ffe\n",
            "\u001b[?2004h(gdb) quit\n",
            "\u001b[?2004hA debugging session is active.\n",
            "\n",
            "\tInferior 1 [process 29001] will be killed.\n",
            "\n",
            "Quit anyway? (y or n) y\n"
          ]
        }
      ]
    },
    {
      "cell_type": "markdown",
      "source": [
        "the bottom of teh stack frame has the four argument values passed. [note that the stack starts from higher addresses] . there are some bytes which are for padding. then we have the return address, i.e the address to which instruction pointer will return to. The next address is the address which was pointed to by rbp pointer in previous stack frame i.e in main\n",
        "Then we have memory for flag and buffer"
      ],
      "metadata": {
        "id": "MyRy-cl_GYrX"
      }
    },
    {
      "cell_type": "code",
      "source": [
        "!gdb -q ./a.out\n"
      ],
      "metadata": {
        "colab": {
          "base_uri": "https://localhost:8080/"
        },
        "id": "U3tHzL9-DSqi",
        "outputId": "5c3f4a6d-3478-4d98-850a-342521e5ebba"
      },
      "execution_count": null,
      "outputs": [
        {
          "output_type": "stream",
          "name": "stdout",
          "text": [
            "Reading symbols from \u001b[32m./a.out\u001b[m...\n",
            "\u001b[?2004h(gdb) list main\n",
            "7\t  buffer\u001b[31m[\u001b[m\u001b[35m0\u001b[m\u001b[31m]\u001b[m \u001b[31m=\u001b[m \u001b[31m'A'\u001b[m\u001b[31m;\u001b[m\n",
            "8\t\n",
            "9\t\u001b[31m}\u001b[m\n",
            "10\t\n",
            "11\t\u001b[32mint\u001b[m \u001b[01mmain\u001b[m\u001b[31m()\u001b[m\n",
            "12\t\u001b[31m{\u001b[m\n",
            "13\t  \u001b[01mtest_function\u001b[m\u001b[31m(\u001b[m\u001b[35m1\u001b[m\u001b[31m,\u001b[m\u001b[35m2\u001b[m\u001b[31m,\u001b[m\u001b[35m3\u001b[m\u001b[31m,\u001b[m\u001b[35m4\u001b[m\u001b[31m);\u001b[m\n",
            "14\t\u001b[31m}\u001b[m\n",
            "\u001b[?2004h(gdb) list test_function\n",
            "1\t\u001b[01;34m#include\u001b[m \u001b[31m<stdio.h>\u001b[m\n",
            "2\t\u001b[32mvoid\u001b[m \u001b[01mtest_function\u001b[m\u001b[31m(\u001b[m\u001b[32mint\u001b[m a\u001b[31m,\u001b[m \u001b[32mint\u001b[m b\u001b[31m,\u001b[m \u001b[32mint\u001b[m c\u001b[31m,\u001b[m \u001b[32mint\u001b[m d\u001b[31m)\u001b[m\n",
            "3\t\u001b[31m{\u001b[m\n",
            "4\t  \u001b[32mint\u001b[m flag\u001b[31m;\u001b[m\n",
            "5\t  \u001b[32mchar\u001b[m buffer\u001b[31m[\u001b[m\u001b[35m10\u001b[m\u001b[31m];\u001b[m\n",
            "6\t  flag \u001b[31m=\u001b[m \u001b[35m1337\u001b[m\u001b[31m;\u001b[m\n",
            "7\t  buffer\u001b[31m[\u001b[m\u001b[35m0\u001b[m\u001b[31m]\u001b[m \u001b[31m=\u001b[m \u001b[31m'A'\u001b[m\u001b[31m;\u001b[m\n",
            "8\t\n",
            "9\t\u001b[31m}\u001b[m\n",
            "10\t\n",
            "\u001b[?2004h(gdb) diass main\n",
            "Undefined command: \"diass\".  Try \"help\".\n",
            "\u001b[?2004h(gdb) disass main\n",
            "Dump of assembler code for function \u001b[33mmain\u001b[m:\n",
            "   \u001b[34m0x0000000000001192\u001b[m <+0>:\t\u001b[32mendbr64\u001b[39;49;00m\u001b[37m \u001b[39;49;00m\n",
            "   \u001b[34m0x0000000000001196\u001b[m <+4>:\t\u001b[32mpush\u001b[39;49;00m\u001b[37m   \u001b[39;49;00m\u001b[31m%rbp\u001b[39;49;00m\u001b[37m\u001b[39;49;00m\n",
            "   \u001b[34m0x0000000000001197\u001b[m <+5>:\t\u001b[32mmov\u001b[39;49;00m\u001b[37m    \u001b[39;49;00m\u001b[31m%rsp\u001b[39;49;00m,\u001b[31m%rbp\u001b[39;49;00m\u001b[37m\u001b[39;49;00m\n",
            "   \u001b[34m0x000000000000119a\u001b[m <+8>:\t\u001b[32mmov\u001b[39;49;00m\u001b[37m    \u001b[39;49;00m\u001b[31m$0x4\u001b[39;49;00m,\u001b[31m%ecx\u001b[39;49;00m\u001b[37m\u001b[39;49;00m\n",
            "   \u001b[34m0x000000000000119f\u001b[m <+13>:\t\u001b[32mmov\u001b[39;49;00m\u001b[37m    \u001b[39;49;00m\u001b[31m$0x3\u001b[39;49;00m,\u001b[31m%edx\u001b[39;49;00m\u001b[37m\u001b[39;49;00m\n",
            "   \u001b[34m0x00000000000011a4\u001b[m <+18>:\t\u001b[32mmov\u001b[39;49;00m\u001b[37m    \u001b[39;49;00m\u001b[31m$0x2\u001b[39;49;00m,\u001b[31m%esi\u001b[39;49;00m\u001b[37m\u001b[39;49;00m\n",
            "   \u001b[34m0x00000000000011a9\u001b[m <+23>:\t\u001b[32mmov\u001b[39;49;00m\u001b[37m    \u001b[39;49;00m\u001b[31m$0x1\u001b[39;49;00m,\u001b[31m%edi\u001b[39;49;00m\u001b[37m\u001b[39;49;00m\n",
            "   \u001b[34m0x00000000000011ae\u001b[m <+28>:\t\u001b[32mcall\u001b[39;49;00m\u001b[37m   \u001b[39;49;00m\u001b[34m0x1149\u001b[39;49;00m <\u001b[31mtest_function\u001b[39;49;00m>\u001b[37m\u001b[39;49;00m\n",
            "   \u001b[34m0x00000000000011b3\u001b[m <+33>:\t\u001b[32mmov\u001b[39;49;00m\u001b[37m    \u001b[39;49;00m\u001b[31m$0x0\u001b[39;49;00m,\u001b[31m%eax\u001b[39;49;00m\u001b[37m\u001b[39;49;00m\n",
            "   \u001b[34m0x00000000000011b8\u001b[m <+38>:\t\u001b[32mpop\u001b[39;49;00m\u001b[37m    \u001b[39;49;00m\u001b[31m%rbp\u001b[39;49;00m\u001b[37m\u001b[39;49;00m\n",
            "   \u001b[34m0x00000000000011b9\u001b[m <+39>:\t\u001b[32mret\u001b[39;49;00m\u001b[37m    \u001b[39;49;00m\n",
            "End of assembler dump.\n",
            "\u001b[?2004h(gdb) disass test_function\n",
            "Dump of assembler code for function \u001b[33mtest_function\u001b[m:\n",
            "   \u001b[34m0x0000000000001149\u001b[m <+0>:\t\u001b[32mendbr64\u001b[39;49;00m\u001b[37m \u001b[39;49;00m\n",
            "   \u001b[34m0x000000000000114d\u001b[m <+4>:\t\u001b[32mpush\u001b[39;49;00m\u001b[37m   \u001b[39;49;00m\u001b[31m%rbp\u001b[39;49;00m\u001b[37m\u001b[39;49;00m\n",
            "   \u001b[34m0x000000000000114e\u001b[m <+5>:\t\u001b[32mmov\u001b[39;49;00m\u001b[37m    \u001b[39;49;00m\u001b[31m%rsp\u001b[39;49;00m,\u001b[31m%rbp\u001b[39;49;00m\u001b[37m\u001b[39;49;00m\n",
            "   \u001b[34m0x0000000000001151\u001b[m <+8>:\t\u001b[32msub\u001b[39;49;00m\u001b[37m    \u001b[39;49;00m\u001b[31m$0x30\u001b[39;49;00m,\u001b[31m%rsp\u001b[39;49;00m\u001b[37m\u001b[39;49;00m\n",
            "   \u001b[34m0x0000000000001155\u001b[m <+12>:\t\u001b[32mmov\u001b[39;49;00m\u001b[37m    \u001b[39;49;00m\u001b[31m%edi\u001b[39;49;00m,-\u001b[34m0x24\u001b[39;49;00m(\u001b[31m%rbp\u001b[39;49;00m)\u001b[37m\u001b[39;49;00m\n",
            "   \u001b[34m0x0000000000001158\u001b[m <+15>:\t\u001b[32mmov\u001b[39;49;00m\u001b[37m    \u001b[39;49;00m\u001b[31m%esi\u001b[39;49;00m,-\u001b[34m0x28\u001b[39;49;00m(\u001b[31m%rbp\u001b[39;49;00m)\u001b[37m\u001b[39;49;00m\n",
            "   \u001b[34m0x000000000000115b\u001b[m <+18>:\t\u001b[32mmov\u001b[39;49;00m\u001b[37m    \u001b[39;49;00m\u001b[31m%edx\u001b[39;49;00m,-\u001b[34m0x2c\u001b[39;49;00m(\u001b[31m%rbp\u001b[39;49;00m)\u001b[37m\u001b[39;49;00m\n",
            "   \u001b[34m0x000000000000115e\u001b[m <+21>:\t\u001b[32mmov\u001b[39;49;00m\u001b[37m    \u001b[39;49;00m\u001b[31m%ecx\u001b[39;49;00m,-\u001b[34m0x30\u001b[39;49;00m(\u001b[31m%rbp\u001b[39;49;00m)\u001b[37m\u001b[39;49;00m\n",
            "   \u001b[34m0x0000000000001161\u001b[m <+24>:\t\u001b[32mmov\u001b[39;49;00m\u001b[37m    \u001b[39;49;00m\u001b[31m%fs\u001b[39;49;00m:\u001b[34m0x28\u001b[39;49;00m,\u001b[31m%rax\u001b[39;49;00m\u001b[37m\u001b[39;49;00m\n",
            "   \u001b[34m0x000000000000116a\u001b[m <+33>:\t\u001b[32mmov\u001b[39;49;00m\u001b[37m    \u001b[39;49;00m\u001b[31m%rax\u001b[39;49;00m,-\u001b[34m0x8\u001b[39;49;00m(\u001b[31m%rbp\u001b[39;49;00m)\u001b[37m\u001b[39;49;00m\n",
            "   \u001b[34m0x000000000000116e\u001b[m <+37>:\t\u001b[32mxor\u001b[39;49;00m\u001b[37m    \u001b[39;49;00m\u001b[31m%eax\u001b[39;49;00m,\u001b[31m%eax\u001b[39;49;00m\u001b[37m\u001b[39;49;00m\n",
            "   \u001b[34m0x0000000000001170\u001b[m <+39>:\t\u001b[32mmovl\u001b[39;49;00m\u001b[37m   \u001b[39;49;00m\u001b[31m$0x539\u001b[39;49;00m,-\u001b[34m0x18\u001b[39;49;00m(\u001b[31m%rbp\u001b[39;49;00m)\u001b[37m\u001b[39;49;00m\n",
            "   \u001b[34m0x0000000000001177\u001b[m <+46>:\t\u001b[32mmovb\u001b[39;49;00m\u001b[37m   \u001b[39;49;00m\u001b[31m$0x41\u001b[39;49;00m,-\u001b[34m0x12\u001b[39;49;00m(\u001b[31m%rbp\u001b[39;49;00m)\u001b[37m\u001b[39;49;00m\n",
            "   \u001b[34m0x000000000000117b\u001b[m <+50>:\t\u001b[32mnop\u001b[39;49;00m\u001b[37m\u001b[39;49;00m\n",
            "   \u001b[34m0x000000000000117c\u001b[m <+51>:\t\u001b[32mmov\u001b[39;49;00m\u001b[37m    \u001b[39;49;00m\u001b[34m-0\u001b[39;49;00m\u001b[31mx8\u001b[39;49;00m(\u001b[31m%rbp\u001b[39;49;00m),\u001b[31m%rax\u001b[39;49;00m\u001b[37m\u001b[39;49;00m\n",
            "   \u001b[34m0x0000000000001180\u001b[m <+55>:\t\u001b[32msub\u001b[39;49;00m\u001b[37m    \u001b[39;49;00m\u001b[31m%fs\u001b[39;49;00m:\u001b[34m0x28\u001b[39;49;00m,\u001b[31m%rax\u001b[39;49;00m\u001b[37m\u001b[39;49;00m\n",
            "   \u001b[34m0x0000000000001189\u001b[m <+64>:\t\u001b[32mje\u001b[39;49;00m\u001b[37m     \u001b[39;49;00m\u001b[34m0x1190\u001b[39;49;00m <\u001b[31mtest_function\u001b[39;49;00m+\u001b[34m71\u001b[39;49;00m>\u001b[37m\u001b[39;49;00m\n",
            "   \u001b[34m0x000000000000118b\u001b[m <+66>:\t\u001b[32mcall\u001b[39;49;00m\u001b[37m   \u001b[39;49;00m\u001b[34m0x1050\u001b[39;49;00m <\u001b[31m__stack_chk_fail@plt\u001b[39;49;00m>\u001b[37m\u001b[39;49;00m\n",
            "   \u001b[34m0x0000000000001190\u001b[m <+71>:\t\u001b[32mleave\u001b[39;49;00m\u001b[37m  \u001b[39;49;00m\n",
            "   \u001b[34m0x0000000000001191\u001b[m <+72>:\t\u001b[32mret\u001b[39;49;00m\u001b[37m    \u001b[39;49;00m\n",
            "End of assembler dump.\n",
            "\u001b[?2004h(gdb) break 12\n",
            "Breakpoint 1 at \u001b[34m0x119a\u001b[m: file \u001b[32mstack.c\u001b[m, line 13.\n",
            "\u001b[?2004h(gdb) break test_function\n",
            "Breakpoint 2 at \u001b[34m0x1161\u001b[m: file \u001b[32mstack.c\u001b[m, line 3.\n",
            "\u001b[?2004h(gdb) run\n",
            "Starting program: \u001b[32m/content/a.out\u001b[m \n",
            "warning: Error disabling address space randomization: Operation not permitted\n",
            "[Thread debugging using libthread_db enabled]\n",
            "Using host libthread_db library \"\u001b[32m/lib/x86_64-linux-gnu/libthread_db.so.1\u001b[m\".\n",
            "\n",
            "Breakpoint 1, \u001b[33mmain\u001b[m () at \u001b[32mstack.c\u001b[m:13\n",
            "13\t  \u001b[01mtest_function\u001b[m\u001b[31m(\u001b[m\u001b[35m1\u001b[m\u001b[31m,\u001b[m\u001b[35m2\u001b[m\u001b[31m,\u001b[m\u001b[35m3\u001b[m\u001b[31m,\u001b[m\u001b[35m4\u001b[m\u001b[31m);\u001b[m\n",
            "\u001b[?2004h(gdb) x/5i rbp rsp rbp\n",
            "No symbol \"rbp\" in current context.\n",
            "\u001b[?2004h(gdb) x/5i rsp rbp rip\n",
            "No symbol \"rsp\" in current context.\n",
            "\u001b[?2004h(gdb) x/5i %rbp $rsp $rbp\n",
            "A syntax error in expression, near `%rbp $rsp $rbp'.\n",
            "\u001b[?2004h(gdb) x/5i $rsp\n",
            "   \u001b[34m0x7ffcce631ee0\u001b[m:\t\u001b[32madd\u001b[39;49;00m\u001b[37m    \u001b[39;49;00m\u001b[31m%eax\u001b[39;49;00m,(\u001b[31m%rax\u001b[39;49;00m)\u001b[37m\u001b[39;49;00m\n",
            "   \u001b[34m0x7ffcce631ee2\u001b[m:\t\u001b[32madd\u001b[39;49;00m\u001b[37m    \u001b[39;49;00m\u001b[31m%al\u001b[39;49;00m,(\u001b[31m%rax\u001b[39;49;00m)\u001b[37m\u001b[39;49;00m\n",
            "   \u001b[34m0x7ffcce631ee4\u001b[m:\t\u001b[32madd\u001b[39;49;00m\u001b[37m    \u001b[39;49;00m\u001b[31m%al\u001b[39;49;00m,(\u001b[31m%rax\u001b[39;49;00m)\u001b[37m\u001b[39;49;00m\n",
            "   \u001b[34m0x7ffcce631ee6\u001b[m:\t\u001b[32madd\u001b[39;49;00m\u001b[37m    \u001b[39;49;00m\u001b[31m%al\u001b[39;49;00m,(\u001b[31m%rax\u001b[39;49;00m)\u001b[37m\u001b[39;49;00m\n",
            "   \u001b[34m0x7ffcce631ee8\u001b[m:\t\u001b[32mnop\u001b[39;49;00m\u001b[37m\u001b[39;49;00m\n",
            "\u001b[?2004h(gdb) i r rip\n",
            "rip            0x5711b5d5b19a      0x5711b5d5b19a <main+8>\n",
            "\u001b[?2004h(gdb) i r rbp\n",
            "rbp            0x7ffcce631ee0      0x7ffcce631ee0\n",
            "\u001b[?2004h(gdb) i r rsp\n",
            "rsp            0x7ffcce631ee0      0x7ffcce631ee0\n",
            "\u001b[?2004h(gdb) x/64xw $rsp\n",
            "\u001b[34m0x7ffcce631ee0\u001b[m:\t0x00000001\t0x00000000\t0x5b4aed90\t0x00007918\n",
            "\u001b[34m0x7ffcce631ef0\u001b[m:\t0x00000000\t0x00000000\t0xb5d5b192\t0x00005711\n",
            "\u001b[34m0x7ffcce631f00\u001b[m:\t0x00000000\t0x00000001\t0xce631ff8\t0x00007ffc\n",
            "\u001b[34m0x7ffcce631f10\u001b[m:\t0x00000000\t0x00000000\t0xca2f3f63\t0xd3704987\n",
            "\u001b[34m0x7ffcce631f20\u001b[m:\t0xce631ff8\t0x00007ffc\t0xb5d5b192\t0x00005711\n",
            "\u001b[34m0x7ffcce631f30\u001b[m:\t0xb5d5ddc0\t0x00005711\t0x5b700040\t0x00007918\n",
            "\u001b[34m0x7ffcce631f40\u001b[m:\t0xf7cd3f63\t0x2c89d541\t0x10a53f63\t0x2140ff12\n",
            "\u001b[34m0x7ffcce631f50\u001b[m:\t0x00000000\t0x00007918\t0x00000000\t0x00000000\n",
            "\u001b[34m0x7ffcce631f60\u001b[m:\t0x00000000\t0x00000000\t0x00000000\t0x00000000\n",
            "\u001b[34m0x7ffcce631f70\u001b[m:\t0x00000000\t0x00000000\t0xc8502b00\t0xa6e23115\n",
            "\u001b[34m0x7ffcce631f80\u001b[m:\t0x00000000\t0x00000000\t0x5b4aee40\t0x00007918\n",
            "\u001b[34m0x7ffcce631f90\u001b[m:\t0xce632008\t0x00007ffc\t0xb5d5ddc0\t0x00005711\n",
            "\u001b[34m0x7ffcce631fa0\u001b[m:\t0x5b7012e0\t0x00007918\t0x00000000\t0x00000000\n",
            "\u001b[34m0x7ffcce631fb0\u001b[m:\t0x00000000\t0x00000000\t0xb5d5b060\t0x00005711\n",
            "\u001b[34m0x7ffcce631fc0\u001b[m:\t0xce631ff0\t0x00007ffc\t0x00000000\t0x00000000\n",
            "\u001b[34m0x7ffcce631fd0\u001b[m:\t0x00000000\t0x00000000\t0xb5d5b085\t0x00005711\n",
            "\u001b[?2004h(gdb) cont\n",
            "Continuing.\n",
            "\n",
            "Breakpoint 2, \u001b[33mtest_function\u001b[m (\u001b[36ma\u001b[m=1, \u001b[36mb\u001b[m=2, \u001b[36mc\u001b[m=3, \u001b[36md\u001b[m=4) at \u001b[32mstack.c\u001b[m:3\n",
            "3\t\u001b[31m{\u001b[m\n",
            "\u001b[?2004h(gdb) i r rsp\n",
            "rsp            0x7ffcce631ea0      0x7ffcce631ea0\n",
            "\u001b[?2004h(gdb) i r rbp\n",
            "rbp            0x7ffcce631ed0      0x7ffcce631ed0\n",
            "\u001b[?2004h(gdb) i r rip\n",
            "rip            0x5711b5d5b161      0x5711b5d5b161 <test_function+24>\n",
            "\u001b[?2004h(gdb) x/64wx rsp\n",
            "No symbol \"rsp\" in current context.\n",
            "\u001b[?2004h(gdb) x/64xw $rsp\n",
            "\u001b[34m0x7ffcce631ea0\u001b[m:\t0x00000004\t0x00000003\t0x00000002\t0x00000001\n",
            "\u001b[34m0x7ffcce631eb0\u001b[m:\t0x00000000\t0x00000000\t0x00000000\t0x00000000\n",
            "\u001b[34m0x7ffcce631ec0\u001b[m:\t0x00000000\t0x00000000\t0x00000000\t0x00000000\n",
            "\u001b[34m0x7ffcce631ed0\u001b[m:\t0xce631ee0\t0x00007ffc\t0xb5d5b1b3\t0x00005711\n",
            "\u001b[34m0x7ffcce631ee0\u001b[m:\t0x00000001\t0x00000000\t0x5b4aed90\t0x00007918\n",
            "\u001b[34m0x7ffcce631ef0\u001b[m:\t0x00000000\t0x00000000\t0xb5d5b192\t0x00005711\n",
            "\u001b[34m0x7ffcce631f00\u001b[m:\t0x00000000\t0x00000001\t0xce631ff8\t0x00007ffc\n",
            "\u001b[34m0x7ffcce631f10\u001b[m:\t0x00000000\t0x00000000\t0xca2f3f63\t0xd3704987\n",
            "\u001b[34m0x7ffcce631f20\u001b[m:\t0xce631ff8\t0x00007ffc\t0xb5d5b192\t0x00005711\n",
            "\u001b[34m0x7ffcce631f30\u001b[m:\t0xb5d5ddc0\t0x00005711\t0x5b700040\t0x00007918\n",
            "\u001b[34m0x7ffcce631f40\u001b[m:\t0xf7cd3f63\t0x2c89d541\t0x10a53f63\t0x2140ff12\n",
            "\u001b[34m0x7ffcce631f50\u001b[m:\t0x00000000\t0x00007918\t0x00000000\t0x00000000\n",
            "\u001b[34m0x7ffcce631f60\u001b[m:\t0x00000000\t0x00000000\t0x00000000\t0x00000000\n",
            "\u001b[34m0x7ffcce631f70\u001b[m:\t0x00000000\t0x00000000\t0xc8502b00\t0xa6e23115\n",
            "\u001b[34m0x7ffcce631f80\u001b[m:\t0x00000000\t0x00000000\t0x5b4aee40\t0x00007918\n",
            "\u001b[34m0x7ffcce631f90\u001b[m:\t0xce632008\t0x00007ffc\t0xb5d5ddc0\t0x00005711\n",
            "\u001b[?2004h(gdb) quit\n",
            "\u001b[?2004hA debugging session is active.\n",
            "\n",
            "\tInferior 1 [process 36648] will be killed.\n",
            "\n",
            "Quit anyway? (y or n) y\n"
          ]
        }
      ]
    },
    {
      "cell_type": "markdown",
      "source": [
        "Memory segments in C"
      ],
      "metadata": {
        "id": "QLVPxLCmTNhs"
      }
    },
    {
      "cell_type": "code",
      "source": [
        "%%writefile memory_segments.c\n",
        "#include <stdio.h>\n",
        "#include <stdlib.h>\n",
        "int global_var;\n",
        "int global_initialized_var = 5;\n",
        "void function()\n",
        "{\n",
        "  int stack_var;\n",
        "  printf(\"The address of stack_var is %p\\n\", &stack_var);\n",
        "}\n",
        "\n",
        "int main()\n",
        "{\n",
        "  int stack_var;\n",
        "  static int static_initialized_var = 5;\n",
        "  static int static_var;\n",
        "  int* heap_var;\n",
        "  heap_var = (int*) malloc(4);\n",
        "  printf(\"global_initialized_var is at address %p\\n\", &global_initialized_var);\n",
        "  printf(\"static_initialized_var is at address %p\\n\", &static_initialized_var);\n",
        "\n",
        "  printf(\"global_var is at address %p\\n\",&global_var);\n",
        "  printf(\"static_var is at address %p\\n\", &static_var);\n",
        "\n",
        "  printf(\"heap_var is at address %p\\n\", heap_var);\n",
        "\n",
        "  printf(\"stack_var is at address %p\\n\", &stack_var);\n",
        "  function();\n",
        "  return 0;\n",
        "\n",
        "}"
      ],
      "metadata": {
        "colab": {
          "base_uri": "https://localhost:8080/"
        },
        "id": "NljSNHaCKga5",
        "outputId": "8ff7da9e-dc6e-472a-c527-366c6de5ed3e"
      },
      "execution_count": null,
      "outputs": [
        {
          "output_type": "stream",
          "name": "stdout",
          "text": [
            "Overwriting memory_segments.c\n"
          ]
        }
      ]
    },
    {
      "cell_type": "code",
      "source": [
        "!gcc memory_segments.c"
      ],
      "metadata": {
        "id": "RoHOxPA7_w6m"
      },
      "execution_count": null,
      "outputs": []
    },
    {
      "cell_type": "code",
      "source": [
        "!./a.out"
      ],
      "metadata": {
        "colab": {
          "base_uri": "https://localhost:8080/"
        },
        "id": "FFCOl9Vq_zrw",
        "outputId": "8968fab0-4ee9-4556-c8f0-4ab6c2bd06ca"
      },
      "execution_count": null,
      "outputs": [
        {
          "output_type": "stream",
          "name": "stdout",
          "text": [
            "global_initialized_var is at address 0x56b3d8a21010\n",
            "static_initialized_var is at address 0x56b3d8a21014\n",
            "global_var is at address 0x56b3d8a2101c\n",
            "static_var is at address 0x56b3d8a21020\n",
            "heap_var is at address 0x56b3d9abd2a0\n",
            "stack_var is at address 0x7ffc0499f05c\n",
            "The address of stack_var is 0x7ffc0499f034\n"
          ]
        }
      ]
    },
    {
      "cell_type": "code",
      "source": [
        "%%writefile heap_example.c\n",
        "#include <stdio.h>\n",
        "#include <stdlib.h>\n",
        "#include <string.h>\n",
        "\n",
        "int main(int argc, char** argv)\n",
        "{\n",
        "  char* char_ptr;\n",
        "  int* int_ptr;\n",
        "  int mem_size;\n",
        "  if (argc < 2)\n",
        "  {\n",
        "    mem_size = 50;\n",
        "  }\n",
        "  else\n",
        "  {\n",
        "    mem_size = atoi(argv[1]);\n",
        "  }\n",
        "  printf(\"\\t[+] allocating %d bytes of memory on heap\\n\", mem_size);\n",
        "  char_ptr = (char*) malloc(mem_size);\n",
        "  if (char_ptr == NULL)\n",
        "  {\n",
        "    fprintf(stderr, \"Eror : could not allocate heap memory! \\n\");\n",
        "    exit(-1);\n",
        "  }\n",
        "  strcpy(char_ptr, \"This is memory located on the heap!\\n\");\n",
        "  printf(\"char_ptr (%p) --> '%s'\", char_ptr, char_ptr);\n",
        "  printf(\"\\t[+] allocating 12 bytes of memory on the heap for int_ptr\\n\");\n",
        "  int_ptr = (int *) malloc(12); // Allocated heap memory again\n",
        "  if (int_ptr == NULL)\n",
        "  {\n",
        "    fprintf(stderr, \"Error allocating memory on the heap!\\n\");\n",
        "    exit(-1);\n",
        "  }\n",
        "  *int_ptr= 31337;\n",
        "  printf(\"int_ptr (%p) --> %d\\n\", int_ptr, *int_ptr);\n",
        "  printf(\"\\t[-] freeing char_ptr's heap memory...\\n\");\n",
        "  free(char_ptr);\n",
        "\n",
        " printf(\"\\t[+] allocating another 15 bytes for char_ptr\\n\");\n",
        " char_ptr = (char *) malloc(15); // Allocating more heap memory\n",
        " if(char_ptr == NULL) { // Error checking, in case malloc() fails\n",
        " fprintf(stderr, \"Error: could not allocate heap memory.\\n\");\n",
        " exit(-1);\n",
        " }\n",
        " strcpy(char_ptr, \"new memory\");\n",
        " printf(\"char_ptr (%p) --> '%s'\\n\", char_ptr, char_ptr);\n",
        "\n",
        "  printf(\"\\t[-] freeing int_ptr's heap memory...\\n\");\n",
        " free(int_ptr); // Freeing heap memory\n",
        " printf(\"\\t[-] freeing char_ptr's heap memory...\\n\");\n",
        " free(char_ptr); // Freeing the other block of heap memory\n",
        "\n",
        "}\n"
      ],
      "metadata": {
        "id": "nMsYbk2bAd2J",
        "colab": {
          "base_uri": "https://localhost:8080/"
        },
        "outputId": "85da8f2b-96a0-452d-c22e-ecc8973ebd48"
      },
      "execution_count": null,
      "outputs": [
        {
          "output_type": "stream",
          "name": "stdout",
          "text": [
            "Overwriting heap_example.c\n"
          ]
        }
      ]
    },
    {
      "cell_type": "code",
      "source": [
        "!gcc -g heap_example.c"
      ],
      "metadata": {
        "id": "whssNkJp3peH"
      },
      "execution_count": null,
      "outputs": []
    },
    {
      "cell_type": "code",
      "source": [
        "!./a.out"
      ],
      "metadata": {
        "colab": {
          "base_uri": "https://localhost:8080/"
        },
        "id": "NJrPmoro3rw2",
        "outputId": "f7ac3c78-f2fd-4f27-f08e-26dee0f24f89"
      },
      "execution_count": null,
      "outputs": [
        {
          "output_type": "stream",
          "name": "stdout",
          "text": [
            "\t[+] allocating 50 bytes of memory on heap\n",
            "char_ptr (0x59e345a306b0) --> 'This is memory located on the heap!\n",
            "'\t[+] allocating 12 bytes of memory on the heap for int_ptr\n",
            "int_ptr (0x59e345a306f0) --> 31337\n",
            "\t[-] freeing char_ptr's heap memory...\n",
            "\t[+] allocating another 15 bytes for char_ptr\n",
            "char_ptr (0x59e345a30710) --> 'new memory'\n",
            "\t[-] freeing int_ptr's heap memory...\n",
            "\t[-] freeing char_ptr's heap memory...\n"
          ]
        }
      ]
    },
    {
      "cell_type": "code",
      "source": [
        "!./a.out 1033"
      ],
      "metadata": {
        "colab": {
          "base_uri": "https://localhost:8080/"
        },
        "id": "wDDrTyFS34Nr",
        "outputId": "433d9ae8-bed2-4daf-c1ac-74a3e2de5cfa"
      },
      "execution_count": null,
      "outputs": [
        {
          "output_type": "stream",
          "name": "stdout",
          "text": [
            "\t[+] allocating 1033 bytes of memory on heap\n",
            "char_ptr (0x58009945d6b0) --> 'This is memory located on the heap!\n",
            "'\t[+] allocating 12 bytes of memory on the heap for int_ptr\n",
            "int_ptr (0x58009945dad0) --> 31337\n",
            "\t[-] freeing char_ptr's heap memory...\n",
            "\t[+] allocating another 15 bytes for char_ptr\n",
            "char_ptr (0x58009945d6b0) --> 'new memory'\n",
            "\t[-] freeing int_ptr's heap memory...\n",
            "\t[-] freeing char_ptr's heap memory...\n"
          ]
        }
      ]
    },
    {
      "cell_type": "markdown",
      "source": [
        "In this particular system, if we allocate memory less than 1033 bytes and then deallocate, then allocate mem for integer and reallocate memory for char_ptr, it does not reallocate from the freed memory. Instead it uses mem after the int_ptr allocation. If an initial memory of 1033 bytes or more are allocated and deallocated and then the process is repeated, we see that the freed memory is used, need to dig deeper as to why 1033 is that magic number."
      ],
      "metadata": {
        "id": "PI9klpao515Q"
      }
    },
    {
      "cell_type": "markdown",
      "source": [
        "File access : There are two ways of file access : File streams and file descriptors: File streams and high level i/o streams build on top of file descriptors."
      ],
      "metadata": {
        "id": "WsCah7_d8FsZ"
      }
    },
    {
      "cell_type": "code",
      "source": [
        "%%writefile simplenote.c\n",
        "#include <stdio.h>\n",
        "#include <stdlib.h>\n",
        "#include <fcntl.h>\n",
        "#include <string.h>\n",
        "\n",
        "#include <sys/stat.h>\n",
        "\n",
        "void usage(char* prog_name, char* filename)\n",
        "{\n",
        "  printf(\"Usage : %s <Data to add to %s >\\n \", prog_name, filename);\n",
        "  exit(0);\n",
        "}\n",
        "\n",
        "void fatal(char*);\n",
        "void *error_checked_malloc(unsigned int);\n",
        "\n",
        "int main(int argc, char* argv[])\n",
        "{\n",
        "   int fd; //unique number allocated to a opened file which can be used by the functions open(), write(), read() etc\n",
        "   char *buffer, *datafile;\n",
        "   buffer = (char *) error_checked_malloc(100);\n",
        "   datafile = (char *) error_checked_malloc(20);\n",
        "   strcpy(datafile,\"/tmp/notes\");\n",
        "   if (argc < 2)\n",
        "   {\n",
        "        usage(argv[0], datafile);\n",
        "   }\n",
        "   strcpy(buffer, argv[1]);\n",
        "   printf(\"[DEBUG] at %p, we have \\' %s \\' \\n\", buffer, buffer);\n",
        "   printf(\"[DEBUG] at %p, we have \\' %s \\' \\n\", datafile, datafile);\n",
        "   strncat(buffer,\"\\n\",1);\n",
        "   //openfile\n",
        "   fd = open(datafile,O_WRONLY|O_APPEND|O_CREAT,S_IRUSR|S_IWUSR);\n",
        "   if (fd == -1)\n",
        "   {\n",
        "      fatal(\"in main() while opening file!\\n\");\n",
        "   }\n",
        "   printf(\"[DEBUG] file descriptor is %d\\n\", fd);\n",
        "   //writing data\n",
        "   if(write(fd, buffer,strlen(buffer))==-1)\n",
        "   {\n",
        "       fatal(\"in main() while writing buffer to file\");\n",
        "\n",
        "   }\n",
        "   //closing file\n",
        "   if (close(fd) == -1)\n",
        "   {\n",
        "        fatal(\"in main() while closing file\\n\");\n",
        "   }\n",
        "   printf(\"Note has been saved.\\n\");\n",
        "   free(buffer);\n",
        "   free(datafile);\n",
        "}\n",
        "void fatal(char* message)\n",
        "{\n",
        "  char error_message[100];\n",
        "  strcpy(error_message, \"[!!] Fatal error \");\n",
        "  strncat(error_message, message, 83);\n",
        "  perror(error_message);\n",
        "  exit(-1);\n",
        "}\n",
        "\n",
        "void *error_checked_malloc(unsigned int size)\n",
        "{\n",
        "  void* ptr;\n",
        "  ptr = malloc(size);\n",
        "  if (!ptr)\n",
        "  {\n",
        "    fatal(\"in ec_malloc() on memory allocation\");\n",
        "  }\n",
        "  return ptr;\n",
        "}"
      ],
      "metadata": {
        "id": "ueqLqkyf4jbC",
        "colab": {
          "base_uri": "https://localhost:8080/"
        },
        "outputId": "4a81addb-586b-4fe8-97b4-c4c9cd0cd3ef"
      },
      "execution_count": null,
      "outputs": [
        {
          "output_type": "stream",
          "name": "stdout",
          "text": [
            "Writing simplenote.c\n"
          ]
        }
      ]
    },
    {
      "cell_type": "code",
      "source": [
        "!gcc -o simplenote simplenote.c"
      ],
      "metadata": {
        "colab": {
          "base_uri": "https://localhost:8080/"
        },
        "id": "cm6rUbyyKFjz",
        "outputId": "68eee0e1-555e-4bfc-ff99-a2a0ed8edd76"
      },
      "execution_count": null,
      "outputs": [
        {
          "output_type": "stream",
          "name": "stdout",
          "text": [
            "\u001b[01m\u001b[Ksimplenote.c:\u001b[m\u001b[K In function ‘\u001b[01m\u001b[Kmain\u001b[m\u001b[K’:\n",
            "\u001b[01m\u001b[Ksimplenote.c:40:7:\u001b[m\u001b[K \u001b[01;35m\u001b[Kwarning: \u001b[m\u001b[Kimplicit declaration of function ‘\u001b[01m\u001b[Kwrite\u001b[m\u001b[K’; did you mean ‘\u001b[01m\u001b[Kfwrite\u001b[m\u001b[K’? [\u001b[01;35m\u001b[K\u001b]8;;https://gcc.gnu.org/onlinedocs/gcc/Warning-Options.html#index-Wimplicit-function-declaration\u0007-Wimplicit-function-declaration\u001b]8;;\u0007\u001b[m\u001b[K]\n",
            "   40 |    if(\u001b[01;35m\u001b[Kwrite\u001b[m\u001b[K(fd, buffer,strlen(buffer))==-1)\n",
            "      |       \u001b[01;35m\u001b[K^~~~~\u001b[m\u001b[K\n",
            "      |       \u001b[32m\u001b[Kfwrite\u001b[m\u001b[K\n",
            "\u001b[01m\u001b[Ksimplenote.c:46:8:\u001b[m\u001b[K \u001b[01;35m\u001b[Kwarning: \u001b[m\u001b[Kimplicit declaration of function ‘\u001b[01m\u001b[Kclose\u001b[m\u001b[K’; did you mean ‘\u001b[01m\u001b[Kpclose\u001b[m\u001b[K’? [\u001b[01;35m\u001b[K\u001b]8;;https://gcc.gnu.org/onlinedocs/gcc/Warning-Options.html#index-Wimplicit-function-declaration\u0007-Wimplicit-function-declaration\u001b]8;;\u0007\u001b[m\u001b[K]\n",
            "   46 |    if (\u001b[01;35m\u001b[Kclose\u001b[m\u001b[K(fd) == -1)\n",
            "      |        \u001b[01;35m\u001b[K^~~~~\u001b[m\u001b[K\n",
            "      |        \u001b[32m\u001b[Kpclose\u001b[m\u001b[K\n",
            "\u001b[01m\u001b[Ksimplenote.c:31:4:\u001b[m\u001b[K \u001b[01;35m\u001b[Kwarning: \u001b[m\u001b[K‘\u001b[01m\u001b[Kstrncat\u001b[m\u001b[K’ specified bound 1 equals source length [\u001b[01;35m\u001b[K\u001b]8;;https://gcc.gnu.org/onlinedocs/gcc/Warning-Options.html#index-Wstringop-overflow=\u0007-Wstringop-overflow=\u001b]8;;\u0007\u001b[m\u001b[K]\n",
            "   31 |    \u001b[01;35m\u001b[Kstrncat(buffer,\"\\n\",1)\u001b[m\u001b[K;\n",
            "      |    \u001b[01;35m\u001b[K^~~~~~~~~~~~~~~~~~~~~~\u001b[m\u001b[K\n"
          ]
        }
      ]
    },
    {
      "cell_type": "code",
      "source": [
        "!./simplenote"
      ],
      "metadata": {
        "colab": {
          "base_uri": "https://localhost:8080/"
        },
        "id": "KrXh9OOkKHYp",
        "outputId": "ee265fc1-2214-4c6d-ec85-67d7fc45b61c"
      },
      "execution_count": null,
      "outputs": [
        {
          "output_type": "stream",
          "name": "stdout",
          "text": [
            "Usage : ./simplenote <Data to add to /tmp/notes >\n",
            " "
          ]
        }
      ]
    },
    {
      "cell_type": "code",
      "source": [
        "!./simplenote \"this is a test note!\""
      ],
      "metadata": {
        "colab": {
          "base_uri": "https://localhost:8080/"
        },
        "id": "LUoTOJc4K0iC",
        "outputId": "a8418967-7407-4448-dedd-e28d2e1aa249"
      },
      "execution_count": null,
      "outputs": [
        {
          "output_type": "stream",
          "name": "stdout",
          "text": [
            "[DEBUG] at 0x5a1492ea82a0, we have ' this is a test note! ' \n",
            "[DEBUG] at 0x5a1492ea8310, we have ' /tmp/notes ' \n",
            "[DEBUG] file descriptor is 3\n",
            "Note has been saved.\n"
          ]
        }
      ]
    },
    {
      "cell_type": "code",
      "source": [
        "%%writefile bitwise.c\n",
        "#include <stdio.h>\n",
        "int main()\n",
        "{\n",
        "  int i,bit_a, bit_b;\n",
        "  printf(\"bitwise OR operator | \\n\");\n",
        "  for(i=0;i<4;i++)\n",
        "  {\n",
        "    bit_a = i & 1;\n",
        "    bit_b = (i&2) / 2;\n",
        "    printf(\"%d | %d = %d\\n\", bit_a, bit_b, bit_a | bit_b);\n",
        "  }\n",
        "  printf(\"\\n bitwise AND operator &\\n \");\n",
        "  for(i=0;i<4;i++)\n",
        "  {\n",
        "    bit_a = i & 1;\n",
        "    bit_b = (i&2) / 2;\n",
        "    printf(\"%d | %d = %d\\n\", bit_a, bit_b, bit_a & bit_b);\n",
        "  }\n",
        "\n",
        "}"
      ],
      "metadata": {
        "id": "-5diWTA8LP6_",
        "colab": {
          "base_uri": "https://localhost:8080/"
        },
        "outputId": "972a238f-845a-4382-f1c5-394a4ef549c9"
      },
      "execution_count": null,
      "outputs": [
        {
          "output_type": "stream",
          "name": "stdout",
          "text": [
            "Writing bitwise.c\n"
          ]
        }
      ]
    },
    {
      "cell_type": "code",
      "source": [
        "!gcc bitwise.c\n",
        "!./a.out"
      ],
      "metadata": {
        "colab": {
          "base_uri": "https://localhost:8080/"
        },
        "id": "qFnMZbGjH4CM",
        "outputId": "019dc666-f861-42e7-8702-0060991571bb"
      },
      "execution_count": null,
      "outputs": [
        {
          "output_type": "stream",
          "name": "stdout",
          "text": [
            "bitwise OR operator | \n",
            "0 | 0 = 0\n",
            "1 | 0 = 1\n",
            "0 | 1 = 1\n",
            "1 | 1 = 1\n",
            "\n",
            " bitwise AND operator &\n",
            " 0 | 0 = 0\n",
            "1 | 0 = 0\n",
            "0 | 1 = 0\n",
            "1 | 1 = 1\n"
          ]
        }
      ]
    },
    {
      "cell_type": "code",
      "source": [
        "%%writefile fnctl_flags.c\n",
        "#include <stdio.h>\n",
        "#include <fcntl.h>\n",
        "\n",
        "void display_flags(char*, unsigned int );\n",
        "void binary_print(unsigned int);\n",
        "\n",
        "int main(int argc, char* argv[])\n",
        "{\n",
        "    display_flags(\"O_RDONLY\\t\\t\", O_RDONLY );\n",
        "    display_flags(\"O_WRONLY\\t\\t\", O_WRONLY);\n",
        "    display_flags(\"O_RDWR\\t\\t\\t\", O_RDWR);\n",
        "    printf(\"\\n\");\n",
        "    display_flags(\"O_APPEND\\t\\t\", O_APPEND);\n",
        "    display_flags(\"O_TRUNC\\t\\t\\t\", O_TRUNC);\n",
        "    display_flags(\"O_CREAT\\t\\t\\t\", O_CREAT);\n",
        "    printf(\"\\n\");\n",
        " display_flags(\"O_WRONLY|O_APPEND|O_CREAT\", O_WRONLY|O_APPEND|O_CREAT);\n",
        "}\n",
        "\n",
        "void display_flags(char *label, unsigned int value) {\n",
        " printf(\"%s\\t: %d\\t:\", label, value);\n",
        " binary_print(value);\n",
        " printf(\"\\n\");\n",
        "}\n",
        "\n",
        "void binary_print(unsigned int value)\n",
        "{\n",
        "    unsigned int mask = 0xff000000; // mask the highest byte\n",
        "    unsigned int shift = 256*256*256;\n",
        "    unsigned int byte_iterator,byte,bit_iterator;\n",
        "    for (byte_iterator=0;byte_iterator<4;byte_iterator++)\n",
        "    {\n",
        "          byte = (value & mask) / shift;\n",
        "\n",
        "          printf(\" \");\n",
        "          // cool logic\n",
        "          for (bit_iterator = 0;bit_iterator<8;bit_iterator++)\n",
        "          {\n",
        "              if (byte & 0x80)\n",
        "              printf(\"1\");\n",
        "              else\n",
        "              printf(\"0\");\n",
        "              byte*=2;\n",
        "          }\n",
        "          mask /= 256;\n",
        "          shift /= 256;\n",
        "\n",
        "    }\n",
        "}\n"
      ],
      "metadata": {
        "colab": {
          "base_uri": "https://localhost:8080/"
        },
        "id": "8SSSMvYxH8gJ",
        "outputId": "6fa136f5-9630-4c69-93d7-062558ee876c"
      },
      "execution_count": null,
      "outputs": [
        {
          "output_type": "stream",
          "name": "stdout",
          "text": [
            "Overwriting fnctl_flags.c\n"
          ]
        }
      ]
    },
    {
      "cell_type": "code",
      "source": [
        "!gcc fnctl_flags.c\n",
        "!./a.out"
      ],
      "metadata": {
        "colab": {
          "base_uri": "https://localhost:8080/"
        },
        "id": "4ZvCQaaQQLvZ",
        "outputId": "6e8ef719-d732-44a2-a559-8a652c5121a0"
      },
      "execution_count": null,
      "outputs": [
        {
          "output_type": "stream",
          "name": "stdout",
          "text": [
            "O_RDONLY\t\t\t: 0\t: 00000000 00000000 00000000 00000000\n",
            "O_WRONLY\t\t\t: 1\t: 00000000 00000000 00000000 00000001\n",
            "O_RDWR\t\t\t\t: 2\t: 00000000 00000000 00000000 00000010\n",
            "\n",
            "O_APPEND\t\t\t: 1024\t: 00000000 00000000 00000100 00000000\n",
            "O_TRUNC\t\t\t\t: 512\t: 00000000 00000000 00000010 00000000\n",
            "O_CREAT\t\t\t\t: 64\t: 00000000 00000000 00000000 01000000\n",
            "\n",
            "O_WRONLY|O_APPEND|O_CREAT\t: 1089\t: 00000000 00000000 00000100 01000001\n"
          ]
        }
      ]
    },
    {
      "cell_type": "code",
      "source": [
        "!ls -l /etc/passwd simplenote*\n"
      ],
      "metadata": {
        "colab": {
          "base_uri": "https://localhost:8080/"
        },
        "id": "kUIXjXkHQQkh",
        "outputId": "75f6e4bb-19fb-4040-f412-62ca2ecc6010"
      },
      "execution_count": null,
      "outputs": [
        {
          "output_type": "stream",
          "name": "stdout",
          "text": [
            "-rw-r--r-- 1 root root  1139 Mar 26 13:16 /etc/passwd\n",
            "-rwxr-xr-x 1 root root 16536 Mar 28 13:38 simplenote\n",
            "-rw-r--r-- 1 root root  1713 Mar 28 13:38 simplenote.c\n"
          ]
        }
      ]
    },
    {
      "cell_type": "markdown",
      "source": [
        "if we want to give read permission for a user/group/other, we need to set 100 (4) , for write it is 2, 010 and for execute , 1 (001).Since these are unique bits, we can combine them with BITWISE OR. so, to set rwx for user, read , write for group and execute for read for others,  it is 764"
      ],
      "metadata": {
        "id": "LCCTOps1UB-b"
      }
    },
    {
      "cell_type": "code",
      "source": [
        "!chmod 731 simplenote.c"
      ],
      "metadata": {
        "id": "xwROAa7bUBJQ"
      },
      "execution_count": null,
      "outputs": []
    },
    {
      "cell_type": "code",
      "source": [
        "!ls -l simplenote.c"
      ],
      "metadata": {
        "colab": {
          "base_uri": "https://localhost:8080/"
        },
        "id": "R7UqJufaSF5Q",
        "outputId": "93a6678d-ed37-404d-f711-bb1a041d6891"
      },
      "execution_count": null,
      "outputs": [
        {
          "output_type": "stream",
          "name": "stdout",
          "text": [
            "-rwx-wx--x 1 root root 1713 Mar 28 13:38 simplenote.c\n"
          ]
        }
      ]
    },
    {
      "cell_type": "code",
      "source": [
        "!uid root\n"
      ],
      "metadata": {
        "colab": {
          "base_uri": "https://localhost:8080/"
        },
        "id": "IiqcPP-4Us8B",
        "outputId": "fa10f9d9-25f2-4789-9244-6a4d27411bf8"
      },
      "execution_count": null,
      "outputs": [
        {
          "output_type": "stream",
          "name": "stdout",
          "text": [
            "/bin/bash: line 1: uid: command not found\n"
          ]
        }
      ]
    },
    {
      "cell_type": "code",
      "source": [
        "!id root\n"
      ],
      "metadata": {
        "colab": {
          "base_uri": "https://localhost:8080/"
        },
        "id": "FMCGipm2ZOt1",
        "outputId": "21f9836c-7d75-4132-cdbb-d60402e04d80"
      },
      "execution_count": null,
      "outputs": [
        {
          "output_type": "stream",
          "name": "stdout",
          "text": [
            "uid=0(root) gid=0(root) groups=0(root)\n"
          ]
        }
      ]
    },
    {
      "cell_type": "code",
      "source": [
        "!id user"
      ],
      "metadata": {
        "colab": {
          "base_uri": "https://localhost:8080/"
        },
        "id": "EK-ggGk1ZQ2v",
        "outputId": "60e73e7c-e7f7-4259-c4a0-3d947bcdbecf"
      },
      "execution_count": null,
      "outputs": [
        {
          "output_type": "stream",
          "name": "stdout",
          "text": [
            "id: ‘user’: no such user\n"
          ]
        }
      ]
    },
    {
      "cell_type": "code",
      "source": [
        "!sudo su div"
      ],
      "metadata": {
        "colab": {
          "base_uri": "https://localhost:8080/"
        },
        "id": "eo0OXzORZTO_",
        "outputId": "b769690d-3d11-4d17-9ae7-11b12364b60b"
      },
      "execution_count": null,
      "outputs": [
        {
          "output_type": "stream",
          "name": "stdout",
          "text": [
            "su: user div does not exist or the user entry does not contain all the required fields\n"
          ]
        }
      ]
    },
    {
      "cell_type": "code",
      "source": [
        "!which chsh"
      ],
      "metadata": {
        "colab": {
          "base_uri": "https://localhost:8080/"
        },
        "id": "dgPP7muwZvqF",
        "outputId": "d25acc39-3e6c-45dd-f39d-e6e85003d640"
      },
      "execution_count": null,
      "outputs": [
        {
          "output_type": "stream",
          "name": "stdout",
          "text": [
            "/usr/bin/chsh\n"
          ]
        }
      ]
    },
    {
      "cell_type": "code",
      "source": [
        "!ls /usr/bin/chsh"
      ],
      "metadata": {
        "id": "i8WEXYquaN29",
        "colab": {
          "base_uri": "https://localhost:8080/"
        },
        "outputId": "94db0fa6-1f16-4b4f-b40f-7ef91fb423fd"
      },
      "execution_count": null,
      "outputs": [
        {
          "output_type": "stream",
          "name": "stdout",
          "text": [
            "/usr/bin/chsh\n"
          ]
        }
      ]
    },
    {
      "cell_type": "code",
      "source": [
        "!ls -l /usr/bin/chsh"
      ],
      "metadata": {
        "colab": {
          "base_uri": "https://localhost:8080/"
        },
        "id": "Uk7vDBvVrf91",
        "outputId": "90c6538a-05b5-4d40-a6fc-1276f60c768b"
      },
      "execution_count": null,
      "outputs": [
        {
          "output_type": "stream",
          "name": "stdout",
          "text": [
            "-rwsr-xr-x 1 root root 44808 Nov 24  2022 /usr/bin/chsh\n"
          ]
        }
      ]
    },
    {
      "cell_type": "code",
      "source": [
        "%%writefile uid_demo.c\n",
        "#include <stdio.h>\n",
        "\n",
        "int main()\n",
        "{\n",
        "  printf(\"real id : %d\\n\", getuid());\n",
        "  printf(\"effective id : %d\\n\", geteuid());\n",
        "}"
      ],
      "metadata": {
        "colab": {
          "base_uri": "https://localhost:8080/"
        },
        "id": "RdHtFfL7rjrM",
        "outputId": "85dbed8f-36fc-42db-f8d9-76b57d29cd4f"
      },
      "execution_count": null,
      "outputs": [
        {
          "output_type": "stream",
          "name": "stdout",
          "text": [
            "Writing uid_demo.c\n"
          ]
        }
      ]
    },
    {
      "cell_type": "code",
      "source": [
        "!gcc uid_demo.c -o uid_demo"
      ],
      "metadata": {
        "colab": {
          "base_uri": "https://localhost:8080/"
        },
        "id": "5ChdYw0EHaBZ",
        "outputId": "4aa74857-09e7-4478-8f89-5539c0ec146e"
      },
      "execution_count": null,
      "outputs": [
        {
          "output_type": "stream",
          "name": "stdout",
          "text": [
            "\u001b[01m\u001b[Kuid_demo.c:\u001b[m\u001b[K In function ‘\u001b[01m\u001b[Kmain\u001b[m\u001b[K’:\n",
            "\u001b[01m\u001b[Kuid_demo.c:5:28:\u001b[m\u001b[K \u001b[01;35m\u001b[Kwarning: \u001b[m\u001b[Kimplicit declaration of function ‘\u001b[01m\u001b[Kgetuid\u001b[m\u001b[K’ [\u001b[01;35m\u001b[K\u001b]8;;https://gcc.gnu.org/onlinedocs/gcc/Warning-Options.html#index-Wimplicit-function-declaration\u0007-Wimplicit-function-declaration\u001b]8;;\u0007\u001b[m\u001b[K]\n",
            "    5 |   printf(\"real id : %d\\n\", \u001b[01;35m\u001b[Kgetuid\u001b[m\u001b[K());\n",
            "      |                            \u001b[01;35m\u001b[K^~~~~~\u001b[m\u001b[K\n",
            "\u001b[01m\u001b[Kuid_demo.c:6:33:\u001b[m\u001b[K \u001b[01;35m\u001b[Kwarning: \u001b[m\u001b[Kimplicit declaration of function ‘\u001b[01m\u001b[Kgeteuid\u001b[m\u001b[K’ [\u001b[01;35m\u001b[K\u001b]8;;https://gcc.gnu.org/onlinedocs/gcc/Warning-Options.html#index-Wimplicit-function-declaration\u0007-Wimplicit-function-declaration\u001b]8;;\u0007\u001b[m\u001b[K]\n",
            "    6 |   printf(\"effective id : %d\\n\", \u001b[01;35m\u001b[Kgeteuid\u001b[m\u001b[K());\n",
            "      |                                 \u001b[01;35m\u001b[K^~~~~~~\u001b[m\u001b[K\n"
          ]
        }
      ]
    },
    {
      "cell_type": "code",
      "source": [
        "!./uid_demo"
      ],
      "metadata": {
        "colab": {
          "base_uri": "https://localhost:8080/"
        },
        "id": "VXpelBlwHeyT",
        "outputId": "9e4c4c72-4e42-4d40-a102-4bfe1b9e9075"
      },
      "execution_count": null,
      "outputs": [
        {
          "output_type": "stream",
          "name": "stdout",
          "text": [
            "real id : 0\n",
            "effective id : 0\n"
          ]
        }
      ]
    },
    {
      "cell_type": "code",
      "source": [
        "!sudo chown root:root ./uid_demo"
      ],
      "metadata": {
        "id": "eeYyNIOLHtpW"
      },
      "execution_count": null,
      "outputs": []
    },
    {
      "cell_type": "code",
      "source": [
        "!./uid_demo\n"
      ],
      "metadata": {
        "colab": {
          "base_uri": "https://localhost:8080/"
        },
        "id": "W1k_qS0yS2xt",
        "outputId": "936aacad-0ad9-4d66-bd9e-832f78ac536f"
      },
      "execution_count": null,
      "outputs": [
        {
          "output_type": "stream",
          "name": "stdout",
          "text": [
            "real id : 0\n",
            "effective id : 0\n"
          ]
        }
      ]
    },
    {
      "cell_type": "markdown",
      "source": [
        "If a program's ownership is root, we must use sudo command to change file permissions etc\n"
      ],
      "metadata": {
        "id": "VkjMM8stUcCK"
      }
    },
    {
      "cell_type": "code",
      "source": [
        "%%writefile hacking.h\n",
        "// a function to display error message and exit\n",
        "void fatal(char* message)\n",
        "{\n",
        "  char error_message[100];\n",
        "  strcpy(error_message,\"[!] Fatal error \");\n",
        "  strncat(error_message, message, 83);\n",
        "  perror(error_message);\n",
        "  exit(-1);\n",
        "}\n",
        "void *ec_malloc(unsigned int size)\n",
        "{\n",
        "  void* ptr;\n",
        "  ptr = malloc(size);\n",
        "  if (ptr == NULL)\n",
        "  {\n",
        "    fatal(\"in ec_malloc() of memory allocation \\n\");\n",
        "  }\n",
        "}"
      ],
      "metadata": {
        "id": "l_-8Qc6xS5ao",
        "colab": {
          "base_uri": "https://localhost:8080/"
        },
        "outputId": "9f92936b-0261-468f-eaf2-42a8c60e7501"
      },
      "execution_count": 2,
      "outputs": [
        {
          "output_type": "stream",
          "name": "stdout",
          "text": [
            "Writing hacking.h\n"
          ]
        }
      ]
    },
    {
      "cell_type": "code",
      "source": [
        "%%writefile time_example.c\n",
        "#include <stdio.h>\n",
        "#include <time.h>\n",
        "int main()\n",
        "{\n",
        "  long int seconds_since_epoch;\n",
        "  struct tm current_time, *tm_ptr;\n",
        "  int hour, minute, second, day, month,year;\n",
        "  seconds_since_epoch = time(0); // pass NULLPTR to time function\n",
        "  printf(\"time() seconds sinces epoch : %ld\\n\", seconds_since_epoch);\n",
        "\n",
        "  tm_ptr = &current_time;\n",
        "  localtime_r(&seconds_since_epoch, tm_ptr);\n",
        "  hour = current_time.tm_hour;\n",
        "  minute = tm_ptr->tm_min;\n",
        "  second = current_time.tm_sec;\n",
        "  int second2 = *((int*)tm_ptr);\n",
        "\n",
        "  printf(\"current time is %02d:%02d:%02d\\n\", hour, minute, second);\n",
        "}"
      ],
      "metadata": {
        "colab": {
          "base_uri": "https://localhost:8080/"
        },
        "id": "FOFi778_swLa",
        "outputId": "f110c273-4e00-4b2d-af82-82936200bcc9"
      },
      "execution_count": 15,
      "outputs": [
        {
          "output_type": "stream",
          "name": "stdout",
          "text": [
            "Overwriting time_example.c\n"
          ]
        }
      ]
    },
    {
      "cell_type": "code",
      "source": [
        "!gcc time_example.c"
      ],
      "metadata": {
        "id": "T7Yo3q2MgxxZ"
      },
      "execution_count": 16,
      "outputs": []
    },
    {
      "cell_type": "code",
      "source": [
        "!./a.out"
      ],
      "metadata": {
        "colab": {
          "base_uri": "https://localhost:8080/"
        },
        "id": "ZcBMBOHUg0oC",
        "outputId": "f4941386-aebd-4738-a297-da7f7c6ecc8e"
      },
      "execution_count": 17,
      "outputs": [
        {
          "output_type": "stream",
          "name": "stdout",
          "text": [
            "time() seconds sinces epoch : 1713349590\n",
            "current time is 10:26:30\n"
          ]
        }
      ]
    },
    {
      "cell_type": "code",
      "source": [
        "%%writefile time_example2.c\n",
        "#include <stdio.h>\n",
        "#include <time.h>\n",
        "\n",
        "void dump_struct_bytes(struct tm *time_ptr, int size)\n",
        "{\n",
        "  int i;\n",
        "  unsigned char *raw_ptr;\n",
        "  printf(\"bytes of struct located at %p\\n\", time_ptr);\n",
        "  raw_ptr= (unsigned char*) time_ptr;\n",
        "  for(i=0;i<size;i++)\n",
        "  {\n",
        "    printf(\"%02x \", raw_ptr[i]);\n",
        "    if (i%16 == 15)\n",
        "    {\n",
        "      printf(\"\\n\");\n",
        "    }\n",
        "  }\n",
        "  printf(\"\\n\");\n",
        "}\n",
        "\n",
        "int main()\n",
        "{\n",
        "  long int seconds_since_epoch;\n",
        "  struct tm current_time, *time_ptr;\n",
        "  int hour, minute, second, i, *int_ptr;\n",
        "  seconds_since_epoch = time(0);\n",
        "  printf(\"time() - seconds since epoch : %ld\\n\", seconds_since_epoch);\n",
        "  time_ptr = &current_time;\n",
        "  localtime_r(&seconds_since_epoch, time_ptr);\n",
        "  hour = current_time.tm_hour;\n",
        "  minute = time_ptr->tm_min;\n",
        "  second = * ((int* ) time_ptr);\n",
        "  printf(\"Current time is %02d:%02d:%02d\\n\", hour, minute, second);\n",
        "\n",
        "  dump_struct_bytes(time_ptr, sizeof(struct tm));\n",
        "  minute = hour = 0;\n",
        "  int_ptr = (int*) time_ptr;\n",
        "  for (i=0; i<3;i++)\n",
        "  {\n",
        "    printf(\"int ptr @ %p: %d\\n\", int_ptr, *int_ptr);\n",
        "    int_ptr++;\n",
        "\n",
        "  }\n",
        "\n",
        "}"
      ],
      "metadata": {
        "colab": {
          "base_uri": "https://localhost:8080/"
        },
        "id": "Sa7ZVMgGg9wz",
        "outputId": "9773c2e4-4c34-44b2-bf99-8ee021e7f3f0"
      },
      "execution_count": 25,
      "outputs": [
        {
          "output_type": "stream",
          "name": "stdout",
          "text": [
            "Overwriting time_example2.c\n"
          ]
        }
      ]
    },
    {
      "cell_type": "code",
      "source": [
        "!gcc time_example2.c"
      ],
      "metadata": {
        "id": "T80EjUf2ATtG"
      },
      "execution_count": 26,
      "outputs": []
    },
    {
      "cell_type": "code",
      "source": [
        "!./a.out"
      ],
      "metadata": {
        "colab": {
          "base_uri": "https://localhost:8080/"
        },
        "id": "Ny1CS3vQAWZO",
        "outputId": "eee8a5ac-5c66-406b-979c-fb5a0d9ed194"
      },
      "execution_count": 27,
      "outputs": [
        {
          "output_type": "stream",
          "name": "stdout",
          "text": [
            "time() - seconds since epoch : 1713356549\n",
            "Current time is 12:22:29\n",
            "bytes of struct located at 0x7ffe3f27e670\n",
            "1d 00 00 00 16 00 00 00 0c 00 00 00 11 00 00 00 \n",
            "03 00 00 00 7c 00 00 00 03 00 00 00 6b 00 00 00 \n",
            "00 00 00 00 00 00 00 00 00 00 00 00 00 00 00 00 \n",
            "c0 a8 0e 07 01 56 00 00 \n",
            "int ptr @ 0x7ffe3f27e670: 29\n",
            "int ptr @ 0x7ffe3f27e674: 22\n",
            "int ptr @ 0x7ffe3f27e678: 12\n"
          ]
        }
      ]
    },
    {
      "cell_type": "code",
      "source": [
        "#function pointers\n",
        "%%writefile funcptr_example.c\n",
        "#include <stdio.h>\n",
        "\n",
        "int func_one()\n",
        "{\n",
        "  printf(\"This is function one!\\n\");\n",
        "  return 1;\n",
        "}\n",
        "\n",
        "int func_two()\n",
        "{\n",
        "  printf(\"This is funtion two!\\n\");\n",
        "  return 2;\n",
        "}\n",
        "\n",
        "int main()\n",
        "{\n",
        "  int (*func_ptr) ();\n",
        "  int value;\n",
        "  func_ptr = func_one;\n",
        "  value = func_ptr();\n",
        "  printf(\"value = %d\\n\", value);\n",
        "  value = func_two();\n",
        "  printf(\"value = %d\\n\",value);\n",
        "  return 0;\n",
        "}"
      ],
      "metadata": {
        "colab": {
          "base_uri": "https://localhost:8080/"
        },
        "id": "twdKY-MeAXW2",
        "outputId": "484afdf5-5059-4978-d431-929341063359"
      },
      "execution_count": 4,
      "outputs": [
        {
          "output_type": "stream",
          "name": "stdout",
          "text": [
            "Overwriting funcptr_example.c\n"
          ]
        }
      ]
    },
    {
      "cell_type": "code",
      "source": [
        "!gcc funcptr_example.c"
      ],
      "metadata": {
        "id": "2deAlETPmzca"
      },
      "execution_count": 5,
      "outputs": []
    },
    {
      "cell_type": "code",
      "source": [
        "!./a.out"
      ],
      "metadata": {
        "colab": {
          "base_uri": "https://localhost:8080/"
        },
        "id": "ZWRucCOPm1dR",
        "outputId": "d0c67956-cc0f-46f0-b0ac-fc856a38b2de"
      },
      "execution_count": 6,
      "outputs": [
        {
          "output_type": "stream",
          "name": "stdout",
          "text": [
            "This is function one!\n",
            "value = 1\n",
            "This is funtion two!\n",
            "value = 2\n"
          ]
        }
      ]
    },
    {
      "cell_type": "code",
      "source": [
        "#pseudo random numbers\n",
        "%%writefile pseudo_numbers.c\n",
        "\n",
        "#include <stdio.h>\n",
        "#include <stdlib.h> // contains rand functions and variables\n",
        "\n",
        "int main()\n",
        "{\n",
        "  int i;\n",
        "  printf(\"RANDMAX is %u\\n\" , RAND_MAX);\n",
        "  srand(time(0)); // seed given to srand() which is used to generate random numbers - for a given seed, it will generate a sequence of random numbers\n",
        "  printf(\"random values from 0 to RAND_MAX\\n\");\n",
        "  for (i=0;i<8;i++)\n",
        "  {\n",
        "    printf(\"%d\\n\", rand());\n",
        "  }\n",
        "  printf(\"random values from 1 to 20\\n\");\n",
        "  for (i=0;i<8;i++)\n",
        "  {\n",
        "    printf(\"%d\\n\", rand()%20 + 1);\n",
        "  }\n",
        "  return 0;\n",
        "}\n"
      ],
      "metadata": {
        "colab": {
          "base_uri": "https://localhost:8080/"
        },
        "id": "DWHbOZpJm6xI",
        "outputId": "ed318749-d86f-4dbf-f360-cee0dee2912a"
      },
      "execution_count": 7,
      "outputs": [
        {
          "output_type": "stream",
          "name": "stdout",
          "text": [
            "Writing pseudo_numbers.c\n"
          ]
        }
      ]
    },
    {
      "cell_type": "code",
      "source": [
        "!gcc pseudo_numbers.c"
      ],
      "metadata": {
        "colab": {
          "base_uri": "https://localhost:8080/"
        },
        "id": "xL06OyMmte-h",
        "outputId": "59470898-8ed1-42ce-f775-4c971398b239"
      },
      "execution_count": 8,
      "outputs": [
        {
          "output_type": "stream",
          "name": "stdout",
          "text": [
            "\u001b[01m\u001b[Kpseudo_numbers.c:\u001b[m\u001b[K In function ‘\u001b[01m\u001b[Kmain\u001b[m\u001b[K’:\n",
            "\u001b[01m\u001b[Kpseudo_numbers.c:9:9:\u001b[m\u001b[K \u001b[01;35m\u001b[Kwarning: \u001b[m\u001b[Kimplicit declaration of function ‘\u001b[01m\u001b[Ktime\u001b[m\u001b[K’ [\u001b[01;35m\u001b[K\u001b]8;;https://gcc.gnu.org/onlinedocs/gcc/Warning-Options.html#index-Wimplicit-function-declaration\u0007-Wimplicit-function-declaration\u001b]8;;\u0007\u001b[m\u001b[K]\n",
            "    9 |   srand(\u001b[01;35m\u001b[Ktime\u001b[m\u001b[K(0)); // seed given to srand() which is used to generate random numbers - for a given seed, it will generate a sequence of random numbers\n",
            "      |         \u001b[01;35m\u001b[K^~~~\u001b[m\u001b[K\n"
          ]
        }
      ]
    },
    {
      "cell_type": "code",
      "source": [
        "!./a.out"
      ],
      "metadata": {
        "colab": {
          "base_uri": "https://localhost:8080/"
        },
        "id": "3LROb3QNthMy",
        "outputId": "ca35d318-61a1-4ca8-d083-81cec3b26113"
      },
      "execution_count": 9,
      "outputs": [
        {
          "output_type": "stream",
          "name": "stdout",
          "text": [
            "RANDMAX is 2147483647\n",
            "random values from 0 to RAND_MAX\n",
            "496348161\n",
            "1882040695\n",
            "935222413\n",
            "843497655\n",
            "1899491871\n",
            "485829795\n",
            "723788000\n",
            "1392601880\n",
            "random values from 1 to 20\n",
            "9\n",
            "19\n",
            "13\n",
            "11\n",
            "8\n",
            "13\n",
            "18\n",
            "12\n"
          ]
        }
      ]
    },
    {
      "cell_type": "code",
      "source": [
        "#TODO : Game of chance code"
      ],
      "metadata": {
        "id": "GzjasYCmtkbN"
      },
      "execution_count": null,
      "outputs": []
    }
  ]
}